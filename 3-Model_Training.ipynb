{
 "cells": [
  {
   "cell_type": "code",
   "execution_count": 1,
   "metadata": {},
   "outputs": [],
   "source": [
    "### Dependencies ###\n",
    "import fireducks.pandas as pd\n",
    "from sklearn.model_selection import train_test_split\n",
    "from sklearn.preprocessing import OneHotEncoder\n",
    "from sklearn.preprocessing import MinMaxScaler\n",
    "from sklearn.linear_model import LogisticRegression, LogisticRegressionCV\n",
    "from sklearn.metrics import accuracy_score"
   ]
  },
  {
   "cell_type": "code",
   "execution_count": 2,
   "metadata": {},
   "outputs": [],
   "source": [
    "### Train Test Split ###\n",
    "fraud_df = pd.read_csv(\"data/fraud_df_mv_b_nc.csv\")\n",
    "X = fraud_df.drop('fraud_bool',axis=1)\n",
    "y = fraud_df['fraud_bool']\n",
    "X_train, X_test, y_train, y_test = train_test_split(X,y,test_size=0.2,random_state=42)"
   ]
  },
  {
   "cell_type": "code",
   "execution_count": 3,
   "metadata": {},
   "outputs": [
    {
     "data": {
      "text/plain": [
       "175140     0\n",
       "363742     0\n",
       "509826     0\n",
       "225305     0\n",
       "808329     0\n",
       "          ..\n",
       "1048334    1\n",
       "1667681    1\n",
       "699098     0\n",
       "1904411    1\n",
       "468400     0\n",
       "Name: fraud_bool, Length: 395589, dtype: int64"
      ]
     },
     "execution_count": 3,
     "metadata": {},
     "output_type": "execute_result"
    }
   ],
   "source": [
    "### Viewing results ###\n",
    "# X.head()\n",
    "# y_test"
   ]
  },
  {
   "cell_type": "code",
   "execution_count": 3,
   "metadata": {},
   "outputs": [],
   "source": [
    "### Feature Engineering ###\n",
    "\n",
    "categorical = [col for col in X_train.columns if X_train[col].dtypes == 'object']\n",
    "numerical = [col for col in X_train.columns if X_train[col].dtypes != 'object']"
   ]
  },
  {
   "cell_type": "code",
   "execution_count": 4,
   "metadata": {},
   "outputs": [],
   "source": [
    "### Encoding categorical variables ###\n",
    "# anonimized data => nominal categorical variables, not that much dimensions => one-hot-encoding\n",
    "encoder = OneHotEncoder(sparse_output=False)\n",
    "X_train_cat = encoder.fit_transform(X_train[categorical])\n",
    "encoder_col_names = encoder.get_feature_names_out(categorical)\n",
    "X_test_cat = encoder.transform(X_test[categorical])"
   ]
  },
  {
   "cell_type": "code",
   "execution_count": 5,
   "metadata": {},
   "outputs": [],
   "source": [
    "### Scaling Data ###\n",
    "# Regularization based algo => scaling to help efficient convergence\n",
    "scaler = MinMaxScaler()\n",
    "X_train_num = scaler.fit_transform(X_train[numerical])\n",
    "X_test_num = scaler.transform(X_test[numerical])"
   ]
  },
  {
   "cell_type": "code",
   "execution_count": 6,
   "metadata": {},
   "outputs": [],
   "source": [
    "### Regrouping data ###\n",
    "\n",
    "X_train = pd.concat([pd.DataFrame(X_train_cat,columns=encoder_col_names),pd.DataFrame(X_train_num,columns=numerical)],axis=1)\n",
    "X_test = pd.concat([pd.DataFrame(X_test_cat,columns=encoder_col_names),pd.DataFrame(X_test_num,columns=numerical)],axis=1)"
   ]
  },
  {
   "cell_type": "code",
   "execution_count": 7,
   "metadata": {},
   "outputs": [],
   "source": [
    "### Model Training ###\n",
    "\n",
    "logreg_liblinear = LogisticRegression(solver='liblinear', random_state=42) # small dataset : liblinear might be a good choice ... more than 30 seconds\n",
    "logreg_cholesky = LogisticRegression(solver='newton-cholesky', random_state=42) # good results and around 10 secs\n",
    "logreg_lbfgs = LogisticRegression(solver='lbfgs', random_state=42) # same results around 14 secs\n",
    "logreg_cg = LogisticRegression(solver='newton-cg', random_state=42) # kernel always crashes ...\n",
    "logreg_sag = LogisticRegression(solver='sag', random_state=42) # more than 30 seconds\n"
   ]
  },
  {
   "cell_type": "code",
   "execution_count": 9,
   "metadata": {},
   "outputs": [
    {
     "data": {
      "text/plain": [
       "fraud_bool\n",
       "0    988971\n",
       "1    988971\n",
       "Name: count, dtype: int64"
      ]
     },
     "execution_count": 9,
     "metadata": {},
     "output_type": "execute_result"
    }
   ],
   "source": [
    "### Basic Classifier to Compare to : One that always say True => 50% accuracy ###\n",
    "# y.value_counts()"
   ]
  },
  {
   "cell_type": "code",
   "execution_count": 8,
   "metadata": {},
   "outputs": [],
   "source": [
    "### Predicting results ###\n",
    "def model_evaluation(model,X_train,y_train,X_test,y_test):\n",
    "    model.fit(X_train,y_train)\n",
    "    y_pred_test = model.predict(X_test)\n",
    "    y_pred_train = model.predict(X_train)\n",
    "    print('Test-set Model accuracy score: {0:0.4f}'. format(accuracy_score(y_test, y_pred_test)))\n",
    "    print('Training-set Model accuracy score: {0:0.4f}'. format(accuracy_score(y_train, y_pred_train)))"
   ]
  },
  {
   "cell_type": "code",
   "execution_count": 9,
   "metadata": {},
   "outputs": [
    {
     "name": "stdout",
     "output_type": "stream",
     "text": [
      "Test-set Model accuracy score: 0.7950\n",
      "Training-set Model accuracy score: 0.7950\n"
     ]
    }
   ],
   "source": [
    "### Newton-Cholesky Solver ###\n",
    "model_evaluation(logreg_cholesky,X_train,y_train,X_test,y_test) # Much quicker with same performance (logic according to sklearn documentation)"
   ]
  },
  {
   "cell_type": "code",
   "execution_count": 12,
   "metadata": {},
   "outputs": [],
   "source": [
    "### Cross Validation ###\n",
    "# Test set around 400K rows, let's use folders with app the same dimensions (cf scenario replication)\n",
    "# logreg_cv_cholesky = LogisticRegressionCV(cv=4,solver='newton-cholesky',random_state=42)\n",
    "# logreg_cv_cholesky.fit(X_train,y_train) # always crashes ... no amelioration possible with the current calculation power"
   ]
  }
 ],
 "metadata": {
  "kernelspec": {
   "display_name": "fd",
   "language": "python",
   "name": "python3"
  },
  "language_info": {
   "codemirror_mode": {
    "name": "ipython",
    "version": 3
   },
   "file_extension": ".py",
   "mimetype": "text/x-python",
   "name": "python",
   "nbconvert_exporter": "python",
   "pygments_lexer": "ipython3",
   "version": "3.11.10"
  }
 },
 "nbformat": 4,
 "nbformat_minor": 2
}
