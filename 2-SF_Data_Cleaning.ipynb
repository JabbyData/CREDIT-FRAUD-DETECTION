{
 "cells": [
  {
   "cell_type": "code",
   "execution_count": 109,
   "metadata": {},
   "outputs": [],
   "source": [
    "### Dependencies ###\n",
    "\n",
    "# Snowpark for Python\n",
    "from snowflake.snowpark import Session\n",
    "from snowflake.snowpark.version import VERSION\n",
    "\n",
    "# Snowpark ML\n",
    "from snowflake.snowpark.functions import col, count, when, mean, lit, corr\n",
    "from snowflake.snowpark.types import StringType, LongType\n",
    "\n",
    "# Workflow\n",
    "import json"
   ]
  },
  {
   "cell_type": "code",
   "execution_count": 9,
   "metadata": {},
   "outputs": [
    {
     "name": "stdout",
     "output_type": "stream",
     "text": [
      "------------------------------------------------------------------------------------------------------------------------------------------------------------------------------------------------------------------------------------------------------------------------------------------------------------------------------------------------------------------------------------------------------------------------------------------------------------------------------------------------------------------------------------------------------------------------------------------------------------------------------------------------------------------------------------------------------\n",
      "|\"FRAUD_BOOL\"  |\"INCOME\"  |\"NAME_EMAIL_SIMILARITY\"  |\"PREV_ADRESS_MONTH_COUNT\"  |\"CURRENT_ADRESS_MONTH_COUNT\"  |\"CUSTOMER_AGE\"  |\"DAYS_SINCE_REQUEST\"  |\"INTENDED_BALCON_AMOUNT\"  |\"PAYMENT_TYPE\"  |\"ZIP_COUNT_4W\"  |\"VELOCITY_6H\"  |\"VELOCITY_24H\"  |\"VELOCITY_4W\"  |\"BANK_BRANCH_COUNT_8W\"  |\"DATE_OF_BIRTH_DISTINCT_EMAILS_4W\"  |\"EMPLOYMENT_STATUS\"  |\"CREDIT_RISK_SCORE\"  |\"EMAIL_IS_FREE\"  |\"HOUSING_STATUS\"  |\"PHONE_HOME_VALID\"  |\"PHONE_MOBILE_VALID\"  |\"BANK_MONTHS_COUNT\"  |\"HAS_OTHER_CARDS\"  |\"PROPOSED_CREDIT_LIMIT\"  |\"FOREIGN_REQUEST\"  |\"SOURCE\"  |\"SESSION_LENGTH_IN_MINUTES\"  |\"DEVICE_OS\"  |\"KEEP_ALIVE_SESSION\"  |\"DEVICE_DISTINCT_EMAILS_8W\"  |\"DEVICE_FRAUD_COUNT\"  |\"MONTH\"  |\n",
      "------------------------------------------------------------------------------------------------------------------------------------------------------------------------------------------------------------------------------------------------------------------------------------------------------------------------------------------------------------------------------------------------------------------------------------------------------------------------------------------------------------------------------------------------------------------------------------------------------------------------------------------------------------------------------------------------------\n",
      "|0             |0         |1                        |-1                         |25                            |40              |0                     |102                       |AA              |1059            |13096          |7851            |6742           |5                       |5                                   |CB                   |163                  |1                |BC                |0                   |1                     |9                    |0                  |1500                     |0                  |INTERNET  |16                           |linux        |1                     |1                            |0                     |0        |\n",
      "|0             |1         |1                        |-1                         |89                            |20              |0                     |-1                        |AD              |1658            |9223           |5745            |5942           |3                       |18                                  |CA                   |154                  |1                |BC                |1                   |1                     |2                    |0                  |1500                     |0                  |INTERNET  |3                            |other        |1                     |1                            |0                     |0        |\n",
      "|0             |1         |1                        |9                          |14                            |40              |0                     |-1                        |AB              |1095            |4471           |5472            |5993           |15                      |11                                  |CA                   |89                   |1                |BC                |0                   |1                     |30                   |0                  |200                      |0                  |INTERNET  |23                           |windows      |0                     |1                            |0                     |0        |\n",
      "|0             |1         |0                        |11                         |14                            |30              |0                     |-2                        |AB              |3483            |14432          |6755            |5970           |11                      |13                                  |CA                   |90                   |1                |BC                |0                   |1                     |1                    |0                  |200                      |0                  |INTERNET  |15                           |linux        |1                     |1                            |0                     |0        |\n",
      "|0             |1         |1                        |-1                         |29                            |40              |6                     |47                        |AA              |2339            |7602           |5124            |5941           |1                       |6                                   |CA                   |91                   |0                |BC                |1                   |1                     |26                   |0                  |200                      |0                  |INTERNET  |4                            |other        |0                     |1                            |0                     |0        |\n",
      "|0             |1         |0                        |-1                         |369                           |30              |0                     |-1                        |AD              |1204            |11557          |7507            |6483           |705                     |5                                   |CB                   |134                  |1                |BE                |1                   |1                     |30                   |0                  |200                      |0                  |INTERNET  |7                            |linux        |1                     |1                            |0                     |0        |\n",
      "|0             |0         |1                        |22                         |4                             |40              |0                     |-1                        |AB              |1998            |11724          |7864            |6339           |28                      |8                                   |CA                   |72                   |1                |BC                |1                   |1                     |1                    |0                  |200                      |0                  |INTERNET  |28                           |x11          |1                     |1                            |0                     |0        |\n",
      "|0             |1         |0                        |-1                         |103                           |40              |0                     |-1                        |AB              |1548            |5000           |4527            |6427           |6                       |7                                   |CA                   |163                  |0                |BE                |1                   |1                     |25                   |1                  |200                      |0                  |INTERNET  |11                           |other        |1                     |1                            |0                     |0        |\n",
      "|0             |0         |1                        |21                         |2                             |30              |0                     |-1                        |AB              |1781            |6980           |4336            |6625           |2                       |10                                  |CA                   |35                   |0                |BC                |1                   |0                     |2                    |0                  |200                      |0                  |INTERNET  |5                            |other        |1                     |1                            |0                     |0        |\n",
      "|0             |1         |1                        |-1                         |134                           |20              |0                     |-1                        |AD              |3113            |7550           |6274            |6313           |14                      |20                                  |CA                   |201                  |1                |BD                |1                   |1                     |15                   |0                  |1500                     |0                  |INTERNET  |4                            |other        |1                     |1                            |0                     |0        |\n",
      "------------------------------------------------------------------------------------------------------------------------------------------------------------------------------------------------------------------------------------------------------------------------------------------------------------------------------------------------------------------------------------------------------------------------------------------------------------------------------------------------------------------------------------------------------------------------------------------------------------------------------------------------------------------------------------------------------\n",
      "\n"
     ]
    }
   ],
   "source": [
    "### Secured connection to Snowflake ###\n",
    "connection_parameters = json.load(open('connection.json'))\n",
    "session = Session.builder.configs(connection_parameters).create()\n",
    "session.sql_simplifier_enabled = True\n",
    "\n",
    "database = 'FRAUD_DETECT_DB'\n",
    "schema = 'FRAUD_DETECT_SM'\n",
    "table = 'FRAUD_DATA'\n",
    "input_tbl = f\"{database}.{schema}.{table}\"\n",
    "fraud_data = session.table(input_tbl)\n",
    "fraud_data.show()"
   ]
  },
  {
   "cell_type": "markdown",
   "metadata": {},
   "source": [
    "Data Prep Tasks to perform :\n",
    "    - Missing Values\n",
    "        - Drop Column \"prev_address_months_count\"\n",
    "        - Replace all \"-1\" occurences in 'current_address_months_count' with mean value\n",
    "    - Balance dataset\n",
    "        - Oversample lines where fraud_bool = 1\n",
    "    - Eliminates highly correlated features"
   ]
  },
  {
   "cell_type": "code",
   "execution_count": 48,
   "metadata": {},
   "outputs": [],
   "source": [
    "### Missing values\n",
    "\n",
    "def missing_values_snowpark(session, table_name):\n",
    "    \"\"\"\n",
    "    Check for missing values in a Snowflake (Snowpark Version)\n",
    "    \n",
    "    Parameters:\n",
    "    - session (Session) : current session\n",
    "    - connection_parameters (dict): Snowflake connection parameters\n",
    "    - table_name (str): Name of the table to check for missing values\n",
    "    \n",
    "    Output:\n",
    "    - None\n",
    "    \"\"\"\n",
    "    df = session.table(table_name)\n",
    "    column_metadata = df.schema.fields\n",
    "\n",
    "    missing_values = False\n",
    "    for field in column_metadata:\n",
    "        column_name = field.name\n",
    "        data_type = field.datatype\n",
    "\n",
    "        if data_type == StringType:\n",
    "            # String Columns\n",
    "            n_missing_values = df.filter((col(column_name).is_null()) | (col(column_name) == \"\")).count()\n",
    "        elif column_name in ('PREV_ADRESS_MONTH_COUNT', 'CURRENT_ADRESS_MONTH_COUNT'):\n",
    "            # Special cases\n",
    "            n_missing_values = df.filter((col(column_name).is_null()) | (col(column_name) == -1)).count()\n",
    "        else:\n",
    "            # Numerical columns\n",
    "            n_missing_values = df.filter(col(column_name).is_null()).count()\n",
    "        print(f\"Feature {column_name} lacks {n_missing_values} values\")\n",
    "    if missing_values:\n",
    "        print(\"Values are missing, please check details!\")\n",
    "    else:\n",
    "        print(\"No missing values, great!\")\n",
    "    "
   ]
  },
  {
   "cell_type": "code",
   "execution_count": 71,
   "metadata": {},
   "outputs": [
    {
     "name": "stdout",
     "output_type": "stream",
     "text": [
      "Feature FRAUD_BOOL lacks 0 values\n",
      "Feature INCOME lacks 0 values\n",
      "Feature NAME_EMAIL_SIMILARITY lacks 0 values\n",
      "Feature CUSTOMER_AGE lacks 0 values\n",
      "Feature DAYS_SINCE_REQUEST lacks 0 values\n",
      "Feature INTENDED_BALCON_AMOUNT lacks 0 values\n",
      "Feature PAYMENT_TYPE lacks 0 values\n",
      "Feature ZIP_COUNT_4W lacks 0 values\n",
      "Feature VELOCITY_6H lacks 0 values\n",
      "Feature VELOCITY_24H lacks 0 values\n",
      "Feature VELOCITY_4W lacks 0 values\n",
      "Feature BANK_BRANCH_COUNT_8W lacks 0 values\n",
      "Feature DATE_OF_BIRTH_DISTINCT_EMAILS_4W lacks 0 values\n",
      "Feature EMPLOYMENT_STATUS lacks 0 values\n",
      "Feature CREDIT_RISK_SCORE lacks 0 values\n",
      "Feature EMAIL_IS_FREE lacks 0 values\n",
      "Feature HOUSING_STATUS lacks 0 values\n",
      "Feature PHONE_HOME_VALID lacks 0 values\n",
      "Feature PHONE_MOBILE_VALID lacks 0 values\n",
      "Feature BANK_MONTHS_COUNT lacks 0 values\n",
      "Feature HAS_OTHER_CARDS lacks 0 values\n",
      "Feature PROPOSED_CREDIT_LIMIT lacks 0 values\n",
      "Feature FOREIGN_REQUEST lacks 0 values\n",
      "Feature SOURCE lacks 0 values\n",
      "Feature SESSION_LENGTH_IN_MINUTES lacks 0 values\n",
      "Feature DEVICE_OS lacks 0 values\n",
      "Feature KEEP_ALIVE_SESSION lacks 0 values\n",
      "Feature DEVICE_DISTINCT_EMAILS_8W lacks 0 values\n",
      "Feature DEVICE_FRAUD_COUNT lacks 0 values\n",
      "Feature MONTH lacks 0 values\n",
      "Feature CURRENT_ADRESS_MONTH_COUNT lacks 0 values\n",
      "No missing values, great!\n"
     ]
    }
   ],
   "source": [
    "missing_values_snowpark(session,input_tbl)"
   ]
  },
  {
   "cell_type": "code",
   "execution_count": 124,
   "metadata": {},
   "outputs": [],
   "source": [
    "# Dropping near empty column\n",
    "df_missing = fraud_data.drop('PREV_ADRESS_MONTH_COUNT')"
   ]
  },
  {
   "cell_type": "code",
   "execution_count": 125,
   "metadata": {},
   "outputs": [],
   "source": [
    "# Imputing mean value in the near filled column\n",
    "mean_value = df_missing.filter(col('CURRENT_ADRESS_MONTH_COUNT') != -1).select(mean(col('CURRENT_ADRESS_MONTH_COUNT'))).collect()[0][0]\n",
    "df_missing = df_missing.with_column('CURRENT_ADRESS_MONTH_COUNT', \n",
    "                    when(col('CURRENT_ADRESS_MONTH_COUNT') == -1, mean_value)\n",
    "                    .otherwise(col('CURRENT_ADRESS_MONTH_COUNT')))"
   ]
  },
  {
   "cell_type": "code",
   "execution_count": 127,
   "metadata": {},
   "outputs": [],
   "source": [
    "### Handling Imbalances ###\n",
    "class_counts = df_missing.group_by(col('fraud_bool')).agg(count(lit(1)).alias('count')).collect()\n",
    "majority_class = min(class_counts) # associated with the minimal value (0)\n",
    "minority_class = max(class_counts) # associated with the maximal value (1)\n",
    "rows_needed = majority_class['COUNT'] - minority_class['COUNT']\n",
    "minority_class_df = df_missing.filter(col('FRAUD_BOOL') == minority_class['FRAUD_BOOL'])\n",
    "sampled_rows_df = session.create_dataframe([], schema = df_missing.schema)\n",
    "while rows_needed > 0:\n",
    "    sample_size = min(rows_needed, minority_class_df.count())\n",
    "    sampled_rows_df = sampled_rows_df.union_all(minority_class_df.sample(n=sample_size))\n",
    "    rows_needed -= sample_size\n",
    "balanced_df = df_missing.union_all(sampled_rows_df)"
   ]
  },
  {
   "cell_type": "code",
   "execution_count": 128,
   "metadata": {},
   "outputs": [
    {
     "data": {
      "text/plain": [
       "[Row(FRAUD_BOOL=0, COUNT=988971), Row(FRAUD_BOOL=1, COUNT=988971)]"
      ]
     },
     "execution_count": 128,
     "metadata": {},
     "output_type": "execute_result"
    }
   ],
   "source": [
    "balanced_df.group_by(col('fraud_bool')).agg(count(lit(1)).alias('count')).collect()"
   ]
  },
  {
   "cell_type": "markdown",
   "metadata": {},
   "source": [
    "The conversion of the correlation function to Snowpark queries was too costly (long execution time, more than 3 mins), therefore I will refer to the previous analysis locally done using Pandas"
   ]
  },
  {
   "cell_type": "code",
   "execution_count": 129,
   "metadata": {},
   "outputs": [],
   "source": [
    "### Manual Remove of Highly Correlated Features ###\n",
    "# TODO : AUTOMATE PROCESS\n",
    "cleaned_df = balanced_df.drop('MONTH')"
   ]
  }
 ],
 "metadata": {
  "kernelspec": {
   "display_name": "fd",
   "language": "python",
   "name": "python3"
  },
  "language_info": {
   "codemirror_mode": {
    "name": "ipython",
    "version": 3
   },
   "file_extension": ".py",
   "mimetype": "text/x-python",
   "name": "python",
   "nbconvert_exporter": "python",
   "pygments_lexer": "ipython3",
   "version": "3.11.10"
  }
 },
 "nbformat": 4,
 "nbformat_minor": 2
}
