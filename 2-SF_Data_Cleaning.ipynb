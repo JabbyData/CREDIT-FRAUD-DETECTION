{
 "cells": [
  {
   "cell_type": "code",
   "execution_count": 1,
   "metadata": {},
   "outputs": [],
   "source": [
    "### Dependencies ###\n",
    "\n",
    "# Local Processing\n",
    "import fireducks.pandas as pd\n",
    "import numpy as np\n",
    "import plotly.graph_objects as go\n",
    "\n",
    "\n",
    "# Snowpark for Python\n",
    "from snowflake.snowpark import Session\n",
    "from snowflake.snowpark.version import VERSION\n",
    "from snowflake.snowpark.functions import col, count, when, mean, lit, corr\n",
    "from snowflake.snowpark.types import StringType, LongType, DecimalType\n",
    "\n",
    "# Workflow\n",
    "import json\n",
    "\n",
    "# Python\n",
    "from collections import defaultdict as dd"
   ]
  },
  {
   "cell_type": "code",
   "execution_count": 2,
   "metadata": {},
   "outputs": [],
   "source": [
    "### Secured connection to Snowflake ###\n",
    "connection_parameters = json.load(open('connection.json'))\n",
    "session = Session.builder.configs(connection_parameters).create()\n",
    "session.sql_simplifier_enabled = True\n",
    "\n",
    "database = 'FRAUD_DETECT_DB'\n",
    "schema = 'FRAUD_DETECT_SM'\n",
    "table = 'FRAUD_DATA'\n",
    "input_tbl = f\"{database}.{schema}.{table}\"\n",
    "fraud_data = session.table(input_tbl)\n",
    "#fraud_data.show()"
   ]
  },
  {
   "cell_type": "markdown",
   "metadata": {},
   "source": [
    "Data Prep Tasks to perform :\n",
    "    - Missing Values\n",
    "        - Drop Column \"prev_address_months_count\"\n",
    "        - Replace all \"-1\" occurences in 'current_address_months_count' with mean value\n",
    "    - Balance dataset\n",
    "        - Oversample lines where fraud_bool = 1\n",
    "    - Eliminates highly correlated features"
   ]
  },
  {
   "cell_type": "code",
   "execution_count": 3,
   "metadata": {},
   "outputs": [],
   "source": [
    "### Missing values\n",
    "\n",
    "def missing_values_snowpark(session, table_name):\n",
    "    \"\"\"\n",
    "    Check for missing values in a Snowflake (Snowpark Version)\n",
    "    \n",
    "    Parameters:\n",
    "    - session (Session) : current session\n",
    "    - connection_parameters (dict): Snowflake connection parameters\n",
    "    - table_name (str): Name of the table to check for missing values\n",
    "    \n",
    "    Output:\n",
    "    - None\n",
    "    \"\"\"\n",
    "    df = session.table(table_name)\n",
    "    column_metadata = df.schema.fields\n",
    "\n",
    "    missing_values = False\n",
    "    for field in column_metadata:\n",
    "        column_name = field.name\n",
    "        data_type = field.datatype\n",
    "\n",
    "        if data_type == StringType:\n",
    "            # String Columns\n",
    "            n_missing_values = df.filter((col(column_name).is_null()) | (col(column_name) == \"\")).count()\n",
    "        elif column_name in ('PREV_ADRESS_MONTH_COUNT', 'CURRENT_ADRESS_MONTH_COUNT'):\n",
    "            # Special cases\n",
    "            n_missing_values = df.filter((col(column_name).is_null()) | (col(column_name) == -1)).count()\n",
    "        else:\n",
    "            # Numerical columns\n",
    "            n_missing_values = df.filter(col(column_name).is_null()).count()\n",
    "        print(f\"Feature {column_name} lacks {n_missing_values} values\")\n",
    "    if missing_values:\n",
    "        print(\"Values are missing, please check details!\")\n",
    "    else:\n",
    "        print(\"No missing values, great!\")\n",
    "    "
   ]
  },
  {
   "cell_type": "code",
   "execution_count": 4,
   "metadata": {},
   "outputs": [
    {
     "name": "stdout",
     "output_type": "stream",
     "text": [
      "Feature FRAUD_BOOL lacks 0 values\n",
      "Feature INCOME lacks 0 values\n",
      "Feature NAME_EMAIL_SIMILARITY lacks 0 values\n",
      "Feature CUSTOMER_AGE lacks 0 values\n",
      "Feature DAYS_SINCE_REQUEST lacks 0 values\n",
      "Feature INTENDED_BALCON_AMOUNT lacks 0 values\n",
      "Feature PAYMENT_TYPE lacks 0 values\n",
      "Feature ZIP_COUNT_4W lacks 0 values\n",
      "Feature VELOCITY_6H lacks 0 values\n",
      "Feature VELOCITY_24H lacks 0 values\n",
      "Feature VELOCITY_4W lacks 0 values\n",
      "Feature BANK_BRANCH_COUNT_8W lacks 0 values\n",
      "Feature DATE_OF_BIRTH_DISTINCT_EMAILS_4W lacks 0 values\n",
      "Feature EMPLOYMENT_STATUS lacks 0 values\n",
      "Feature CREDIT_RISK_SCORE lacks 0 values\n",
      "Feature EMAIL_IS_FREE lacks 0 values\n",
      "Feature HOUSING_STATUS lacks 0 values\n",
      "Feature PHONE_HOME_VALID lacks 0 values\n",
      "Feature PHONE_MOBILE_VALID lacks 0 values\n",
      "Feature BANK_MONTHS_COUNT lacks 0 values\n",
      "Feature HAS_OTHER_CARDS lacks 0 values\n",
      "Feature PROPOSED_CREDIT_LIMIT lacks 0 values\n",
      "Feature FOREIGN_REQUEST lacks 0 values\n",
      "Feature SOURCE lacks 0 values\n",
      "Feature SESSION_LENGTH_IN_MINUTES lacks 0 values\n",
      "Feature DEVICE_OS lacks 0 values\n",
      "Feature KEEP_ALIVE_SESSION lacks 0 values\n",
      "Feature DEVICE_DISTINCT_EMAILS_8W lacks 0 values\n",
      "Feature DEVICE_FRAUD_COUNT lacks 0 values\n",
      "Feature MONTH lacks 0 values\n",
      "Feature CURRENT_ADRESS_MONTH_COUNT lacks 0 values\n",
      "No missing values, great!\n"
     ]
    }
   ],
   "source": [
    "missing_values_snowpark(session,input_tbl)"
   ]
  },
  {
   "cell_type": "code",
   "execution_count": 5,
   "metadata": {},
   "outputs": [],
   "source": [
    "# Dropping near empty column\n",
    "df_missing = fraud_data.drop('PREV_ADRESS_MONTH_COUNT')"
   ]
  },
  {
   "cell_type": "code",
   "execution_count": 6,
   "metadata": {},
   "outputs": [],
   "source": [
    "# Imputing mean value in the near filled column\n",
    "mean_value = df_missing.filter(col('CURRENT_ADRESS_MONTH_COUNT') != -1).select(mean(col('CURRENT_ADRESS_MONTH_COUNT'))).collect()[0][0]\n",
    "df_missing = df_missing.with_column('CURRENT_ADRESS_MONTH_COUNT', \n",
    "                    when(col('CURRENT_ADRESS_MONTH_COUNT') == -1, mean_value)\n",
    "                    .otherwise(col('CURRENT_ADRESS_MONTH_COUNT')))"
   ]
  },
  {
   "cell_type": "code",
   "execution_count": 7,
   "metadata": {},
   "outputs": [],
   "source": [
    "### Handling Imbalances ###\n",
    "def balance_df(df):\n",
    "    class_counts = df_missing.group_by(col('fraud_bool')).agg(count(lit(1)).alias('count')).collect()\n",
    "    majority_class = min(class_counts) # associated with the minimal value (0)\n",
    "    minority_class = max(class_counts) # associated with the maximal value (1)\n",
    "    rows_needed = majority_class['COUNT'] - minority_class['COUNT']\n",
    "    minority_class_df = df_missing.filter(col('FRAUD_BOOL') == minority_class['FRAUD_BOOL'])\n",
    "    sampled_rows_df = session.create_dataframe([], schema = df_missing.schema)\n",
    "    while rows_needed > 0:\n",
    "        sample_size = min(rows_needed, minority_class_df.count())\n",
    "        sampled_rows_df = sampled_rows_df.union_all(minority_class_df.sample(n=sample_size))\n",
    "        rows_needed -= sample_size\n",
    "    balanced_df = df_missing.union_all(sampled_rows_df)\n",
    "    return balanced_df"
   ]
  },
  {
   "cell_type": "code",
   "execution_count": 8,
   "metadata": {},
   "outputs": [
    {
     "data": {
      "text/plain": [
       "[Row(FRAUD_BOOL=1, COUNT=988971), Row(FRAUD_BOOL=0, COUNT=988971)]"
      ]
     },
     "execution_count": 8,
     "metadata": {},
     "output_type": "execute_result"
    }
   ],
   "source": [
    "### Checking Results\n",
    "balanced_df = balance_df(df_missing)\n",
    "balanced_df.group_by(col('fraud_bool')).agg(count(lit(1)).alias('count')).collect()"
   ]
  },
  {
   "cell_type": "markdown",
   "metadata": {},
   "source": [
    "The conversion of the correlation function to Snowpark queries was too costly (long execution time, more than 3 mins), therefore I will refer to the previous local analysis to treat cloud data"
   ]
  },
  {
   "cell_type": "code",
   "execution_count": 9,
   "metadata": {},
   "outputs": [],
   "source": [
    "### Manual Remove of Highly Correlated Features ###\n",
    "\n",
    "# TODO : Find a efficient way to automate highly correlated features correlation using Snowpark\n",
    "\n",
    "# def get_correlation_matrix(df):\n",
    "#     num_cols = [col.name for col in df.schema.fields if col.datatype in (LongType(),DecimalType())]\n",
    "#     correlation_matrix = dd()\n",
    "#     n = len(num_cols)\n",
    "#     for i in range(n):\n",
    "#         for j in range(i,n):\n",
    "#             col1, col2 = num_cols[i], num_cols[j]\n",
    "#             correlation_value = balanced_df.select(corr(col(col1), col(col2)).alias('result')).collect()[0]['RESULT']\n",
    "#             correlation_matrix[(i,j)] = correlation_value\n",
    "#     return correlation_matrix # Too LONG !!!!!"
   ]
  },
  {
   "cell_type": "code",
   "execution_count": 10,
   "metadata": {},
   "outputs": [],
   "source": [
    "#corr_matrix = get_correlation_matrix(balanced_df)\n",
    "#print(corr_matrix)"
   ]
  },
  {
   "cell_type": "code",
   "execution_count": 11,
   "metadata": {},
   "outputs": [],
   "source": [
    "### Let's Check Results ###\n",
    "# pd_df = balanced_df.to_pandas()"
   ]
  },
  {
   "cell_type": "code",
   "execution_count": 1,
   "metadata": {},
   "outputs": [],
   "source": [
    "# def display_corr_matrix(dataset):\n",
    "#     corr = dataset.select_dtypes(exclude=['object']).corr()\n",
    "#     mask = np.tril(np.ones(corr.shape)).astype(bool)\n",
    "#     corr = corr.where(~mask)\n",
    "    \n",
    "#     trace = go.Heatmap(z=corr.values,\n",
    "#                        x=corr.index.values,\n",
    "#                        y=corr.columns.values)\n",
    "\n",
    "#     fig = go.Figure()\n",
    "#     fig.add_trace(trace)\n",
    "#     fig.update_layout(\n",
    "#         plot_bgcolor='rgba(0,0,0,0)',\n",
    "#         xaxis=dict(showgrid=False),\n",
    "#         yaxis=dict(showgrid=False)\n",
    "#     )\n",
    "#     fig.show()\n",
    "\n",
    "# display_corr_matrix(pd_df)"
   ]
  },
  {
   "cell_type": "code",
   "execution_count": 2,
   "metadata": {},
   "outputs": [],
   "source": [
    "# def display_corr_distribution(dataset, title=\"Correlation Value Distribution\"):\n",
    "\n",
    "#     corr = dataset.select_dtypes(exclude=['object']).corr()\n",
    "#     mask = np.tril(np.ones(corr.shape)).astype(bool)\n",
    "\n",
    "#     corr_values = corr.where(~mask).stack() # flatten trilled matrix\n",
    "#     corr_value_counts = corr_values.value_counts().sort_index()\n",
    "\n",
    "#     trace = go.Bar(\n",
    "#         x=corr_value_counts.index,\n",
    "#         y=corr_value_counts.values\n",
    "#     )\n",
    "\n",
    "#     fig = go.Figure()\n",
    "#     fig.add_trace(trace)\n",
    "#     fig.update_layout(\n",
    "#         title=title,\n",
    "#         xaxis_title=\"Correlation Value\",\n",
    "#         yaxis_title=\"Frequency\",\n",
    "#         paper_bgcolor='rgba(0,0,0,0)',\n",
    "#         plot_bgcolor='rgba(0,0,0,0)',\n",
    "#         xaxis=dict(\n",
    "#             showgrid=False,\n",
    "#             tickvals=np.round(corr_value_counts.index, 2),  # Set tick values with improved precision\n",
    "#             tickformat=\".2f\"  # Format ticks to 2 decimal places\n",
    "#         ),\n",
    "#         yaxis=dict(showgrid=False)\n",
    "#     )\n",
    "#     fig.show()\n",
    "\n",
    "# display_corr_distribution(pd_df)"
   ]
  },
  {
   "cell_type": "code",
   "execution_count": 3,
   "metadata": {},
   "outputs": [],
   "source": [
    "# display_corr_distribution(cleaned_df_pd)"
   ]
  },
  {
   "cell_type": "code",
   "execution_count": 18,
   "metadata": {},
   "outputs": [],
   "source": [
    "cleaned_df = balanced_df.drop('MONTH')\n",
    "cleaned_df.write.mode('overwrite').save_as_table('FRAUD_DATA_CLEANED')"
   ]
  },
  {
   "cell_type": "code",
   "execution_count": 20,
   "metadata": {},
   "outputs": [],
   "source": [
    "### Verifying correlation\n",
    "# cleaned_df_pd = session.table('FRAUD_DATA_CLEANED').to_pandas()"
   ]
  },
  {
   "cell_type": "code",
   "execution_count": 21,
   "metadata": {},
   "outputs": [
    {
     "data": {
      "application/vnd.plotly.v1+json": {
       "config": {
        "plotlyServerURL": "https://plot.ly"
       },
       "data": [
        {
         "type": "bar",
         "x": [
          -0.4871943158429691,
          -0.2968554369306006,
          -0.23866070019433983,
          -0.2146309165749987,
          -0.20632602900812885,
          -0.19726643547917516,
          -0.19384853236028135,
          -0.17557990028228565,
          -0.17301851461967963,
          -0.1641688784381948,
          -0.16337271168384696,
          -0.15211963223957692,
          -0.14000424093335204,
          -0.12709513505700593,
          -0.11439011614915809,
          -0.11323081016101387,
          -0.10572842344357136,
          -0.09772789380018215,
          -0.0954840391890489,
          -0.09463177235538903,
          -0.09459672891295001,
          -0.09127389316178096,
          -0.09114077500753065,
          -0.08961916542017598,
          -0.08361574202352433,
          -0.08202662369503208,
          -0.08116379430386221,
          -0.08045643836179522,
          -0.07397590039873903,
          -0.07109894480769187,
          -0.07104685878268076,
          -0.0676471299605317,
          -0.0669643771098321,
          -0.06341044634117476,
          -0.061642009877665764,
          -0.061637793922956645,
          -0.06009626639236229,
          -0.0588307693381862,
          -0.058821277765202774,
          -0.05825270341138081,
          -0.05795807857595956,
          -0.0573544686052979,
          -0.05618388612360002,
          -0.05556531601012279,
          -0.054908380124552805,
          -0.05425518883585697,
          -0.05353656108339926,
          -0.0535234127530363,
          -0.05192145821857325,
          -0.04999257476103499,
          -0.04822802624187778,
          -0.04753150336399924,
          -0.04591415686213003,
          -0.045712429066077934,
          -0.04546621518362431,
          -0.04188515778700472,
          -0.03822636279481028,
          -0.03750155280642594,
          -0.03703853287263888,
          -0.03665121055797892,
          -0.0357960240567922,
          -0.03523401748632426,
          -0.03512795801143852,
          -0.03502969058533498,
          -0.034696171724385,
          -0.03465650656425823,
          -0.034588692385300136,
          -0.034480966730981305,
          -0.03350787063450605,
          -0.032657826234481324,
          -0.03024960623359571,
          -0.029670502208373042,
          -0.029095180962743473,
          -0.027915280310620523,
          -0.026813419685916665,
          -0.02502000065118613,
          -0.024376500918351446,
          -0.022923084891843373,
          -0.022321826779248252,
          -0.018706184310661535,
          -0.018615519719662205,
          -0.018138614430109484,
          -0.01791772077722195,
          -0.017811575286450058,
          -0.01613576772160651,
          -0.015773508305562737,
          -0.015524899629434845,
          -0.014933812590587446,
          -0.014658254659072363,
          -0.014475200546266415,
          -0.014247009939312005,
          -0.013241603969205857,
          -0.012814467912028052,
          -0.011651168588706658,
          -0.011474375471381016,
          -0.011230356839227922,
          -0.011076426839919249,
          -0.010449830505248805,
          -0.007407222282157673,
          -0.007388952984957492,
          -0.0069193279366530054,
          -0.006236823111867918,
          -0.005756923130076187,
          -0.004799174189649946,
          -0.004439220132177873,
          -0.004077884024444547,
          -0.0026738420473211306,
          -0.002500177105878814,
          -0.002477806027101206,
          -0.0012897813599771551,
          -0.0012861193615498244,
          -0.0007968817837114459,
          -0.0006063197861428436,
          -0.00042891728911433795,
          0.0012202675393332136,
          0.001271966405316054,
          0.001294016212901736,
          0.0018132080054193483,
          0.0024232198652648445,
          0.0025585987081148433,
          0.0028134688508944937,
          0.003141365734220207,
          0.003197929735758832,
          0.003726976586054367,
          0.005455274973998577,
          0.005747853649385505,
          0.00576749154589363,
          0.006471759514576974,
          0.0066967150131599035,
          0.007818889128139408,
          0.008073846691654459,
          0.00814792885518594,
          0.008406585510924179,
          0.009097723342489624,
          0.00917362662301774,
          0.009733855456796087,
          0.010160405583079065,
          0.01040023802447889,
          0.011072407240401705,
          0.011552641283280362,
          0.011987950759405112,
          0.012413029344542042,
          0.012498438840568612,
          0.012775092445118841,
          0.01287372643413324,
          0.013072480685899456,
          0.013103517835951593,
          0.013120991734423059,
          0.013135164332694512,
          0.013613844554277858,
          0.01385956520553656,
          0.014051339436415832,
          0.014100025093174021,
          0.014434678240691967,
          0.014452314566013882,
          0.014561915518599065,
          0.014832383536377248,
          0.014892121799316739,
          0.014942873175544219,
          0.015162273236262017,
          0.015186486997965706,
          0.015273018642800548,
          0.01594438038013956,
          0.016048057560517727,
          0.016800436738637133,
          0.017896766143477776,
          0.017998254019968265,
          0.018598701864032646,
          0.018909367056461967,
          0.019446441002041993,
          0.01946366465138537,
          0.019485367440778802,
          0.01950951187950475,
          0.019668131851300348,
          0.01979039122651589,
          0.021127334954510215,
          0.021145826322044908,
          0.0215248251233307,
          0.021618384262393535,
          0.02162451124862128,
          0.021988447722639956,
          0.022741508016979977,
          0.023135370364428656,
          0.023572987967211013,
          0.024292093548401984,
          0.024446478457801808,
          0.02449062835237258,
          0.02492177550922731,
          0.025195391632294988,
          0.02676021882600291,
          0.026909698020718006,
          0.026914294580410142,
          0.028403607042393295,
          0.02873128560122297,
          0.030098994066406475,
          0.03021980348866989,
          0.030946371258230375,
          0.03301685676283356,
          0.033346841973091075,
          0.03354885765030181,
          0.03369387429808471,
          0.03605981837769984,
          0.03655456940253706,
          0.03696735230155192,
          0.03716447017176942,
          0.037833734443402246,
          0.03832115550280461,
          0.03873341718591509,
          0.03876195572253795,
          0.04042843126200716,
          0.0404527008635661,
          0.040517760711941374,
          0.041449684938113504,
          0.04192292912937199,
          0.041995188178338104,
          0.04314271118488431,
          0.04456771438874531,
          0.045212866508290386,
          0.04720121958101328,
          0.047896260398106544,
          0.04853976236721892,
          0.049482746583401724,
          0.04973700500463239,
          0.05029793292674308,
          0.05037907975693441,
          0.050536640227772836,
          0.05174349726972137,
          0.05204456992325179,
          0.052385145589925505,
          0.05587909409656663,
          0.05902263286012151,
          0.06031975272588592,
          0.06208905429742457,
          0.06285357847476286,
          0.06299238176140573,
          0.06661613226185109,
          0.06745755171985608,
          0.07329662899650921,
          0.07363254562583008,
          0.08498761939654444,
          0.09175083814814215,
          0.09374323609962561,
          0.0966597102750914,
          0.1014587733493726,
          0.10436908959409309,
          0.10650059012715897,
          0.1078779818791474,
          0.11621660304552145,
          0.11630188842267834,
          0.11831379467064375,
          0.11999858849004366,
          0.12933406483640902,
          0.13283647493592116,
          0.13504810293492742,
          0.13828605464598537,
          0.14275067128561278,
          0.14974286952338575,
          0.1561610401288918,
          0.15964692499459837,
          0.16080338539620823,
          0.16854693973067358,
          0.17053762247217533,
          0.18339893616475839,
          0.19844438536116182,
          0.20374624879544045,
          0.208603021157254,
          0.21369510957502838,
          0.2314190955611892,
          0.2718504430073741,
          0.27752914116856575,
          0.2949611387425477,
          0.29649543432702646,
          0.40416004598191085,
          0.4641661643600624,
          0.5438314566259107,
          0.6504833832470334
         ],
         "y": [
          1,
          1,
          1,
          1,
          1,
          1,
          1,
          1,
          1,
          1,
          1,
          1,
          1,
          1,
          1,
          1,
          1,
          1,
          1,
          1,
          1,
          1,
          1,
          1,
          1,
          1,
          1,
          1,
          1,
          1,
          1,
          1,
          1,
          1,
          1,
          1,
          1,
          1,
          1,
          1,
          1,
          1,
          1,
          1,
          1,
          1,
          1,
          1,
          1,
          1,
          1,
          1,
          1,
          1,
          1,
          1,
          1,
          1,
          1,
          1,
          1,
          1,
          1,
          1,
          1,
          1,
          1,
          1,
          1,
          1,
          1,
          1,
          1,
          1,
          1,
          1,
          1,
          1,
          1,
          1,
          1,
          1,
          1,
          1,
          1,
          1,
          1,
          1,
          1,
          1,
          1,
          1,
          1,
          1,
          1,
          1,
          1,
          1,
          1,
          1,
          1,
          1,
          1,
          1,
          1,
          1,
          1,
          1,
          1,
          1,
          1,
          1,
          1,
          1,
          1,
          1,
          1,
          1,
          1,
          1,
          1,
          1,
          1,
          1,
          1,
          1,
          1,
          1,
          1,
          1,
          1,
          1,
          1,
          1,
          1,
          1,
          1,
          1,
          1,
          1,
          1,
          1,
          1,
          1,
          1,
          1,
          1,
          1,
          1,
          1,
          1,
          1,
          1,
          1,
          1,
          1,
          1,
          1,
          1,
          1,
          1,
          1,
          1,
          1,
          1,
          1,
          1,
          1,
          1,
          1,
          1,
          1,
          1,
          1,
          1,
          1,
          1,
          1,
          1,
          1,
          1,
          1,
          1,
          1,
          1,
          1,
          1,
          1,
          1,
          1,
          1,
          1,
          1,
          1,
          1,
          1,
          1,
          1,
          1,
          1,
          1,
          1,
          1,
          1,
          1,
          1,
          1,
          1,
          1,
          1,
          1,
          1,
          1,
          1,
          1,
          1,
          1,
          1,
          1,
          1,
          1,
          1,
          1,
          1,
          1,
          1,
          1,
          1,
          1,
          1,
          1,
          1,
          1,
          1,
          1,
          1,
          1,
          1,
          1,
          1,
          1,
          1,
          1,
          1,
          1,
          1,
          1,
          1,
          1,
          1,
          1,
          1,
          1,
          1,
          1,
          1,
          1,
          1,
          1,
          1,
          1,
          1,
          1,
          1,
          1,
          1,
          1,
          1,
          1,
          1,
          1,
          1,
          1,
          1,
          1,
          1
         ]
        }
       ],
       "layout": {
        "paper_bgcolor": "rgba(0,0,0,0)",
        "plot_bgcolor": "rgba(0,0,0,0)",
        "template": {
         "data": {
          "bar": [
           {
            "error_x": {
             "color": "#2a3f5f"
            },
            "error_y": {
             "color": "#2a3f5f"
            },
            "marker": {
             "line": {
              "color": "#E5ECF6",
              "width": 0.5
             },
             "pattern": {
              "fillmode": "overlay",
              "size": 10,
              "solidity": 0.2
             }
            },
            "type": "bar"
           }
          ],
          "barpolar": [
           {
            "marker": {
             "line": {
              "color": "#E5ECF6",
              "width": 0.5
             },
             "pattern": {
              "fillmode": "overlay",
              "size": 10,
              "solidity": 0.2
             }
            },
            "type": "barpolar"
           }
          ],
          "carpet": [
           {
            "aaxis": {
             "endlinecolor": "#2a3f5f",
             "gridcolor": "white",
             "linecolor": "white",
             "minorgridcolor": "white",
             "startlinecolor": "#2a3f5f"
            },
            "baxis": {
             "endlinecolor": "#2a3f5f",
             "gridcolor": "white",
             "linecolor": "white",
             "minorgridcolor": "white",
             "startlinecolor": "#2a3f5f"
            },
            "type": "carpet"
           }
          ],
          "choropleth": [
           {
            "colorbar": {
             "outlinewidth": 0,
             "ticks": ""
            },
            "type": "choropleth"
           }
          ],
          "contour": [
           {
            "colorbar": {
             "outlinewidth": 0,
             "ticks": ""
            },
            "colorscale": [
             [
              0,
              "#0d0887"
             ],
             [
              0.1111111111111111,
              "#46039f"
             ],
             [
              0.2222222222222222,
              "#7201a8"
             ],
             [
              0.3333333333333333,
              "#9c179e"
             ],
             [
              0.4444444444444444,
              "#bd3786"
             ],
             [
              0.5555555555555556,
              "#d8576b"
             ],
             [
              0.6666666666666666,
              "#ed7953"
             ],
             [
              0.7777777777777778,
              "#fb9f3a"
             ],
             [
              0.8888888888888888,
              "#fdca26"
             ],
             [
              1,
              "#f0f921"
             ]
            ],
            "type": "contour"
           }
          ],
          "contourcarpet": [
           {
            "colorbar": {
             "outlinewidth": 0,
             "ticks": ""
            },
            "type": "contourcarpet"
           }
          ],
          "heatmap": [
           {
            "colorbar": {
             "outlinewidth": 0,
             "ticks": ""
            },
            "colorscale": [
             [
              0,
              "#0d0887"
             ],
             [
              0.1111111111111111,
              "#46039f"
             ],
             [
              0.2222222222222222,
              "#7201a8"
             ],
             [
              0.3333333333333333,
              "#9c179e"
             ],
             [
              0.4444444444444444,
              "#bd3786"
             ],
             [
              0.5555555555555556,
              "#d8576b"
             ],
             [
              0.6666666666666666,
              "#ed7953"
             ],
             [
              0.7777777777777778,
              "#fb9f3a"
             ],
             [
              0.8888888888888888,
              "#fdca26"
             ],
             [
              1,
              "#f0f921"
             ]
            ],
            "type": "heatmap"
           }
          ],
          "heatmapgl": [
           {
            "colorbar": {
             "outlinewidth": 0,
             "ticks": ""
            },
            "colorscale": [
             [
              0,
              "#0d0887"
             ],
             [
              0.1111111111111111,
              "#46039f"
             ],
             [
              0.2222222222222222,
              "#7201a8"
             ],
             [
              0.3333333333333333,
              "#9c179e"
             ],
             [
              0.4444444444444444,
              "#bd3786"
             ],
             [
              0.5555555555555556,
              "#d8576b"
             ],
             [
              0.6666666666666666,
              "#ed7953"
             ],
             [
              0.7777777777777778,
              "#fb9f3a"
             ],
             [
              0.8888888888888888,
              "#fdca26"
             ],
             [
              1,
              "#f0f921"
             ]
            ],
            "type": "heatmapgl"
           }
          ],
          "histogram": [
           {
            "marker": {
             "pattern": {
              "fillmode": "overlay",
              "size": 10,
              "solidity": 0.2
             }
            },
            "type": "histogram"
           }
          ],
          "histogram2d": [
           {
            "colorbar": {
             "outlinewidth": 0,
             "ticks": ""
            },
            "colorscale": [
             [
              0,
              "#0d0887"
             ],
             [
              0.1111111111111111,
              "#46039f"
             ],
             [
              0.2222222222222222,
              "#7201a8"
             ],
             [
              0.3333333333333333,
              "#9c179e"
             ],
             [
              0.4444444444444444,
              "#bd3786"
             ],
             [
              0.5555555555555556,
              "#d8576b"
             ],
             [
              0.6666666666666666,
              "#ed7953"
             ],
             [
              0.7777777777777778,
              "#fb9f3a"
             ],
             [
              0.8888888888888888,
              "#fdca26"
             ],
             [
              1,
              "#f0f921"
             ]
            ],
            "type": "histogram2d"
           }
          ],
          "histogram2dcontour": [
           {
            "colorbar": {
             "outlinewidth": 0,
             "ticks": ""
            },
            "colorscale": [
             [
              0,
              "#0d0887"
             ],
             [
              0.1111111111111111,
              "#46039f"
             ],
             [
              0.2222222222222222,
              "#7201a8"
             ],
             [
              0.3333333333333333,
              "#9c179e"
             ],
             [
              0.4444444444444444,
              "#bd3786"
             ],
             [
              0.5555555555555556,
              "#d8576b"
             ],
             [
              0.6666666666666666,
              "#ed7953"
             ],
             [
              0.7777777777777778,
              "#fb9f3a"
             ],
             [
              0.8888888888888888,
              "#fdca26"
             ],
             [
              1,
              "#f0f921"
             ]
            ],
            "type": "histogram2dcontour"
           }
          ],
          "mesh3d": [
           {
            "colorbar": {
             "outlinewidth": 0,
             "ticks": ""
            },
            "type": "mesh3d"
           }
          ],
          "parcoords": [
           {
            "line": {
             "colorbar": {
              "outlinewidth": 0,
              "ticks": ""
             }
            },
            "type": "parcoords"
           }
          ],
          "pie": [
           {
            "automargin": true,
            "type": "pie"
           }
          ],
          "scatter": [
           {
            "fillpattern": {
             "fillmode": "overlay",
             "size": 10,
             "solidity": 0.2
            },
            "type": "scatter"
           }
          ],
          "scatter3d": [
           {
            "line": {
             "colorbar": {
              "outlinewidth": 0,
              "ticks": ""
             }
            },
            "marker": {
             "colorbar": {
              "outlinewidth": 0,
              "ticks": ""
             }
            },
            "type": "scatter3d"
           }
          ],
          "scattercarpet": [
           {
            "marker": {
             "colorbar": {
              "outlinewidth": 0,
              "ticks": ""
             }
            },
            "type": "scattercarpet"
           }
          ],
          "scattergeo": [
           {
            "marker": {
             "colorbar": {
              "outlinewidth": 0,
              "ticks": ""
             }
            },
            "type": "scattergeo"
           }
          ],
          "scattergl": [
           {
            "marker": {
             "colorbar": {
              "outlinewidth": 0,
              "ticks": ""
             }
            },
            "type": "scattergl"
           }
          ],
          "scattermapbox": [
           {
            "marker": {
             "colorbar": {
              "outlinewidth": 0,
              "ticks": ""
             }
            },
            "type": "scattermapbox"
           }
          ],
          "scatterpolar": [
           {
            "marker": {
             "colorbar": {
              "outlinewidth": 0,
              "ticks": ""
             }
            },
            "type": "scatterpolar"
           }
          ],
          "scatterpolargl": [
           {
            "marker": {
             "colorbar": {
              "outlinewidth": 0,
              "ticks": ""
             }
            },
            "type": "scatterpolargl"
           }
          ],
          "scatterternary": [
           {
            "marker": {
             "colorbar": {
              "outlinewidth": 0,
              "ticks": ""
             }
            },
            "type": "scatterternary"
           }
          ],
          "surface": [
           {
            "colorbar": {
             "outlinewidth": 0,
             "ticks": ""
            },
            "colorscale": [
             [
              0,
              "#0d0887"
             ],
             [
              0.1111111111111111,
              "#46039f"
             ],
             [
              0.2222222222222222,
              "#7201a8"
             ],
             [
              0.3333333333333333,
              "#9c179e"
             ],
             [
              0.4444444444444444,
              "#bd3786"
             ],
             [
              0.5555555555555556,
              "#d8576b"
             ],
             [
              0.6666666666666666,
              "#ed7953"
             ],
             [
              0.7777777777777778,
              "#fb9f3a"
             ],
             [
              0.8888888888888888,
              "#fdca26"
             ],
             [
              1,
              "#f0f921"
             ]
            ],
            "type": "surface"
           }
          ],
          "table": [
           {
            "cells": {
             "fill": {
              "color": "#EBF0F8"
             },
             "line": {
              "color": "white"
             }
            },
            "header": {
             "fill": {
              "color": "#C8D4E3"
             },
             "line": {
              "color": "white"
             }
            },
            "type": "table"
           }
          ]
         },
         "layout": {
          "annotationdefaults": {
           "arrowcolor": "#2a3f5f",
           "arrowhead": 0,
           "arrowwidth": 1
          },
          "autotypenumbers": "strict",
          "coloraxis": {
           "colorbar": {
            "outlinewidth": 0,
            "ticks": ""
           }
          },
          "colorscale": {
           "diverging": [
            [
             0,
             "#8e0152"
            ],
            [
             0.1,
             "#c51b7d"
            ],
            [
             0.2,
             "#de77ae"
            ],
            [
             0.3,
             "#f1b6da"
            ],
            [
             0.4,
             "#fde0ef"
            ],
            [
             0.5,
             "#f7f7f7"
            ],
            [
             0.6,
             "#e6f5d0"
            ],
            [
             0.7,
             "#b8e186"
            ],
            [
             0.8,
             "#7fbc41"
            ],
            [
             0.9,
             "#4d9221"
            ],
            [
             1,
             "#276419"
            ]
           ],
           "sequential": [
            [
             0,
             "#0d0887"
            ],
            [
             0.1111111111111111,
             "#46039f"
            ],
            [
             0.2222222222222222,
             "#7201a8"
            ],
            [
             0.3333333333333333,
             "#9c179e"
            ],
            [
             0.4444444444444444,
             "#bd3786"
            ],
            [
             0.5555555555555556,
             "#d8576b"
            ],
            [
             0.6666666666666666,
             "#ed7953"
            ],
            [
             0.7777777777777778,
             "#fb9f3a"
            ],
            [
             0.8888888888888888,
             "#fdca26"
            ],
            [
             1,
             "#f0f921"
            ]
           ],
           "sequentialminus": [
            [
             0,
             "#0d0887"
            ],
            [
             0.1111111111111111,
             "#46039f"
            ],
            [
             0.2222222222222222,
             "#7201a8"
            ],
            [
             0.3333333333333333,
             "#9c179e"
            ],
            [
             0.4444444444444444,
             "#bd3786"
            ],
            [
             0.5555555555555556,
             "#d8576b"
            ],
            [
             0.6666666666666666,
             "#ed7953"
            ],
            [
             0.7777777777777778,
             "#fb9f3a"
            ],
            [
             0.8888888888888888,
             "#fdca26"
            ],
            [
             1,
             "#f0f921"
            ]
           ]
          },
          "colorway": [
           "#636efa",
           "#EF553B",
           "#00cc96",
           "#ab63fa",
           "#FFA15A",
           "#19d3f3",
           "#FF6692",
           "#B6E880",
           "#FF97FF",
           "#FECB52"
          ],
          "font": {
           "color": "#2a3f5f"
          },
          "geo": {
           "bgcolor": "white",
           "lakecolor": "white",
           "landcolor": "#E5ECF6",
           "showlakes": true,
           "showland": true,
           "subunitcolor": "white"
          },
          "hoverlabel": {
           "align": "left"
          },
          "hovermode": "closest",
          "mapbox": {
           "style": "light"
          },
          "paper_bgcolor": "white",
          "plot_bgcolor": "#E5ECF6",
          "polar": {
           "angularaxis": {
            "gridcolor": "white",
            "linecolor": "white",
            "ticks": ""
           },
           "bgcolor": "#E5ECF6",
           "radialaxis": {
            "gridcolor": "white",
            "linecolor": "white",
            "ticks": ""
           }
          },
          "scene": {
           "xaxis": {
            "backgroundcolor": "#E5ECF6",
            "gridcolor": "white",
            "gridwidth": 2,
            "linecolor": "white",
            "showbackground": true,
            "ticks": "",
            "zerolinecolor": "white"
           },
           "yaxis": {
            "backgroundcolor": "#E5ECF6",
            "gridcolor": "white",
            "gridwidth": 2,
            "linecolor": "white",
            "showbackground": true,
            "ticks": "",
            "zerolinecolor": "white"
           },
           "zaxis": {
            "backgroundcolor": "#E5ECF6",
            "gridcolor": "white",
            "gridwidth": 2,
            "linecolor": "white",
            "showbackground": true,
            "ticks": "",
            "zerolinecolor": "white"
           }
          },
          "shapedefaults": {
           "line": {
            "color": "#2a3f5f"
           }
          },
          "ternary": {
           "aaxis": {
            "gridcolor": "white",
            "linecolor": "white",
            "ticks": ""
           },
           "baxis": {
            "gridcolor": "white",
            "linecolor": "white",
            "ticks": ""
           },
           "bgcolor": "#E5ECF6",
           "caxis": {
            "gridcolor": "white",
            "linecolor": "white",
            "ticks": ""
           }
          },
          "title": {
           "x": 0.05
          },
          "xaxis": {
           "automargin": true,
           "gridcolor": "white",
           "linecolor": "white",
           "ticks": "",
           "title": {
            "standoff": 15
           },
           "zerolinecolor": "white",
           "zerolinewidth": 2
          },
          "yaxis": {
           "automargin": true,
           "gridcolor": "white",
           "linecolor": "white",
           "ticks": "",
           "title": {
            "standoff": 15
           },
           "zerolinecolor": "white",
           "zerolinewidth": 2
          }
         }
        },
        "title": {
         "text": "Correlation Value Distribution"
        },
        "xaxis": {
         "showgrid": false,
         "tickformat": ".2f",
         "tickvals": [
          -0.49,
          -0.3,
          -0.24,
          -0.21,
          -0.21,
          -0.2,
          -0.19,
          -0.18,
          -0.17,
          -0.16,
          -0.16,
          -0.15,
          -0.14,
          -0.13,
          -0.11,
          -0.11,
          -0.11,
          -0.1,
          -0.1,
          -0.09,
          -0.09,
          -0.09,
          -0.09,
          -0.09,
          -0.08,
          -0.08,
          -0.08,
          -0.08,
          -0.07,
          -0.07,
          -0.07,
          -0.07,
          -0.07,
          -0.06,
          -0.06,
          -0.06,
          -0.06,
          -0.06,
          -0.06,
          -0.06,
          -0.06,
          -0.06,
          -0.06,
          -0.06,
          -0.05,
          -0.05,
          -0.05,
          -0.05,
          -0.05,
          -0.05,
          -0.05,
          -0.05,
          -0.05,
          -0.05,
          -0.05,
          -0.04,
          -0.04,
          -0.04,
          -0.04,
          -0.04,
          -0.04,
          -0.04,
          -0.04,
          -0.04,
          -0.03,
          -0.03,
          -0.03,
          -0.03,
          -0.03,
          -0.03,
          -0.03,
          -0.03,
          -0.03,
          -0.03,
          -0.03,
          -0.03,
          -0.02,
          -0.02,
          -0.02,
          -0.02,
          -0.02,
          -0.02,
          -0.02,
          -0.02,
          -0.02,
          -0.02,
          -0.02,
          -0.01,
          -0.01,
          -0.01,
          -0.01,
          -0.01,
          -0.01,
          -0.01,
          -0.01,
          -0.01,
          -0.01,
          -0.01,
          -0.01,
          -0.01,
          -0.01,
          -0.01,
          -0.01,
          0,
          0,
          0,
          0,
          0,
          0,
          0,
          0,
          0,
          0,
          0,
          0,
          0,
          0,
          0,
          0,
          0,
          0,
          0,
          0,
          0,
          0.01,
          0.01,
          0.01,
          0.01,
          0.01,
          0.01,
          0.01,
          0.01,
          0.01,
          0.01,
          0.01,
          0.01,
          0.01,
          0.01,
          0.01,
          0.01,
          0.01,
          0.01,
          0.01,
          0.01,
          0.01,
          0.01,
          0.01,
          0.01,
          0.01,
          0.01,
          0.01,
          0.01,
          0.01,
          0.01,
          0.01,
          0.01,
          0.01,
          0.01,
          0.01,
          0.02,
          0.02,
          0.02,
          0.02,
          0.02,
          0.02,
          0.02,
          0.02,
          0.02,
          0.02,
          0.02,
          0.02,
          0.02,
          0.02,
          0.02,
          0.02,
          0.02,
          0.02,
          0.02,
          0.02,
          0.02,
          0.02,
          0.02,
          0.02,
          0.02,
          0.02,
          0.02,
          0.02,
          0.02,
          0.03,
          0.03,
          0.03,
          0.03,
          0.03,
          0.03,
          0.03,
          0.03,
          0.03,
          0.03,
          0.03,
          0.03,
          0.03,
          0.04,
          0.04,
          0.04,
          0.04,
          0.04,
          0.04,
          0.04,
          0.04,
          0.04,
          0.04,
          0.04,
          0.04,
          0.04,
          0.04,
          0.04,
          0.04,
          0.05,
          0.05,
          0.05,
          0.05,
          0.05,
          0.05,
          0.05,
          0.05,
          0.05,
          0.05,
          0.05,
          0.05,
          0.06,
          0.06,
          0.06,
          0.06,
          0.06,
          0.06,
          0.07,
          0.07,
          0.07,
          0.07,
          0.08,
          0.09,
          0.09,
          0.1,
          0.1,
          0.1,
          0.11,
          0.11,
          0.12,
          0.12,
          0.12,
          0.12,
          0.13,
          0.13,
          0.14,
          0.14,
          0.14,
          0.15,
          0.16,
          0.16,
          0.16,
          0.17,
          0.17,
          0.18,
          0.2,
          0.2,
          0.21,
          0.21,
          0.23,
          0.27,
          0.28,
          0.29,
          0.3,
          0.4,
          0.46,
          0.54,
          0.65
         ],
         "title": {
          "text": "Correlation Value"
         }
        },
        "yaxis": {
         "showgrid": false,
         "title": {
          "text": "Frequency"
         }
        }
       }
      }
     },
     "metadata": {},
     "output_type": "display_data"
    }
   ],
   "source": [
    "# display_corr_distribution(cleaned_df_pd) # same correlation great !"
   ]
  },
  {
   "cell_type": "code",
   "execution_count": 22,
   "metadata": {},
   "outputs": [],
   "source": [
    "session.close()"
   ]
  }
 ],
 "metadata": {
  "kernelspec": {
   "display_name": "fd",
   "language": "python",
   "name": "python3"
  },
  "language_info": {
   "codemirror_mode": {
    "name": "ipython",
    "version": 3
   },
   "file_extension": ".py",
   "mimetype": "text/x-python",
   "name": "python",
   "nbconvert_exporter": "python",
   "pygments_lexer": "ipython3",
   "version": "3.11.10"
  }
 },
 "nbformat": 4,
 "nbformat_minor": 2
}
