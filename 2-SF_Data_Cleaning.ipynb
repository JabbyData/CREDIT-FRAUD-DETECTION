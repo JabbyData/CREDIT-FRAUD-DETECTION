{
 "cells": [
  {
   "cell_type": "code",
   "execution_count": 1,
   "metadata": {},
   "outputs": [],
   "source": [
    "### Dependencies ###\n",
    "\n",
    "# Snowpark for Python\n",
    "from snowflake.snowpark import Session\n",
    "from snowflake.snowpark.version import VERSION\n",
    "from snowflake.ml.modeling.metrics.correlation import correlation\n",
    "\n",
    "# Snowpark ML\n",
    "from snowflake.snowpark.functions import col, count, when, mean, lit, corr\n",
    "from snowflake.snowpark.types import StringType, LongType\n",
    "\n",
    "# Workflow\n",
    "import json"
   ]
  },
  {
   "cell_type": "code",
   "execution_count": 2,
   "metadata": {},
   "outputs": [],
   "source": [
    "### Secured connection to Snowflake ###\n",
    "connection_parameters = json.load(open('connection.json'))\n",
    "session = Session.builder.configs(connection_parameters).create()\n",
    "session.sql_simplifier_enabled = True\n",
    "\n",
    "database = 'FRAUD_DETECT_DB'\n",
    "schema = 'FRAUD_DETECT_SM'\n",
    "table = 'FRAUD_DATA'\n",
    "input_tbl = f\"{database}.{schema}.{table}\"\n",
    "fraud_data = session.table(input_tbl)\n",
    "#fraud_data.show()"
   ]
  },
  {
   "cell_type": "markdown",
   "metadata": {},
   "source": [
    "Data Prep Tasks to perform :\n",
    "    - Missing Values\n",
    "        - Drop Column \"prev_address_months_count\"\n",
    "        - Replace all \"-1\" occurences in 'current_address_months_count' with mean value\n",
    "    - Balance dataset\n",
    "        - Oversample lines where fraud_bool = 1\n",
    "    - Eliminates highly correlated features"
   ]
  },
  {
   "cell_type": "code",
   "execution_count": 3,
   "metadata": {},
   "outputs": [],
   "source": [
    "### Missing values\n",
    "\n",
    "def missing_values_snowpark(session, table_name):\n",
    "    \"\"\"\n",
    "    Check for missing values in a Snowflake (Snowpark Version)\n",
    "    \n",
    "    Parameters:\n",
    "    - session (Session) : current session\n",
    "    - connection_parameters (dict): Snowflake connection parameters\n",
    "    - table_name (str): Name of the table to check for missing values\n",
    "    \n",
    "    Output:\n",
    "    - None\n",
    "    \"\"\"\n",
    "    df = session.table(table_name)\n",
    "    column_metadata = df.schema.fields\n",
    "\n",
    "    missing_values = False\n",
    "    for field in column_metadata:\n",
    "        column_name = field.name\n",
    "        data_type = field.datatype\n",
    "\n",
    "        if data_type == StringType:\n",
    "            # String Columns\n",
    "            n_missing_values = df.filter((col(column_name).is_null()) | (col(column_name) == \"\")).count()\n",
    "        elif column_name in ('PREV_ADRESS_MONTH_COUNT', 'CURRENT_ADRESS_MONTH_COUNT'):\n",
    "            # Special cases\n",
    "            n_missing_values = df.filter((col(column_name).is_null()) | (col(column_name) == -1)).count()\n",
    "        else:\n",
    "            # Numerical columns\n",
    "            n_missing_values = df.filter(col(column_name).is_null()).count()\n",
    "        print(f\"Feature {column_name} lacks {n_missing_values} values\")\n",
    "    if missing_values:\n",
    "        print(\"Values are missing, please check details!\")\n",
    "    else:\n",
    "        print(\"No missing values, great!\")\n",
    "    "
   ]
  },
  {
   "cell_type": "code",
   "execution_count": 4,
   "metadata": {},
   "outputs": [
    {
     "name": "stdout",
     "output_type": "stream",
     "text": [
      "Feature FRAUD_BOOL lacks 0 values\n",
      "Feature INCOME lacks 0 values\n",
      "Feature NAME_EMAIL_SIMILARITY lacks 0 values\n",
      "Feature CUSTOMER_AGE lacks 0 values\n",
      "Feature DAYS_SINCE_REQUEST lacks 0 values\n",
      "Feature INTENDED_BALCON_AMOUNT lacks 0 values\n",
      "Feature PAYMENT_TYPE lacks 0 values\n",
      "Feature ZIP_COUNT_4W lacks 0 values\n",
      "Feature VELOCITY_6H lacks 0 values\n",
      "Feature VELOCITY_24H lacks 0 values\n",
      "Feature VELOCITY_4W lacks 0 values\n",
      "Feature BANK_BRANCH_COUNT_8W lacks 0 values\n",
      "Feature DATE_OF_BIRTH_DISTINCT_EMAILS_4W lacks 0 values\n",
      "Feature EMPLOYMENT_STATUS lacks 0 values\n",
      "Feature CREDIT_RISK_SCORE lacks 0 values\n",
      "Feature EMAIL_IS_FREE lacks 0 values\n",
      "Feature HOUSING_STATUS lacks 0 values\n",
      "Feature PHONE_HOME_VALID lacks 0 values\n",
      "Feature PHONE_MOBILE_VALID lacks 0 values\n",
      "Feature BANK_MONTHS_COUNT lacks 0 values\n",
      "Feature HAS_OTHER_CARDS lacks 0 values\n",
      "Feature PROPOSED_CREDIT_LIMIT lacks 0 values\n",
      "Feature FOREIGN_REQUEST lacks 0 values\n",
      "Feature SOURCE lacks 0 values\n",
      "Feature SESSION_LENGTH_IN_MINUTES lacks 0 values\n",
      "Feature DEVICE_OS lacks 0 values\n",
      "Feature KEEP_ALIVE_SESSION lacks 0 values\n",
      "Feature DEVICE_DISTINCT_EMAILS_8W lacks 0 values\n",
      "Feature DEVICE_FRAUD_COUNT lacks 0 values\n",
      "Feature MONTH lacks 0 values\n",
      "Feature CURRENT_ADRESS_MONTH_COUNT lacks 0 values\n",
      "No missing values, great!\n"
     ]
    }
   ],
   "source": [
    "missing_values_snowpark(session,input_tbl)"
   ]
  },
  {
   "cell_type": "code",
   "execution_count": 5,
   "metadata": {},
   "outputs": [],
   "source": [
    "# Dropping near empty column\n",
    "df_missing = fraud_data.drop('PREV_ADRESS_MONTH_COUNT')"
   ]
  },
  {
   "cell_type": "code",
   "execution_count": 6,
   "metadata": {},
   "outputs": [],
   "source": [
    "# Imputing mean value in the near filled column\n",
    "mean_value = df_missing.filter(col('CURRENT_ADRESS_MONTH_COUNT') != -1).select(mean(col('CURRENT_ADRESS_MONTH_COUNT'))).collect()[0][0]\n",
    "df_missing = df_missing.with_column('CURRENT_ADRESS_MONTH_COUNT', \n",
    "                    when(col('CURRENT_ADRESS_MONTH_COUNT') == -1, mean_value)\n",
    "                    .otherwise(col('CURRENT_ADRESS_MONTH_COUNT')))"
   ]
  },
  {
   "cell_type": "code",
   "execution_count": 7,
   "metadata": {},
   "outputs": [],
   "source": [
    "### Handling Imbalances ###\n",
    "def balance_df(df):\n",
    "    class_counts = df_missing.group_by(col('fraud_bool')).agg(count(lit(1)).alias('count')).collect()\n",
    "    majority_class = min(class_counts) # associated with the minimal value (0)\n",
    "    minority_class = max(class_counts) # associated with the maximal value (1)\n",
    "    rows_needed = majority_class['COUNT'] - minority_class['COUNT']\n",
    "    minority_class_df = df_missing.filter(col('FRAUD_BOOL') == minority_class['FRAUD_BOOL'])\n",
    "    sampled_rows_df = session.create_dataframe([], schema = df_missing.schema)\n",
    "    while rows_needed > 0:\n",
    "        sample_size = min(rows_needed, minority_class_df.count())\n",
    "        sampled_rows_df = sampled_rows_df.union_all(minority_class_df.sample(n=sample_size))\n",
    "        rows_needed -= sample_size\n",
    "    balanced_df = df_missing.union_all(sampled_rows_df)\n",
    "    return balanced_df"
   ]
  },
  {
   "cell_type": "code",
   "execution_count": 8,
   "metadata": {},
   "outputs": [
    {
     "data": {
      "text/plain": [
       "[Row(FRAUD_BOOL=0, COUNT=988971), Row(FRAUD_BOOL=1, COUNT=988971)]"
      ]
     },
     "execution_count": 8,
     "metadata": {},
     "output_type": "execute_result"
    }
   ],
   "source": [
    "balanced_df = balance_df(df_missing)\n",
    "balanced_df.group_by(col('fraud_bool')).agg(count(lit(1)).alias('count')).collect()"
   ]
  },
  {
   "cell_type": "markdown",
   "metadata": {},
   "source": [
    "The conversion of the correlation function to Snowpark queries was too costly (long execution time, more than 3 mins), therefore I will refer to the previous local analysis to treat cloud data"
   ]
  },
  {
   "cell_type": "code",
   "execution_count": 9,
   "metadata": {},
   "outputs": [],
   "source": [
    "### Manual Remove of Highly Correlated Features ###\n",
    "# TODO : AUTOMATE PROCESS\n",
    "#cleaned_df = balanced_df.drop('MONTH')"
   ]
  },
  {
   "cell_type": "code",
   "execution_count": 10,
   "metadata": {},
   "outputs": [],
   "source": [
    "#cleaned_df.write.mode('overwrite').save_as_table('FRAUD_DATA_CLEANED')"
   ]
  },
  {
   "cell_type": "code",
   "execution_count": 11,
   "metadata": {},
   "outputs": [],
   "source": [
    "#session.close()"
   ]
  }
 ],
 "metadata": {
  "kernelspec": {
   "display_name": "fd",
   "language": "python",
   "name": "python3"
  },
  "language_info": {
   "codemirror_mode": {
    "name": "ipython",
    "version": 3
   },
   "file_extension": ".py",
   "mimetype": "text/x-python",
   "name": "python",
   "nbconvert_exporter": "python",
   "pygments_lexer": "ipython3",
   "version": "3.11.10"
  }
 },
 "nbformat": 4,
 "nbformat_minor": 2
}
