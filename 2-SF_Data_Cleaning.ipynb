{
 "cells": [
  {
   "cell_type": "code",
   "execution_count": 1,
   "metadata": {},
   "outputs": [],
   "source": [
    "### Dependencies ###\n",
    "\n",
    "# Local Processing\n",
    "import fireducks.pandas as pd\n",
    "import numpy as np\n",
    "import plotly.graph_objects as go\n",
    "\n",
    "\n",
    "# Snowpark for Python\n",
    "from snowflake.snowpark import Session\n",
    "from snowflake.snowpark.version import VERSION\n",
    "from snowflake.snowpark.functions import col, count, when, mean, lit, corr\n",
    "from snowflake.snowpark.types import StringType, LongType, DecimalType\n",
    "\n",
    "# Workflow\n",
    "import json\n",
    "\n",
    "# Python\n",
    "from collections import defaultdict as dd"
   ]
  },
  {
   "cell_type": "code",
   "execution_count": 2,
   "metadata": {},
   "outputs": [],
   "source": [
    "### Secured connection to Snowflake ###\n",
    "connection_parameters = json.load(open('connection.json'))\n",
    "session = Session.builder.configs(connection_parameters).create()\n",
    "session.sql_simplifier_enabled = True\n",
    "\n",
    "database = 'FRAUD_DETECT_DB'\n",
    "schema = 'FRAUD_DETECT_SM'\n",
    "table = 'FRAUD_DATA'\n",
    "input_tbl = f\"{database}.{schema}.{table}\"\n",
    "fraud_data = session.table(input_tbl)\n",
    "#fraud_data.show()"
   ]
  },
  {
   "cell_type": "markdown",
   "metadata": {},
   "source": [
    "Data Prep Tasks to perform :\n",
    "    - Missing Values\n",
    "        - Drop Column \"prev_address_months_count\"\n",
    "        - Replace all \"-1\" occurences in 'current_address_months_count' with mean value\n",
    "    - Balance dataset\n",
    "        - Oversample lines where fraud_bool = 1\n",
    "    - Eliminates highly correlated features"
   ]
  },
  {
   "cell_type": "code",
   "execution_count": 3,
   "metadata": {},
   "outputs": [],
   "source": [
    "### Missing values\n",
    "\n",
    "def missing_values_snowpark(session, table_name):\n",
    "    \"\"\"\n",
    "    Check for missing values in a Snowflake (Snowpark Version)\n",
    "    \n",
    "    Parameters:\n",
    "    - session (Session) : current session\n",
    "    - connection_parameters (dict): Snowflake connection parameters\n",
    "    - table_name (str): Name of the table to check for missing values\n",
    "    \n",
    "    Output:\n",
    "    - None\n",
    "    \"\"\"\n",
    "    df = session.table(table_name)\n",
    "    column_metadata = df.schema.fields\n",
    "\n",
    "    missing_values = False\n",
    "    for field in column_metadata:\n",
    "        column_name = field.name\n",
    "        data_type = field.datatype\n",
    "\n",
    "        if data_type == StringType:\n",
    "            # String Columns\n",
    "            n_missing_values = df.filter((col(column_name).is_null()) | (col(column_name) == \"\")).count()\n",
    "        elif column_name in ('PREV_ADRESS_MONTH_COUNT', 'CURRENT_ADRESS_MONTH_COUNT'):\n",
    "            # Special cases\n",
    "            n_missing_values = df.filter((col(column_name).is_null()) | (col(column_name) == -1)).count()\n",
    "        else:\n",
    "            # Numerical columns\n",
    "            n_missing_values = df.filter(col(column_name).is_null()).count()\n",
    "        print(f\"Feature {column_name} lacks {n_missing_values} values\")\n",
    "    if missing_values:\n",
    "        print(\"Values are missing, please check details!\")\n",
    "    else:\n",
    "        print(\"No missing values, great!\")\n",
    "    "
   ]
  },
  {
   "cell_type": "code",
   "execution_count": 4,
   "metadata": {},
   "outputs": [
    {
     "name": "stdout",
     "output_type": "stream",
     "text": [
      "Feature FRAUD_BOOL lacks 0 values\n",
      "Feature INCOME lacks 0 values\n",
      "Feature NAME_EMAIL_SIMILARITY lacks 0 values\n",
      "Feature CUSTOMER_AGE lacks 0 values\n",
      "Feature DAYS_SINCE_REQUEST lacks 0 values\n",
      "Feature INTENDED_BALCON_AMOUNT lacks 0 values\n",
      "Feature PAYMENT_TYPE lacks 0 values\n",
      "Feature ZIP_COUNT_4W lacks 0 values\n",
      "Feature VELOCITY_6H lacks 0 values\n",
      "Feature VELOCITY_24H lacks 0 values\n",
      "Feature VELOCITY_4W lacks 0 values\n",
      "Feature BANK_BRANCH_COUNT_8W lacks 0 values\n",
      "Feature DATE_OF_BIRTH_DISTINCT_EMAILS_4W lacks 0 values\n",
      "Feature EMPLOYMENT_STATUS lacks 0 values\n",
      "Feature CREDIT_RISK_SCORE lacks 0 values\n",
      "Feature EMAIL_IS_FREE lacks 0 values\n",
      "Feature HOUSING_STATUS lacks 0 values\n",
      "Feature PHONE_HOME_VALID lacks 0 values\n",
      "Feature PHONE_MOBILE_VALID lacks 0 values\n",
      "Feature BANK_MONTHS_COUNT lacks 0 values\n",
      "Feature HAS_OTHER_CARDS lacks 0 values\n",
      "Feature PROPOSED_CREDIT_LIMIT lacks 0 values\n",
      "Feature FOREIGN_REQUEST lacks 0 values\n",
      "Feature SOURCE lacks 0 values\n",
      "Feature SESSION_LENGTH_IN_MINUTES lacks 0 values\n",
      "Feature DEVICE_OS lacks 0 values\n",
      "Feature KEEP_ALIVE_SESSION lacks 0 values\n",
      "Feature DEVICE_DISTINCT_EMAILS_8W lacks 0 values\n",
      "Feature DEVICE_FRAUD_COUNT lacks 0 values\n",
      "Feature MONTH lacks 0 values\n",
      "Feature CURRENT_ADRESS_MONTH_COUNT lacks 0 values\n",
      "No missing values, great!\n"
     ]
    }
   ],
   "source": [
    "missing_values_snowpark(session,input_tbl)"
   ]
  },
  {
   "cell_type": "code",
   "execution_count": 5,
   "metadata": {},
   "outputs": [],
   "source": [
    "# Dropping near empty column\n",
    "df_missing = fraud_data.drop('PREV_ADRESS_MONTH_COUNT')"
   ]
  },
  {
   "cell_type": "code",
   "execution_count": 6,
   "metadata": {},
   "outputs": [],
   "source": [
    "# Imputing mean value in the near filled column\n",
    "mean_value = df_missing.filter(col('CURRENT_ADRESS_MONTH_COUNT') != -1).select(mean(col('CURRENT_ADRESS_MONTH_COUNT'))).collect()[0][0]\n",
    "df_missing = df_missing.with_column('CURRENT_ADRESS_MONTH_COUNT', \n",
    "                    when(col('CURRENT_ADRESS_MONTH_COUNT') == -1, mean_value)\n",
    "                    .otherwise(col('CURRENT_ADRESS_MONTH_COUNT')))"
   ]
  },
  {
   "cell_type": "code",
   "execution_count": 7,
   "metadata": {},
   "outputs": [],
   "source": [
    "### Handling Imbalances ###\n",
    "def balance_df(df):\n",
    "    class_counts = df_missing.group_by(col('fraud_bool')).agg(count(lit(1)).alias('count')).collect()\n",
    "    majority_class = min(class_counts) # associated with the minimal value (0)\n",
    "    minority_class = max(class_counts) # associated with the maximal value (1)\n",
    "    rows_needed = majority_class['COUNT'] - minority_class['COUNT']\n",
    "    minority_class_df = df_missing.filter(col('FRAUD_BOOL') == minority_class['FRAUD_BOOL'])\n",
    "    sampled_rows_df = session.create_dataframe([], schema = df_missing.schema)\n",
    "    while rows_needed > 0:\n",
    "        sample_size = min(rows_needed, minority_class_df.count())\n",
    "        sampled_rows_df = sampled_rows_df.union_all(minority_class_df.sample(n=sample_size))\n",
    "        rows_needed -= sample_size\n",
    "    balanced_df = df_missing.union_all(sampled_rows_df)\n",
    "    return balanced_df"
   ]
  },
  {
   "cell_type": "code",
   "execution_count": 8,
   "metadata": {},
   "outputs": [
    {
     "data": {
      "text/plain": [
       "[Row(FRAUD_BOOL=1, COUNT=988971), Row(FRAUD_BOOL=0, COUNT=988971)]"
      ]
     },
     "execution_count": 8,
     "metadata": {},
     "output_type": "execute_result"
    }
   ],
   "source": [
    "balanced_df = balance_df(df_missing)\n",
    "balanced_df.group_by(col('fraud_bool')).agg(count(lit(1)).alias('count')).collect()"
   ]
  },
  {
   "cell_type": "markdown",
   "metadata": {},
   "source": [
    "The conversion of the correlation function to Snowpark queries was too costly (long execution time, more than 3 mins), therefore I will refer to the previous local analysis to treat cloud data"
   ]
  },
  {
   "cell_type": "code",
   "execution_count": 9,
   "metadata": {},
   "outputs": [],
   "source": [
    "### Manual Remove of Highly Correlated Features ###\n",
    "\n",
    "# TODO : Find a efficient way to automate highly correlated features correlation using Snowpark\n",
    "\n",
    "# def get_correlation_matrix(df):\n",
    "#     num_cols = [col.name for col in df.schema.fields if col.datatype in (LongType(),DecimalType())]\n",
    "#     correlation_matrix = dd()\n",
    "#     n = len(num_cols)\n",
    "#     for i in range(n):\n",
    "#         for j in range(i,n):\n",
    "#             col1, col2 = num_cols[i], num_cols[j]\n",
    "#             correlation_value = balanced_df.select(corr(col(col1), col(col2)).alias('result')).collect()[0]['RESULT']\n",
    "#             correlation_matrix[(i,j)] = correlation_value\n",
    "#     return correlation_matrix # Too LONG !!!!!"
   ]
  },
  {
   "cell_type": "code",
   "execution_count": 10,
   "metadata": {},
   "outputs": [],
   "source": [
    "#corr_matrix = get_correlation_matrix(balanced_df)\n",
    "#print(corr_matrix)"
   ]
  },
  {
   "cell_type": "code",
   "execution_count": 11,
   "metadata": {},
   "outputs": [],
   "source": [
    "pd_df = balanced_df.to_pandas()"
   ]
  },
  {
   "cell_type": "code",
   "execution_count": 12,
   "metadata": {},
   "outputs": [
    {
     "data": {
      "application/vnd.plotly.v1+json": {
       "config": {
        "plotlyServerURL": "https://plot.ly"
       },
       "data": [
        {
         "type": "heatmap",
         "x": [
          "FRAUD_BOOL",
          "INCOME",
          "NAME_EMAIL_SIMILARITY",
          "CUSTOMER_AGE",
          "DAYS_SINCE_REQUEST",
          "INTENDED_BALCON_AMOUNT",
          "ZIP_COUNT_4W",
          "VELOCITY_6H",
          "VELOCITY_24H",
          "VELOCITY_4W",
          "BANK_BRANCH_COUNT_8W",
          "DATE_OF_BIRTH_DISTINCT_EMAILS_4W",
          "CREDIT_RISK_SCORE",
          "EMAIL_IS_FREE",
          "PHONE_HOME_VALID",
          "PHONE_MOBILE_VALID",
          "BANK_MONTHS_COUNT",
          "HAS_OTHER_CARDS",
          "PROPOSED_CREDIT_LIMIT",
          "FOREIGN_REQUEST",
          "SESSION_LENGTH_IN_MINUTES",
          "KEEP_ALIVE_SESSION",
          "DEVICE_DISTINCT_EMAILS_8W",
          "DEVICE_FRAUD_COUNT",
          "MONTH",
          "CURRENT_ADRESS_MONTH_COUNT"
         ],
         "y": [
          "FRAUD_BOOL",
          "INCOME",
          "NAME_EMAIL_SIMILARITY",
          "CUSTOMER_AGE",
          "DAYS_SINCE_REQUEST",
          "INTENDED_BALCON_AMOUNT",
          "ZIP_COUNT_4W",
          "VELOCITY_6H",
          "VELOCITY_24H",
          "VELOCITY_4W",
          "BANK_BRANCH_COUNT_8W",
          "DATE_OF_BIRTH_DISTINCT_EMAILS_4W",
          "CREDIT_RISK_SCORE",
          "EMAIL_IS_FREE",
          "PHONE_HOME_VALID",
          "PHONE_MOBILE_VALID",
          "BANK_MONTHS_COUNT",
          "HAS_OTHER_CARDS",
          "PROPOSED_CREDIT_LIMIT",
          "FOREIGN_REQUEST",
          "SESSION_LENGTH_IN_MINUTES",
          "KEEP_ALIVE_SESSION",
          "DEVICE_DISTINCT_EMAILS_8W",
          "DEVICE_FRAUD_COUNT",
          "MONTH",
          "CURRENT_ADRESS_MONTH_COUNT"
         ],
         "z": [
          [
           null,
           0.17052913071586437,
           -0.14002724221851265,
           0.2775049018254733,
           0.0028848652521067247,
           -0.12708433431715035,
           0.024905896931028654,
           -0.0820048822593435,
           -0.054232695066677834,
           -0.05352314957382306,
           -0.057949357126266865,
           -0.20631219266893513,
           0.29648227930694215,
           0.13505655602534364,
           -0.17556059434543664,
           -0.0588325373590535,
           -0.014950280475001987,
           -0.1938369251933011,
           0.27185081301705716,
           0.066611679251879,
           0.03876419095906918,
           -0.23868653616045982,
           0.11826543982239271,
           null,
           0.06188798030896553,
           0.1608264039253863
          ],
          [
           null,
           null,
           -0.0454781883701531,
           0.12001031990168236,
           -0.006182152493020474,
           0.013121482732340437,
           -0.05886012773161524,
           -0.08966531355308474,
           -0.09129117421263593,
           -0.09773926336834461,
           -0.0111137698472744,
           -0.0739571441074489,
           0.18337247183028454,
           0.003140064943975734,
           -0.022939053910397203,
           0.014112543955527763,
           -0.0026975106422826947,
           0.028406547967582477,
           0.14270422205043834,
           0.024465492144247543,
           -0.03464044407124918,
           -0.06341679355083252,
           -0.01327342106774986,
           null,
           0.10280962953788647,
           0.0037223947199265155
          ],
          [
           null,
           null,
           null,
           -0.0616513882110195,
           -0.012830680134846905,
           0.06032439144204698,
           0.022003363321134117,
           0.051760305953492104,
           0.05906852081221105,
           0.0630124071216121,
           0.023149394627436322,
           0.04041390036649461,
           0.008115717453147209,
           -0.07103534443751629,
           0.02693630662535329,
           0.008060163546893196,
           0.014079205747903126,
           0.023582576754918073,
           0.036951549975674514,
           -0.014216734051647646,
           -0.0012946396428343376,
           0.04720500090362921,
           -0.03503228170743915,
           null,
           -0.06907302114584879,
           0.03717228848029594
          ],
          [
           null,
           null,
           null,
           null,
           -0.03350145232541738,
           -0.04188450407413045,
           -0.00047056826364877646,
           -0.029096020304525773,
           0.0012554937229490688,
           0.00240543795772507,
           0.021617063577607724,
           -0.48718516543610607,
           0.2314638860958264,
           0.028743508824897162,
           0.13827519403306351,
           -0.15206485802502173,
           0.01308251726307055,
           0.01949329338340278,
           0.20379042015241763,
           0.021146824034434405,
           0.04456979318376726,
           -0.0946050500932557,
           0.0627825247613409,
           null,
           0.002544623198901356,
           0.20857445967523372
          ],
          [
           null,
           null,
           null,
           null,
           null,
           0.024272065726701913,
           0.0025573953984516238,
           0.03020565184368752,
           0.015947114510295544,
           0.014886819255900468,
           -0.01446179671993757,
           0.021518602405808884,
           -0.08360282222524491,
           0.010172449565624006,
           -0.03270224222451741,
           0.005498983288118935,
           -0.034703961940312916,
           -0.0382547766342159,
           -0.06697977989333632,
           -0.00581515211950077,
           0.03368574406718195,
           -0.0025290727036379125,
           0.017998008859579043,
           null,
           -0.01650657142756979,
           -0.060111346404566
          ],
          [
           null,
           null,
           null,
           null,
           null,
           null,
           0.01942433272800688,
           0.06208848336376214,
           0.07360487708955893,
           0.07328861528040673,
           0.09374482743726385,
           0.014550482119744903,
           -0.054915997049676236,
           -0.03576985749716469,
           0.018887325910145757,
           0.04855590849658963,
           0.14976301170448503,
           0.10651385344622451,
           -0.018704170010985073,
           0.010401817065374215,
           0.012012365184239824,
           0.024451199185033697,
           -0.034468859199790466,
           null,
           -0.06494336468987905,
           0.02690605918303228
          ],
          [
           null,
           null,
           null,
           null,
           null,
           null,
           null,
           0.12931488851876016,
           0.19843494147329396,
           0.2949676038548408,
           0.014794012475276319,
           0.10441035883106221,
           -0.09552064045526,
           0.030104426129419385,
           -0.03028793632181627,
           -0.0007821429034672302,
           0.04788559683733907,
           -0.017803042722495215,
           -0.018146650775894103,
           0.018569284375860824,
           0.050405865862158665,
           0.014953486913068402,
           0.03781829383191303,
           null,
           -0.28181145487181136,
           0.038278453515859366
          ],
          [
           null,
           null,
           null,
           null,
           null,
           null,
           null,
           null,
           0.46417500984123494,
           0.4041455586386787,
           0.03332392956689338,
           0.1161710364124457,
           -0.17300787496415276,
           0.007806400515872055,
           0.0012321376461855045,
           -0.02679176567759347,
           0.013114399235161663,
           0.01945480145944352,
           -0.06762902161783817,
           -0.01864892194575845,
           0.0419456182857357,
           0.021645393694044515,
           0.041953636294545814,
           null,
           -0.41505165905292857,
           0.013583379796140285
          ],
          [
           null,
           null,
           null,
           null,
           null,
           null,
           null,
           null,
           null,
           0.5438349620090496,
           0.05204736170090561,
           0.1328428560196852,
           -0.16334153711216606,
           0.012490031850741344,
           -0.016159236558900756,
           -0.045885182077441404,
           0.019658856747473745,
           -0.011208564737364618,
           -0.02434393838419667,
           0.006465364613695302,
           0.05588400387389873,
           0.013097040766431345,
           0.049484086574795756,
           null,
           -0.5542298369183405,
           0.015248336207254715
          ],
          [
           null,
           null,
           null,
           null,
           null,
           null,
           null,
           null,
           null,
           null,
           0.05052301614967765,
           0.2137261452704069,
           -0.16415440136696202,
           0.0330173665525622,
           -0.010469707430788788,
           -0.047515656759082,
           0.03873965455562631,
           -0.0223151263099854,
           0.01278923479517233,
           0.009768297485714984,
           0.06747270970294787,
           0.033535710921459544,
           0.05028057729965889,
           null,
           -0.8435555860762605,
           0.019762686387318453
          ],
          [
           null,
           null,
           null,
           null,
           null,
           null,
           null,
           null,
           null,
           null,
           null,
           -0.004794885746940382,
           -0.034655365665342414,
           -0.01549520073884031,
           0.04974339216123981,
           -0.006932840047850685,
           0.15616649303257155,
           0.04042314013867424,
           -0.014606511802725987,
           -0.004113488616658319,
           0.0017701981192892163,
           0.025170661241038367,
           -0.007417721228158716,
           null,
           -0.04812264331640685,
           0.026739058115032348
          ],
          [
           null,
           null,
           null,
           null,
           null,
           null,
           null,
           null,
           null,
           null,
           null,
           null,
           -0.19725116902931789,
           0.01240187627825181,
           -0.11320858511222537,
           0.10785844585167999,
           0.008426374040366672,
           0.005710831359470789,
           -0.11438498126983054,
           0.006652933870637767,
           -0.05353553695999546,
           0.09660835296847872,
           -0.03660520491510025,
           null,
           -0.2143403886612647,
           -0.21461464298065122
          ],
          [
           null,
           null,
           null,
           null,
           null,
           null,
           null,
           null,
           null,
           null,
           null,
           null,
           null,
           0.01444712837368792,
           -0.057309237482963626,
           -0.011702460111520725,
           -0.04999981295196286,
           0.03609287984932842,
           0.6505105744288101,
           0.03656336891354318,
           -0.011478463088097409,
           -0.09117378890562183,
           -0.025020192063636273,
           null,
           0.16988884876968982,
           0.15969488036665616
          ],
          [
           null,
           null,
           null,
           null,
           null,
           null,
           null,
           null,
           null,
           null,
           null,
           null,
           null,
           null,
           -0.03510772962975553,
           0.030914724915292267,
           0.005769957946284776,
           -0.04823163745926468,
           0.019521323202309822,
           0.04313191079017879,
           0.040479660489933254,
           -0.056191973421559696,
           0.015217357424147636,
           null,
           -0.04325633458475021,
           -0.05552121554139382
          ],
          [
           null,
           null,
           null,
           null,
           null,
           null,
           null,
           null,
           null,
           null,
           null,
           null,
           null,
           null,
           null,
           -0.29687545647359537,
           0.05237648986676276,
           0.11631197676167393,
           -0.051890267850304726,
           -0.01791203448540497,
           -0.03748837520242804,
           0.08495626339117003,
           -0.004425848730760765,
           null,
           0.015113880639181898,
           0.09171901592993113
          ],
          [
           null,
           null,
           null,
           null,
           null,
           null,
           null,
           null,
           null,
           null,
           null,
           null,
           null,
           null,
           null,
           null,
           0.011066422372802861,
           0.01514586934855933,
           -0.03525508941491378,
           0.009074327249736077,
           -0.002511583600295934,
           0.022763727691813965,
           -0.05826668875184465,
           null,
           0.05299640757267905,
           -0.10568235625247721
          ],
          [
           null,
           null,
           null,
           null,
           null,
           null,
           null,
           null,
           null,
           null,
           null,
           null,
           null,
           null,
           null,
           null,
           null,
           0.0012705320325019473,
           -0.027916514594467774,
           0.0032072453041691903,
           0.012907207284402328,
           0.016801846242821248,
           -0.0005862534307308762,
           null,
           -0.02946422424096964,
           0.04144422490545083
          ],
          [
           null,
           null,
           null,
           null,
           null,
           null,
           null,
           null,
           null,
           null,
           null,
           null,
           null,
           null,
           null,
           null,
           null,
           null,
           0.016092710994209242,
           -0.015743829484779304,
           -0.08044161451639786,
           -0.03704769679064317,
           -0.045687873930322934,
           null,
           0.01645421892048033,
           0.021172177952135295
          ],
          [
           null,
           null,
           null,
           null,
           null,
           null,
           null,
           null,
           null,
           null,
           null,
           null,
           null,
           null,
           null,
           null,
           null,
           null,
           null,
           0.045247112468566594,
           0.017918525313916307,
           -0.09464112526399668,
           0.009215093036584635,
           null,
           -0.013494451984576281,
           0.16857351418976543
          ],
          [
           null,
           null,
           null,
           null,
           null,
           null,
           null,
           null,
           null,
           null,
           null,
           null,
           null,
           null,
           null,
           null,
           null,
           null,
           null,
           null,
           0.014460471000213328,
           -0.029724972419126656,
           0.013798502888816802,
           null,
           -0.008324545760566989,
           -0.0012619266773231748
          ],
          [
           null,
           null,
           null,
           null,
           null,
           null,
           null,
           null,
           null,
           null,
           null,
           null,
           null,
           null,
           null,
           null,
           null,
           null,
           null,
           null,
           null,
           -0.06163451786854433,
           0.10147118723782803,
           null,
           -0.07039537800620368,
           -0.007408889450674648
          ],
          [
           null,
           null,
           null,
           null,
           null,
           null,
           null,
           null,
           null,
           null,
           null,
           null,
           null,
           null,
           null,
           null,
           null,
           null,
           null,
           null,
           null,
           null,
           -0.08109559631683012,
           null,
           -0.03431836042244227,
           -0.07109272563801203
          ],
          [
           null,
           null,
           null,
           null,
           null,
           null,
           null,
           null,
           null,
           null,
           null,
           null,
           null,
           null,
           null,
           null,
           null,
           null,
           null,
           null,
           null,
           null,
           null,
           null,
           -0.05528451376258254,
           0.011566371034628443
          ],
          [
           null,
           null,
           null,
           null,
           null,
           null,
           null,
           null,
           null,
           null,
           null,
           null,
           null,
           null,
           null,
           null,
           null,
           null,
           null,
           null,
           null,
           null,
           null,
           null,
           null,
           null
          ],
          [
           null,
           null,
           null,
           null,
           null,
           null,
           null,
           null,
           null,
           null,
           null,
           null,
           null,
           null,
           null,
           null,
           null,
           null,
           null,
           null,
           null,
           null,
           null,
           null,
           null,
           -0.015591773971088343
          ],
          [
           null,
           null,
           null,
           null,
           null,
           null,
           null,
           null,
           null,
           null,
           null,
           null,
           null,
           null,
           null,
           null,
           null,
           null,
           null,
           null,
           null,
           null,
           null,
           null,
           null,
           null
          ]
         ]
        }
       ],
       "layout": {
        "plot_bgcolor": "rgba(0,0,0,0)",
        "template": {
         "data": {
          "bar": [
           {
            "error_x": {
             "color": "#2a3f5f"
            },
            "error_y": {
             "color": "#2a3f5f"
            },
            "marker": {
             "line": {
              "color": "#E5ECF6",
              "width": 0.5
             },
             "pattern": {
              "fillmode": "overlay",
              "size": 10,
              "solidity": 0.2
             }
            },
            "type": "bar"
           }
          ],
          "barpolar": [
           {
            "marker": {
             "line": {
              "color": "#E5ECF6",
              "width": 0.5
             },
             "pattern": {
              "fillmode": "overlay",
              "size": 10,
              "solidity": 0.2
             }
            },
            "type": "barpolar"
           }
          ],
          "carpet": [
           {
            "aaxis": {
             "endlinecolor": "#2a3f5f",
             "gridcolor": "white",
             "linecolor": "white",
             "minorgridcolor": "white",
             "startlinecolor": "#2a3f5f"
            },
            "baxis": {
             "endlinecolor": "#2a3f5f",
             "gridcolor": "white",
             "linecolor": "white",
             "minorgridcolor": "white",
             "startlinecolor": "#2a3f5f"
            },
            "type": "carpet"
           }
          ],
          "choropleth": [
           {
            "colorbar": {
             "outlinewidth": 0,
             "ticks": ""
            },
            "type": "choropleth"
           }
          ],
          "contour": [
           {
            "colorbar": {
             "outlinewidth": 0,
             "ticks": ""
            },
            "colorscale": [
             [
              0,
              "#0d0887"
             ],
             [
              0.1111111111111111,
              "#46039f"
             ],
             [
              0.2222222222222222,
              "#7201a8"
             ],
             [
              0.3333333333333333,
              "#9c179e"
             ],
             [
              0.4444444444444444,
              "#bd3786"
             ],
             [
              0.5555555555555556,
              "#d8576b"
             ],
             [
              0.6666666666666666,
              "#ed7953"
             ],
             [
              0.7777777777777778,
              "#fb9f3a"
             ],
             [
              0.8888888888888888,
              "#fdca26"
             ],
             [
              1,
              "#f0f921"
             ]
            ],
            "type": "contour"
           }
          ],
          "contourcarpet": [
           {
            "colorbar": {
             "outlinewidth": 0,
             "ticks": ""
            },
            "type": "contourcarpet"
           }
          ],
          "heatmap": [
           {
            "colorbar": {
             "outlinewidth": 0,
             "ticks": ""
            },
            "colorscale": [
             [
              0,
              "#0d0887"
             ],
             [
              0.1111111111111111,
              "#46039f"
             ],
             [
              0.2222222222222222,
              "#7201a8"
             ],
             [
              0.3333333333333333,
              "#9c179e"
             ],
             [
              0.4444444444444444,
              "#bd3786"
             ],
             [
              0.5555555555555556,
              "#d8576b"
             ],
             [
              0.6666666666666666,
              "#ed7953"
             ],
             [
              0.7777777777777778,
              "#fb9f3a"
             ],
             [
              0.8888888888888888,
              "#fdca26"
             ],
             [
              1,
              "#f0f921"
             ]
            ],
            "type": "heatmap"
           }
          ],
          "heatmapgl": [
           {
            "colorbar": {
             "outlinewidth": 0,
             "ticks": ""
            },
            "colorscale": [
             [
              0,
              "#0d0887"
             ],
             [
              0.1111111111111111,
              "#46039f"
             ],
             [
              0.2222222222222222,
              "#7201a8"
             ],
             [
              0.3333333333333333,
              "#9c179e"
             ],
             [
              0.4444444444444444,
              "#bd3786"
             ],
             [
              0.5555555555555556,
              "#d8576b"
             ],
             [
              0.6666666666666666,
              "#ed7953"
             ],
             [
              0.7777777777777778,
              "#fb9f3a"
             ],
             [
              0.8888888888888888,
              "#fdca26"
             ],
             [
              1,
              "#f0f921"
             ]
            ],
            "type": "heatmapgl"
           }
          ],
          "histogram": [
           {
            "marker": {
             "pattern": {
              "fillmode": "overlay",
              "size": 10,
              "solidity": 0.2
             }
            },
            "type": "histogram"
           }
          ],
          "histogram2d": [
           {
            "colorbar": {
             "outlinewidth": 0,
             "ticks": ""
            },
            "colorscale": [
             [
              0,
              "#0d0887"
             ],
             [
              0.1111111111111111,
              "#46039f"
             ],
             [
              0.2222222222222222,
              "#7201a8"
             ],
             [
              0.3333333333333333,
              "#9c179e"
             ],
             [
              0.4444444444444444,
              "#bd3786"
             ],
             [
              0.5555555555555556,
              "#d8576b"
             ],
             [
              0.6666666666666666,
              "#ed7953"
             ],
             [
              0.7777777777777778,
              "#fb9f3a"
             ],
             [
              0.8888888888888888,
              "#fdca26"
             ],
             [
              1,
              "#f0f921"
             ]
            ],
            "type": "histogram2d"
           }
          ],
          "histogram2dcontour": [
           {
            "colorbar": {
             "outlinewidth": 0,
             "ticks": ""
            },
            "colorscale": [
             [
              0,
              "#0d0887"
             ],
             [
              0.1111111111111111,
              "#46039f"
             ],
             [
              0.2222222222222222,
              "#7201a8"
             ],
             [
              0.3333333333333333,
              "#9c179e"
             ],
             [
              0.4444444444444444,
              "#bd3786"
             ],
             [
              0.5555555555555556,
              "#d8576b"
             ],
             [
              0.6666666666666666,
              "#ed7953"
             ],
             [
              0.7777777777777778,
              "#fb9f3a"
             ],
             [
              0.8888888888888888,
              "#fdca26"
             ],
             [
              1,
              "#f0f921"
             ]
            ],
            "type": "histogram2dcontour"
           }
          ],
          "mesh3d": [
           {
            "colorbar": {
             "outlinewidth": 0,
             "ticks": ""
            },
            "type": "mesh3d"
           }
          ],
          "parcoords": [
           {
            "line": {
             "colorbar": {
              "outlinewidth": 0,
              "ticks": ""
             }
            },
            "type": "parcoords"
           }
          ],
          "pie": [
           {
            "automargin": true,
            "type": "pie"
           }
          ],
          "scatter": [
           {
            "fillpattern": {
             "fillmode": "overlay",
             "size": 10,
             "solidity": 0.2
            },
            "type": "scatter"
           }
          ],
          "scatter3d": [
           {
            "line": {
             "colorbar": {
              "outlinewidth": 0,
              "ticks": ""
             }
            },
            "marker": {
             "colorbar": {
              "outlinewidth": 0,
              "ticks": ""
             }
            },
            "type": "scatter3d"
           }
          ],
          "scattercarpet": [
           {
            "marker": {
             "colorbar": {
              "outlinewidth": 0,
              "ticks": ""
             }
            },
            "type": "scattercarpet"
           }
          ],
          "scattergeo": [
           {
            "marker": {
             "colorbar": {
              "outlinewidth": 0,
              "ticks": ""
             }
            },
            "type": "scattergeo"
           }
          ],
          "scattergl": [
           {
            "marker": {
             "colorbar": {
              "outlinewidth": 0,
              "ticks": ""
             }
            },
            "type": "scattergl"
           }
          ],
          "scattermapbox": [
           {
            "marker": {
             "colorbar": {
              "outlinewidth": 0,
              "ticks": ""
             }
            },
            "type": "scattermapbox"
           }
          ],
          "scatterpolar": [
           {
            "marker": {
             "colorbar": {
              "outlinewidth": 0,
              "ticks": ""
             }
            },
            "type": "scatterpolar"
           }
          ],
          "scatterpolargl": [
           {
            "marker": {
             "colorbar": {
              "outlinewidth": 0,
              "ticks": ""
             }
            },
            "type": "scatterpolargl"
           }
          ],
          "scatterternary": [
           {
            "marker": {
             "colorbar": {
              "outlinewidth": 0,
              "ticks": ""
             }
            },
            "type": "scatterternary"
           }
          ],
          "surface": [
           {
            "colorbar": {
             "outlinewidth": 0,
             "ticks": ""
            },
            "colorscale": [
             [
              0,
              "#0d0887"
             ],
             [
              0.1111111111111111,
              "#46039f"
             ],
             [
              0.2222222222222222,
              "#7201a8"
             ],
             [
              0.3333333333333333,
              "#9c179e"
             ],
             [
              0.4444444444444444,
              "#bd3786"
             ],
             [
              0.5555555555555556,
              "#d8576b"
             ],
             [
              0.6666666666666666,
              "#ed7953"
             ],
             [
              0.7777777777777778,
              "#fb9f3a"
             ],
             [
              0.8888888888888888,
              "#fdca26"
             ],
             [
              1,
              "#f0f921"
             ]
            ],
            "type": "surface"
           }
          ],
          "table": [
           {
            "cells": {
             "fill": {
              "color": "#EBF0F8"
             },
             "line": {
              "color": "white"
             }
            },
            "header": {
             "fill": {
              "color": "#C8D4E3"
             },
             "line": {
              "color": "white"
             }
            },
            "type": "table"
           }
          ]
         },
         "layout": {
          "annotationdefaults": {
           "arrowcolor": "#2a3f5f",
           "arrowhead": 0,
           "arrowwidth": 1
          },
          "autotypenumbers": "strict",
          "coloraxis": {
           "colorbar": {
            "outlinewidth": 0,
            "ticks": ""
           }
          },
          "colorscale": {
           "diverging": [
            [
             0,
             "#8e0152"
            ],
            [
             0.1,
             "#c51b7d"
            ],
            [
             0.2,
             "#de77ae"
            ],
            [
             0.3,
             "#f1b6da"
            ],
            [
             0.4,
             "#fde0ef"
            ],
            [
             0.5,
             "#f7f7f7"
            ],
            [
             0.6,
             "#e6f5d0"
            ],
            [
             0.7,
             "#b8e186"
            ],
            [
             0.8,
             "#7fbc41"
            ],
            [
             0.9,
             "#4d9221"
            ],
            [
             1,
             "#276419"
            ]
           ],
           "sequential": [
            [
             0,
             "#0d0887"
            ],
            [
             0.1111111111111111,
             "#46039f"
            ],
            [
             0.2222222222222222,
             "#7201a8"
            ],
            [
             0.3333333333333333,
             "#9c179e"
            ],
            [
             0.4444444444444444,
             "#bd3786"
            ],
            [
             0.5555555555555556,
             "#d8576b"
            ],
            [
             0.6666666666666666,
             "#ed7953"
            ],
            [
             0.7777777777777778,
             "#fb9f3a"
            ],
            [
             0.8888888888888888,
             "#fdca26"
            ],
            [
             1,
             "#f0f921"
            ]
           ],
           "sequentialminus": [
            [
             0,
             "#0d0887"
            ],
            [
             0.1111111111111111,
             "#46039f"
            ],
            [
             0.2222222222222222,
             "#7201a8"
            ],
            [
             0.3333333333333333,
             "#9c179e"
            ],
            [
             0.4444444444444444,
             "#bd3786"
            ],
            [
             0.5555555555555556,
             "#d8576b"
            ],
            [
             0.6666666666666666,
             "#ed7953"
            ],
            [
             0.7777777777777778,
             "#fb9f3a"
            ],
            [
             0.8888888888888888,
             "#fdca26"
            ],
            [
             1,
             "#f0f921"
            ]
           ]
          },
          "colorway": [
           "#636efa",
           "#EF553B",
           "#00cc96",
           "#ab63fa",
           "#FFA15A",
           "#19d3f3",
           "#FF6692",
           "#B6E880",
           "#FF97FF",
           "#FECB52"
          ],
          "font": {
           "color": "#2a3f5f"
          },
          "geo": {
           "bgcolor": "white",
           "lakecolor": "white",
           "landcolor": "#E5ECF6",
           "showlakes": true,
           "showland": true,
           "subunitcolor": "white"
          },
          "hoverlabel": {
           "align": "left"
          },
          "hovermode": "closest",
          "mapbox": {
           "style": "light"
          },
          "paper_bgcolor": "white",
          "plot_bgcolor": "#E5ECF6",
          "polar": {
           "angularaxis": {
            "gridcolor": "white",
            "linecolor": "white",
            "ticks": ""
           },
           "bgcolor": "#E5ECF6",
           "radialaxis": {
            "gridcolor": "white",
            "linecolor": "white",
            "ticks": ""
           }
          },
          "scene": {
           "xaxis": {
            "backgroundcolor": "#E5ECF6",
            "gridcolor": "white",
            "gridwidth": 2,
            "linecolor": "white",
            "showbackground": true,
            "ticks": "",
            "zerolinecolor": "white"
           },
           "yaxis": {
            "backgroundcolor": "#E5ECF6",
            "gridcolor": "white",
            "gridwidth": 2,
            "linecolor": "white",
            "showbackground": true,
            "ticks": "",
            "zerolinecolor": "white"
           },
           "zaxis": {
            "backgroundcolor": "#E5ECF6",
            "gridcolor": "white",
            "gridwidth": 2,
            "linecolor": "white",
            "showbackground": true,
            "ticks": "",
            "zerolinecolor": "white"
           }
          },
          "shapedefaults": {
           "line": {
            "color": "#2a3f5f"
           }
          },
          "ternary": {
           "aaxis": {
            "gridcolor": "white",
            "linecolor": "white",
            "ticks": ""
           },
           "baxis": {
            "gridcolor": "white",
            "linecolor": "white",
            "ticks": ""
           },
           "bgcolor": "#E5ECF6",
           "caxis": {
            "gridcolor": "white",
            "linecolor": "white",
            "ticks": ""
           }
          },
          "title": {
           "x": 0.05
          },
          "xaxis": {
           "automargin": true,
           "gridcolor": "white",
           "linecolor": "white",
           "ticks": "",
           "title": {
            "standoff": 15
           },
           "zerolinecolor": "white",
           "zerolinewidth": 2
          },
          "yaxis": {
           "automargin": true,
           "gridcolor": "white",
           "linecolor": "white",
           "ticks": "",
           "title": {
            "standoff": 15
           },
           "zerolinecolor": "white",
           "zerolinewidth": 2
          }
         }
        },
        "xaxis": {
         "showgrid": false
        },
        "yaxis": {
         "showgrid": false
        }
       }
      }
     },
     "metadata": {},
     "output_type": "display_data"
    }
   ],
   "source": [
    "def display_corr_matrix(dataset):\n",
    "    corr = dataset.select_dtypes(exclude=['object']).corr()\n",
    "    mask = np.tril(np.ones(corr.shape)).astype(bool)\n",
    "    corr = corr.where(~mask)\n",
    "    \n",
    "    trace = go.Heatmap(z=corr.values,\n",
    "                       x=corr.index.values,\n",
    "                       y=corr.columns.values)\n",
    "\n",
    "    fig = go.Figure()\n",
    "    fig.add_trace(trace)\n",
    "    fig.update_layout(\n",
    "        plot_bgcolor='rgba(0,0,0,0)',\n",
    "        xaxis=dict(showgrid=False),\n",
    "        yaxis=dict(showgrid=False)\n",
    "    )\n",
    "    fig.show()\n",
    "\n",
    "display_corr_matrix(pd_df)"
   ]
  },
  {
   "cell_type": "code",
   "execution_count": 13,
   "metadata": {},
   "outputs": [
    {
     "data": {
      "application/vnd.plotly.v1+json": {
       "config": {
        "plotlyServerURL": "https://plot.ly"
       },
       "data": [
        {
         "type": "bar",
         "x": [
          -0.8435555860762605,
          -0.5542298369183405,
          -0.48718516543610607,
          -0.41505165905292857,
          -0.29687545647359537,
          -0.28181145487181136,
          -0.23868653616045982,
          -0.21461464298065122,
          -0.2143403886612647,
          -0.20631219266893513,
          -0.19725116902931789,
          -0.1938369251933011,
          -0.17556059434543664,
          -0.17300787496415276,
          -0.16415440136696202,
          -0.16334153711216606,
          -0.15206485802502173,
          -0.14002724221851265,
          -0.12708433431715035,
          -0.11438498126983054,
          -0.11320858511222537,
          -0.10568235625247721,
          -0.09773926336834461,
          -0.09552064045526,
          -0.09464112526399668,
          -0.0946050500932557,
          -0.09129117421263593,
          -0.09117378890562183,
          -0.08966531355308474,
          -0.08360282222524491,
          -0.0820048822593435,
          -0.08109559631683012,
          -0.08044161451639786,
          -0.0739571441074489,
          -0.07109272563801203,
          -0.07103534443751629,
          -0.07039537800620368,
          -0.06907302114584879,
          -0.06762902161783817,
          -0.06697977989333632,
          -0.06494336468987905,
          -0.06341679355083252,
          -0.0616513882110195,
          -0.06163451786854433,
          -0.060111346404566,
          -0.05886012773161524,
          -0.0588325373590535,
          -0.05826668875184465,
          -0.057949357126266865,
          -0.057309237482963626,
          -0.056191973421559696,
          -0.05552121554139382,
          -0.05528451376258254,
          -0.054915997049676236,
          -0.054232695066677834,
          -0.05353553695999546,
          -0.05352314957382306,
          -0.051890267850304726,
          -0.04999981295196286,
          -0.04823163745926468,
          -0.04812264331640685,
          -0.047515656759082,
          -0.045885182077441404,
          -0.045687873930322934,
          -0.0454781883701531,
          -0.04325633458475021,
          -0.04188450407413045,
          -0.0382547766342159,
          -0.03748837520242804,
          -0.03704769679064317,
          -0.03660520491510025,
          -0.03576985749716469,
          -0.03525508941491378,
          -0.03510772962975553,
          -0.03503228170743915,
          -0.034703961940312916,
          -0.034655365665342414,
          -0.03464044407124918,
          -0.034468859199790466,
          -0.03431836042244227,
          -0.03350145232541738,
          -0.03270224222451741,
          -0.03028793632181627,
          -0.029724972419126656,
          -0.02946422424096964,
          -0.029096020304525773,
          -0.027916514594467774,
          -0.02679176567759347,
          -0.025020192063636273,
          -0.02434393838419667,
          -0.022939053910397203,
          -0.0223151263099854,
          -0.018704170010985073,
          -0.01864892194575845,
          -0.018146650775894103,
          -0.01791203448540497,
          -0.017803042722495215,
          -0.01650657142756979,
          -0.016159236558900756,
          -0.015743829484779304,
          -0.015591773971088343,
          -0.01549520073884031,
          -0.014950280475001987,
          -0.014606511802725987,
          -0.01446179671993757,
          -0.014216734051647646,
          -0.013494451984576281,
          -0.01327342106774986,
          -0.012830680134846905,
          -0.011702460111520725,
          -0.011478463088097409,
          -0.011208564737364618,
          -0.0111137698472744,
          -0.010469707430788788,
          -0.008324545760566989,
          -0.007417721228158716,
          -0.007408889450674648,
          -0.006932840047850685,
          -0.006182152493020474,
          -0.00581515211950077,
          -0.004794885746940382,
          -0.004425848730760765,
          -0.004113488616658319,
          -0.0026975106422826947,
          -0.0025290727036379125,
          -0.002511583600295934,
          -0.0012946396428343376,
          -0.0012619266773231748,
          -0.0007821429034672302,
          -0.0005862534307308762,
          -0.00047056826364877646,
          0.0012321376461855045,
          0.0012554937229490688,
          0.0012705320325019473,
          0.0017701981192892163,
          0.00240543795772507,
          0.002544623198901356,
          0.0025573953984516238,
          0.0028848652521067247,
          0.003140064943975734,
          0.0032072453041691903,
          0.0037223947199265155,
          0.005498983288118935,
          0.005710831359470789,
          0.005769957946284776,
          0.006465364613695302,
          0.006652933870637767,
          0.007806400515872055,
          0.008060163546893196,
          0.008115717453147209,
          0.008426374040366672,
          0.009074327249736077,
          0.009215093036584635,
          0.009768297485714984,
          0.010172449565624006,
          0.010401817065374215,
          0.011066422372802861,
          0.011566371034628443,
          0.012012365184239824,
          0.01240187627825181,
          0.012490031850741344,
          0.01278923479517233,
          0.012907207284402328,
          0.01308251726307055,
          0.013097040766431345,
          0.013114399235161663,
          0.013121482732340437,
          0.013583379796140285,
          0.013798502888816802,
          0.014079205747903126,
          0.014112543955527763,
          0.01444712837368792,
          0.014460471000213328,
          0.014550482119744903,
          0.014794012475276319,
          0.014886819255900468,
          0.014953486913068402,
          0.015113880639181898,
          0.01514586934855933,
          0.015217357424147636,
          0.015248336207254715,
          0.015947114510295544,
          0.016092710994209242,
          0.01645421892048033,
          0.016801846242821248,
          0.017918525313916307,
          0.017998008859579043,
          0.018569284375860824,
          0.018887325910145757,
          0.01942433272800688,
          0.01945480145944352,
          0.01949329338340278,
          0.019521323202309822,
          0.019658856747473745,
          0.019762686387318453,
          0.021146824034434405,
          0.021172177952135295,
          0.021518602405808884,
          0.021617063577607724,
          0.021645393694044515,
          0.022003363321134117,
          0.022763727691813965,
          0.023149394627436322,
          0.023582576754918073,
          0.024272065726701913,
          0.024451199185033697,
          0.024465492144247543,
          0.024905896931028654,
          0.025170661241038367,
          0.026739058115032348,
          0.02690605918303228,
          0.02693630662535329,
          0.028406547967582477,
          0.028743508824897162,
          0.030104426129419385,
          0.03020565184368752,
          0.030914724915292267,
          0.0330173665525622,
          0.03332392956689338,
          0.033535710921459544,
          0.03368574406718195,
          0.03609287984932842,
          0.03656336891354318,
          0.036951549975674514,
          0.03717228848029594,
          0.03781829383191303,
          0.038278453515859366,
          0.03873965455562631,
          0.03876419095906918,
          0.04041390036649461,
          0.04042314013867424,
          0.040479660489933254,
          0.04144422490545083,
          0.0419456182857357,
          0.041953636294545814,
          0.04313191079017879,
          0.04456979318376726,
          0.045247112468566594,
          0.04720500090362921,
          0.04788559683733907,
          0.04855590849658963,
          0.049484086574795756,
          0.04974339216123981,
          0.05028057729965889,
          0.050405865862158665,
          0.05052301614967765,
          0.051760305953492104,
          0.05204736170090561,
          0.05237648986676276,
          0.05299640757267905,
          0.05588400387389873,
          0.05906852081221105,
          0.06032439144204698,
          0.06188798030896553,
          0.06208848336376214,
          0.0627825247613409,
          0.0630124071216121,
          0.066611679251879,
          0.06747270970294787,
          0.07328861528040673,
          0.07360487708955893,
          0.08495626339117003,
          0.09171901592993113,
          0.09374482743726385,
          0.09660835296847872,
          0.10147118723782803,
          0.10280962953788647,
          0.10441035883106221,
          0.10651385344622451,
          0.10785844585167999,
          0.1161710364124457,
          0.11631197676167393,
          0.11826543982239271,
          0.12001031990168236,
          0.12931488851876016,
          0.1328428560196852,
          0.13505655602534364,
          0.13827519403306351,
          0.14270422205043834,
          0.14976301170448503,
          0.15616649303257155,
          0.15969488036665616,
          0.1608264039253863,
          0.16857351418976543,
          0.16988884876968982,
          0.17052913071586437,
          0.18337247183028454,
          0.19843494147329396,
          0.20379042015241763,
          0.20857445967523372,
          0.2137261452704069,
          0.2314638860958264,
          0.27185081301705716,
          0.2775049018254733,
          0.2949676038548408,
          0.29648227930694215,
          0.4041455586386787,
          0.46417500984123494,
          0.5438349620090496,
          0.6505105744288101
         ],
         "y": [
          1,
          1,
          1,
          1,
          1,
          1,
          1,
          1,
          1,
          1,
          1,
          1,
          1,
          1,
          1,
          1,
          1,
          1,
          1,
          1,
          1,
          1,
          1,
          1,
          1,
          1,
          1,
          1,
          1,
          1,
          1,
          1,
          1,
          1,
          1,
          1,
          1,
          1,
          1,
          1,
          1,
          1,
          1,
          1,
          1,
          1,
          1,
          1,
          1,
          1,
          1,
          1,
          1,
          1,
          1,
          1,
          1,
          1,
          1,
          1,
          1,
          1,
          1,
          1,
          1,
          1,
          1,
          1,
          1,
          1,
          1,
          1,
          1,
          1,
          1,
          1,
          1,
          1,
          1,
          1,
          1,
          1,
          1,
          1,
          1,
          1,
          1,
          1,
          1,
          1,
          1,
          1,
          1,
          1,
          1,
          1,
          1,
          1,
          1,
          1,
          1,
          1,
          1,
          1,
          1,
          1,
          1,
          1,
          1,
          1,
          1,
          1,
          1,
          1,
          1,
          1,
          1,
          1,
          1,
          1,
          1,
          1,
          1,
          1,
          1,
          1,
          1,
          1,
          1,
          1,
          1,
          1,
          1,
          1,
          1,
          1,
          1,
          1,
          1,
          1,
          1,
          1,
          1,
          1,
          1,
          1,
          1,
          1,
          1,
          1,
          1,
          1,
          1,
          1,
          1,
          1,
          1,
          1,
          1,
          1,
          1,
          1,
          1,
          1,
          1,
          1,
          1,
          1,
          1,
          1,
          1,
          1,
          1,
          1,
          1,
          1,
          1,
          1,
          1,
          1,
          1,
          1,
          1,
          1,
          1,
          1,
          1,
          1,
          1,
          1,
          1,
          1,
          1,
          1,
          1,
          1,
          1,
          1,
          1,
          1,
          1,
          1,
          1,
          1,
          1,
          1,
          1,
          1,
          1,
          1,
          1,
          1,
          1,
          1,
          1,
          1,
          1,
          1,
          1,
          1,
          1,
          1,
          1,
          1,
          1,
          1,
          1,
          1,
          1,
          1,
          1,
          1,
          1,
          1,
          1,
          1,
          1,
          1,
          1,
          1,
          1,
          1,
          1,
          1,
          1,
          1,
          1,
          1,
          1,
          1,
          1,
          1,
          1,
          1,
          1,
          1,
          1,
          1,
          1,
          1,
          1,
          1,
          1,
          1,
          1,
          1,
          1,
          1,
          1,
          1,
          1,
          1,
          1,
          1,
          1,
          1,
          1,
          1,
          1,
          1,
          1,
          1,
          1,
          1,
          1,
          1,
          1,
          1,
          1,
          1,
          1,
          1,
          1,
          1,
          1,
          1,
          1,
          1,
          1,
          1
         ]
        }
       ],
       "layout": {
        "paper_bgcolor": "rgba(0,0,0,0)",
        "plot_bgcolor": "rgba(0,0,0,0)",
        "template": {
         "data": {
          "bar": [
           {
            "error_x": {
             "color": "#2a3f5f"
            },
            "error_y": {
             "color": "#2a3f5f"
            },
            "marker": {
             "line": {
              "color": "#E5ECF6",
              "width": 0.5
             },
             "pattern": {
              "fillmode": "overlay",
              "size": 10,
              "solidity": 0.2
             }
            },
            "type": "bar"
           }
          ],
          "barpolar": [
           {
            "marker": {
             "line": {
              "color": "#E5ECF6",
              "width": 0.5
             },
             "pattern": {
              "fillmode": "overlay",
              "size": 10,
              "solidity": 0.2
             }
            },
            "type": "barpolar"
           }
          ],
          "carpet": [
           {
            "aaxis": {
             "endlinecolor": "#2a3f5f",
             "gridcolor": "white",
             "linecolor": "white",
             "minorgridcolor": "white",
             "startlinecolor": "#2a3f5f"
            },
            "baxis": {
             "endlinecolor": "#2a3f5f",
             "gridcolor": "white",
             "linecolor": "white",
             "minorgridcolor": "white",
             "startlinecolor": "#2a3f5f"
            },
            "type": "carpet"
           }
          ],
          "choropleth": [
           {
            "colorbar": {
             "outlinewidth": 0,
             "ticks": ""
            },
            "type": "choropleth"
           }
          ],
          "contour": [
           {
            "colorbar": {
             "outlinewidth": 0,
             "ticks": ""
            },
            "colorscale": [
             [
              0,
              "#0d0887"
             ],
             [
              0.1111111111111111,
              "#46039f"
             ],
             [
              0.2222222222222222,
              "#7201a8"
             ],
             [
              0.3333333333333333,
              "#9c179e"
             ],
             [
              0.4444444444444444,
              "#bd3786"
             ],
             [
              0.5555555555555556,
              "#d8576b"
             ],
             [
              0.6666666666666666,
              "#ed7953"
             ],
             [
              0.7777777777777778,
              "#fb9f3a"
             ],
             [
              0.8888888888888888,
              "#fdca26"
             ],
             [
              1,
              "#f0f921"
             ]
            ],
            "type": "contour"
           }
          ],
          "contourcarpet": [
           {
            "colorbar": {
             "outlinewidth": 0,
             "ticks": ""
            },
            "type": "contourcarpet"
           }
          ],
          "heatmap": [
           {
            "colorbar": {
             "outlinewidth": 0,
             "ticks": ""
            },
            "colorscale": [
             [
              0,
              "#0d0887"
             ],
             [
              0.1111111111111111,
              "#46039f"
             ],
             [
              0.2222222222222222,
              "#7201a8"
             ],
             [
              0.3333333333333333,
              "#9c179e"
             ],
             [
              0.4444444444444444,
              "#bd3786"
             ],
             [
              0.5555555555555556,
              "#d8576b"
             ],
             [
              0.6666666666666666,
              "#ed7953"
             ],
             [
              0.7777777777777778,
              "#fb9f3a"
             ],
             [
              0.8888888888888888,
              "#fdca26"
             ],
             [
              1,
              "#f0f921"
             ]
            ],
            "type": "heatmap"
           }
          ],
          "heatmapgl": [
           {
            "colorbar": {
             "outlinewidth": 0,
             "ticks": ""
            },
            "colorscale": [
             [
              0,
              "#0d0887"
             ],
             [
              0.1111111111111111,
              "#46039f"
             ],
             [
              0.2222222222222222,
              "#7201a8"
             ],
             [
              0.3333333333333333,
              "#9c179e"
             ],
             [
              0.4444444444444444,
              "#bd3786"
             ],
             [
              0.5555555555555556,
              "#d8576b"
             ],
             [
              0.6666666666666666,
              "#ed7953"
             ],
             [
              0.7777777777777778,
              "#fb9f3a"
             ],
             [
              0.8888888888888888,
              "#fdca26"
             ],
             [
              1,
              "#f0f921"
             ]
            ],
            "type": "heatmapgl"
           }
          ],
          "histogram": [
           {
            "marker": {
             "pattern": {
              "fillmode": "overlay",
              "size": 10,
              "solidity": 0.2
             }
            },
            "type": "histogram"
           }
          ],
          "histogram2d": [
           {
            "colorbar": {
             "outlinewidth": 0,
             "ticks": ""
            },
            "colorscale": [
             [
              0,
              "#0d0887"
             ],
             [
              0.1111111111111111,
              "#46039f"
             ],
             [
              0.2222222222222222,
              "#7201a8"
             ],
             [
              0.3333333333333333,
              "#9c179e"
             ],
             [
              0.4444444444444444,
              "#bd3786"
             ],
             [
              0.5555555555555556,
              "#d8576b"
             ],
             [
              0.6666666666666666,
              "#ed7953"
             ],
             [
              0.7777777777777778,
              "#fb9f3a"
             ],
             [
              0.8888888888888888,
              "#fdca26"
             ],
             [
              1,
              "#f0f921"
             ]
            ],
            "type": "histogram2d"
           }
          ],
          "histogram2dcontour": [
           {
            "colorbar": {
             "outlinewidth": 0,
             "ticks": ""
            },
            "colorscale": [
             [
              0,
              "#0d0887"
             ],
             [
              0.1111111111111111,
              "#46039f"
             ],
             [
              0.2222222222222222,
              "#7201a8"
             ],
             [
              0.3333333333333333,
              "#9c179e"
             ],
             [
              0.4444444444444444,
              "#bd3786"
             ],
             [
              0.5555555555555556,
              "#d8576b"
             ],
             [
              0.6666666666666666,
              "#ed7953"
             ],
             [
              0.7777777777777778,
              "#fb9f3a"
             ],
             [
              0.8888888888888888,
              "#fdca26"
             ],
             [
              1,
              "#f0f921"
             ]
            ],
            "type": "histogram2dcontour"
           }
          ],
          "mesh3d": [
           {
            "colorbar": {
             "outlinewidth": 0,
             "ticks": ""
            },
            "type": "mesh3d"
           }
          ],
          "parcoords": [
           {
            "line": {
             "colorbar": {
              "outlinewidth": 0,
              "ticks": ""
             }
            },
            "type": "parcoords"
           }
          ],
          "pie": [
           {
            "automargin": true,
            "type": "pie"
           }
          ],
          "scatter": [
           {
            "fillpattern": {
             "fillmode": "overlay",
             "size": 10,
             "solidity": 0.2
            },
            "type": "scatter"
           }
          ],
          "scatter3d": [
           {
            "line": {
             "colorbar": {
              "outlinewidth": 0,
              "ticks": ""
             }
            },
            "marker": {
             "colorbar": {
              "outlinewidth": 0,
              "ticks": ""
             }
            },
            "type": "scatter3d"
           }
          ],
          "scattercarpet": [
           {
            "marker": {
             "colorbar": {
              "outlinewidth": 0,
              "ticks": ""
             }
            },
            "type": "scattercarpet"
           }
          ],
          "scattergeo": [
           {
            "marker": {
             "colorbar": {
              "outlinewidth": 0,
              "ticks": ""
             }
            },
            "type": "scattergeo"
           }
          ],
          "scattergl": [
           {
            "marker": {
             "colorbar": {
              "outlinewidth": 0,
              "ticks": ""
             }
            },
            "type": "scattergl"
           }
          ],
          "scattermapbox": [
           {
            "marker": {
             "colorbar": {
              "outlinewidth": 0,
              "ticks": ""
             }
            },
            "type": "scattermapbox"
           }
          ],
          "scatterpolar": [
           {
            "marker": {
             "colorbar": {
              "outlinewidth": 0,
              "ticks": ""
             }
            },
            "type": "scatterpolar"
           }
          ],
          "scatterpolargl": [
           {
            "marker": {
             "colorbar": {
              "outlinewidth": 0,
              "ticks": ""
             }
            },
            "type": "scatterpolargl"
           }
          ],
          "scatterternary": [
           {
            "marker": {
             "colorbar": {
              "outlinewidth": 0,
              "ticks": ""
             }
            },
            "type": "scatterternary"
           }
          ],
          "surface": [
           {
            "colorbar": {
             "outlinewidth": 0,
             "ticks": ""
            },
            "colorscale": [
             [
              0,
              "#0d0887"
             ],
             [
              0.1111111111111111,
              "#46039f"
             ],
             [
              0.2222222222222222,
              "#7201a8"
             ],
             [
              0.3333333333333333,
              "#9c179e"
             ],
             [
              0.4444444444444444,
              "#bd3786"
             ],
             [
              0.5555555555555556,
              "#d8576b"
             ],
             [
              0.6666666666666666,
              "#ed7953"
             ],
             [
              0.7777777777777778,
              "#fb9f3a"
             ],
             [
              0.8888888888888888,
              "#fdca26"
             ],
             [
              1,
              "#f0f921"
             ]
            ],
            "type": "surface"
           }
          ],
          "table": [
           {
            "cells": {
             "fill": {
              "color": "#EBF0F8"
             },
             "line": {
              "color": "white"
             }
            },
            "header": {
             "fill": {
              "color": "#C8D4E3"
             },
             "line": {
              "color": "white"
             }
            },
            "type": "table"
           }
          ]
         },
         "layout": {
          "annotationdefaults": {
           "arrowcolor": "#2a3f5f",
           "arrowhead": 0,
           "arrowwidth": 1
          },
          "autotypenumbers": "strict",
          "coloraxis": {
           "colorbar": {
            "outlinewidth": 0,
            "ticks": ""
           }
          },
          "colorscale": {
           "diverging": [
            [
             0,
             "#8e0152"
            ],
            [
             0.1,
             "#c51b7d"
            ],
            [
             0.2,
             "#de77ae"
            ],
            [
             0.3,
             "#f1b6da"
            ],
            [
             0.4,
             "#fde0ef"
            ],
            [
             0.5,
             "#f7f7f7"
            ],
            [
             0.6,
             "#e6f5d0"
            ],
            [
             0.7,
             "#b8e186"
            ],
            [
             0.8,
             "#7fbc41"
            ],
            [
             0.9,
             "#4d9221"
            ],
            [
             1,
             "#276419"
            ]
           ],
           "sequential": [
            [
             0,
             "#0d0887"
            ],
            [
             0.1111111111111111,
             "#46039f"
            ],
            [
             0.2222222222222222,
             "#7201a8"
            ],
            [
             0.3333333333333333,
             "#9c179e"
            ],
            [
             0.4444444444444444,
             "#bd3786"
            ],
            [
             0.5555555555555556,
             "#d8576b"
            ],
            [
             0.6666666666666666,
             "#ed7953"
            ],
            [
             0.7777777777777778,
             "#fb9f3a"
            ],
            [
             0.8888888888888888,
             "#fdca26"
            ],
            [
             1,
             "#f0f921"
            ]
           ],
           "sequentialminus": [
            [
             0,
             "#0d0887"
            ],
            [
             0.1111111111111111,
             "#46039f"
            ],
            [
             0.2222222222222222,
             "#7201a8"
            ],
            [
             0.3333333333333333,
             "#9c179e"
            ],
            [
             0.4444444444444444,
             "#bd3786"
            ],
            [
             0.5555555555555556,
             "#d8576b"
            ],
            [
             0.6666666666666666,
             "#ed7953"
            ],
            [
             0.7777777777777778,
             "#fb9f3a"
            ],
            [
             0.8888888888888888,
             "#fdca26"
            ],
            [
             1,
             "#f0f921"
            ]
           ]
          },
          "colorway": [
           "#636efa",
           "#EF553B",
           "#00cc96",
           "#ab63fa",
           "#FFA15A",
           "#19d3f3",
           "#FF6692",
           "#B6E880",
           "#FF97FF",
           "#FECB52"
          ],
          "font": {
           "color": "#2a3f5f"
          },
          "geo": {
           "bgcolor": "white",
           "lakecolor": "white",
           "landcolor": "#E5ECF6",
           "showlakes": true,
           "showland": true,
           "subunitcolor": "white"
          },
          "hoverlabel": {
           "align": "left"
          },
          "hovermode": "closest",
          "mapbox": {
           "style": "light"
          },
          "paper_bgcolor": "white",
          "plot_bgcolor": "#E5ECF6",
          "polar": {
           "angularaxis": {
            "gridcolor": "white",
            "linecolor": "white",
            "ticks": ""
           },
           "bgcolor": "#E5ECF6",
           "radialaxis": {
            "gridcolor": "white",
            "linecolor": "white",
            "ticks": ""
           }
          },
          "scene": {
           "xaxis": {
            "backgroundcolor": "#E5ECF6",
            "gridcolor": "white",
            "gridwidth": 2,
            "linecolor": "white",
            "showbackground": true,
            "ticks": "",
            "zerolinecolor": "white"
           },
           "yaxis": {
            "backgroundcolor": "#E5ECF6",
            "gridcolor": "white",
            "gridwidth": 2,
            "linecolor": "white",
            "showbackground": true,
            "ticks": "",
            "zerolinecolor": "white"
           },
           "zaxis": {
            "backgroundcolor": "#E5ECF6",
            "gridcolor": "white",
            "gridwidth": 2,
            "linecolor": "white",
            "showbackground": true,
            "ticks": "",
            "zerolinecolor": "white"
           }
          },
          "shapedefaults": {
           "line": {
            "color": "#2a3f5f"
           }
          },
          "ternary": {
           "aaxis": {
            "gridcolor": "white",
            "linecolor": "white",
            "ticks": ""
           },
           "baxis": {
            "gridcolor": "white",
            "linecolor": "white",
            "ticks": ""
           },
           "bgcolor": "#E5ECF6",
           "caxis": {
            "gridcolor": "white",
            "linecolor": "white",
            "ticks": ""
           }
          },
          "title": {
           "x": 0.05
          },
          "xaxis": {
           "automargin": true,
           "gridcolor": "white",
           "linecolor": "white",
           "ticks": "",
           "title": {
            "standoff": 15
           },
           "zerolinecolor": "white",
           "zerolinewidth": 2
          },
          "yaxis": {
           "automargin": true,
           "gridcolor": "white",
           "linecolor": "white",
           "ticks": "",
           "title": {
            "standoff": 15
           },
           "zerolinecolor": "white",
           "zerolinewidth": 2
          }
         }
        },
        "title": {
         "text": "Correlation Value Distribution"
        },
        "xaxis": {
         "showgrid": false,
         "tickformat": ".2f",
         "tickvals": [
          -0.84,
          -0.55,
          -0.49,
          -0.42,
          -0.3,
          -0.28,
          -0.24,
          -0.21,
          -0.21,
          -0.21,
          -0.2,
          -0.19,
          -0.18,
          -0.17,
          -0.16,
          -0.16,
          -0.15,
          -0.14,
          -0.13,
          -0.11,
          -0.11,
          -0.11,
          -0.1,
          -0.1,
          -0.09,
          -0.09,
          -0.09,
          -0.09,
          -0.09,
          -0.08,
          -0.08,
          -0.08,
          -0.08,
          -0.07,
          -0.07,
          -0.07,
          -0.07,
          -0.07,
          -0.07,
          -0.07,
          -0.06,
          -0.06,
          -0.06,
          -0.06,
          -0.06,
          -0.06,
          -0.06,
          -0.06,
          -0.06,
          -0.06,
          -0.06,
          -0.06,
          -0.06,
          -0.05,
          -0.05,
          -0.05,
          -0.05,
          -0.05,
          -0.05,
          -0.05,
          -0.05,
          -0.05,
          -0.05,
          -0.05,
          -0.05,
          -0.04,
          -0.04,
          -0.04,
          -0.04,
          -0.04,
          -0.04,
          -0.04,
          -0.04,
          -0.04,
          -0.04,
          -0.03,
          -0.03,
          -0.03,
          -0.03,
          -0.03,
          -0.03,
          -0.03,
          -0.03,
          -0.03,
          -0.03,
          -0.03,
          -0.03,
          -0.03,
          -0.03,
          -0.02,
          -0.02,
          -0.02,
          -0.02,
          -0.02,
          -0.02,
          -0.02,
          -0.02,
          -0.02,
          -0.02,
          -0.02,
          -0.02,
          -0.02,
          -0.01,
          -0.01,
          -0.01,
          -0.01,
          -0.01,
          -0.01,
          -0.01,
          -0.01,
          -0.01,
          -0.01,
          -0.01,
          -0.01,
          -0.01,
          -0.01,
          -0.01,
          -0.01,
          -0.01,
          -0.01,
          0,
          0,
          0,
          0,
          0,
          0,
          0,
          0,
          0,
          0,
          0,
          0,
          0,
          0,
          0,
          0,
          0,
          0,
          0,
          0,
          0,
          0,
          0.01,
          0.01,
          0.01,
          0.01,
          0.01,
          0.01,
          0.01,
          0.01,
          0.01,
          0.01,
          0.01,
          0.01,
          0.01,
          0.01,
          0.01,
          0.01,
          0.01,
          0.01,
          0.01,
          0.01,
          0.01,
          0.01,
          0.01,
          0.01,
          0.01,
          0.01,
          0.01,
          0.01,
          0.01,
          0.01,
          0.01,
          0.01,
          0.01,
          0.01,
          0.01,
          0.02,
          0.02,
          0.02,
          0.02,
          0.02,
          0.02,
          0.02,
          0.02,
          0.02,
          0.02,
          0.02,
          0.02,
          0.02,
          0.02,
          0.02,
          0.02,
          0.02,
          0.02,
          0.02,
          0.02,
          0.02,
          0.02,
          0.02,
          0.02,
          0.02,
          0.02,
          0.02,
          0.02,
          0.02,
          0.02,
          0.02,
          0.03,
          0.03,
          0.03,
          0.03,
          0.03,
          0.03,
          0.03,
          0.03,
          0.03,
          0.03,
          0.03,
          0.03,
          0.03,
          0.04,
          0.04,
          0.04,
          0.04,
          0.04,
          0.04,
          0.04,
          0.04,
          0.04,
          0.04,
          0.04,
          0.04,
          0.04,
          0.04,
          0.04,
          0.04,
          0.05,
          0.05,
          0.05,
          0.05,
          0.05,
          0.05,
          0.05,
          0.05,
          0.05,
          0.05,
          0.05,
          0.05,
          0.05,
          0.06,
          0.06,
          0.06,
          0.06,
          0.06,
          0.06,
          0.06,
          0.07,
          0.07,
          0.07,
          0.07,
          0.08,
          0.09,
          0.09,
          0.1,
          0.1,
          0.1,
          0.1,
          0.11,
          0.11,
          0.12,
          0.12,
          0.12,
          0.12,
          0.13,
          0.13,
          0.14,
          0.14,
          0.14,
          0.15,
          0.16,
          0.16,
          0.16,
          0.17,
          0.17,
          0.17,
          0.18,
          0.2,
          0.2,
          0.21,
          0.21,
          0.23,
          0.27,
          0.28,
          0.29,
          0.3,
          0.4,
          0.46,
          0.54,
          0.65
         ],
         "title": {
          "text": "Correlation Value"
         }
        },
        "yaxis": {
         "showgrid": false,
         "title": {
          "text": "Frequency"
         }
        }
       }
      }
     },
     "metadata": {},
     "output_type": "display_data"
    }
   ],
   "source": [
    "def display_corr_distribution(dataset, title=\"Correlation Value Distribution\"):\n",
    "\n",
    "    corr = dataset.select_dtypes(exclude=['object']).corr()\n",
    "    mask = np.tril(np.ones(corr.shape)).astype(bool)\n",
    "\n",
    "    corr_values = corr.where(~mask).stack() # flatten trilled matrix\n",
    "    corr_value_counts = corr_values.value_counts().sort_index()\n",
    "\n",
    "    trace = go.Bar(\n",
    "        x=corr_value_counts.index,\n",
    "        y=corr_value_counts.values\n",
    "    )\n",
    "\n",
    "    fig = go.Figure()\n",
    "    fig.add_trace(trace)\n",
    "    fig.update_layout(\n",
    "        title=title,\n",
    "        xaxis_title=\"Correlation Value\",\n",
    "        yaxis_title=\"Frequency\",\n",
    "        paper_bgcolor='rgba(0,0,0,0)',\n",
    "        plot_bgcolor='rgba(0,0,0,0)',\n",
    "        xaxis=dict(\n",
    "            showgrid=False,\n",
    "            tickvals=np.round(corr_value_counts.index, 2),  # Set tick values with improved precision\n",
    "            tickformat=\".2f\"  # Format ticks to 2 decimal places\n",
    "        ),\n",
    "        yaxis=dict(showgrid=False)\n",
    "    )\n",
    "    fig.show()\n",
    "\n",
    "display_corr_distribution(pd_df)"
   ]
  },
  {
   "cell_type": "code",
   "execution_count": 14,
   "metadata": {},
   "outputs": [],
   "source": [
    "cleaned_df_pd = balanced_df.drop('MONTH').to_pandas()"
   ]
  },
  {
   "cell_type": "code",
   "execution_count": 15,
   "metadata": {},
   "outputs": [
    {
     "data": {
      "application/vnd.plotly.v1+json": {
       "config": {
        "plotlyServerURL": "https://plot.ly"
       },
       "data": [
        {
         "type": "bar",
         "x": [
          -0.4871938387304187,
          -0.29682791868805336,
          -0.2386245302751037,
          -0.21462148048913016,
          -0.20632148263030123,
          -0.19728126476190289,
          -0.1938385833445356,
          -0.1755787646303764,
          -0.17299573765297002,
          -0.16414515389048737,
          -0.16334130680202918,
          -0.1520671858067118,
          -0.1399697394432713,
          -0.12709637353160125,
          -0.11439280845670297,
          -0.11324276535329655,
          -0.10568879094437518,
          -0.09770707955051436,
          -0.0954611310342597,
          -0.09460780551451488,
          -0.09456757997898053,
          -0.09125648904631142,
          -0.09113998020054445,
          -0.0896134499984085,
          -0.08359348546754383,
          -0.08201084535580572,
          -0.08113769978384561,
          -0.08043719075338825,
          -0.0739561925046144,
          -0.07109178152114334,
          -0.07102674483076861,
          -0.06763274151955025,
          -0.06698983896672982,
          -0.06343269920052445,
          -0.061659588268001456,
          -0.06160334264020712,
          -0.06009210254517223,
          -0.05887900811774449,
          -0.05882550014568105,
          -0.05825969428454554,
          -0.05795243036842385,
          -0.05729564827128715,
          -0.05622049629715433,
          -0.05553078995613687,
          -0.054947833840631,
          -0.05425813506594531,
          -0.05352645600601013,
          -0.05352192751564347,
          -0.05185945612571495,
          -0.04994440866077099,
          -0.04822850433423045,
          -0.04754122050273653,
          -0.04590532987379598,
          -0.045717789953970404,
          -0.04543277353903415,
          -0.041854422139434785,
          -0.03822252779044484,
          -0.03750198525332327,
          -0.037047029680701137,
          -0.03664832198589012,
          -0.03579795297818075,
          -0.03521744489733613,
          -0.035099100030445134,
          -0.035006560127487506,
          -0.034691219834504634,
          -0.03463907693071765,
          -0.03460797994122971,
          -0.03449031273948035,
          -0.03354626104110128,
          -0.03267783988667378,
          -0.03026929391459961,
          -0.029743145836953838,
          -0.029099359648690835,
          -0.02784408633280627,
          -0.02681677338811847,
          -0.02502680138797884,
          -0.02434997962366498,
          -0.022935139374659075,
          -0.022305628142991894,
          -0.018732145555941576,
          -0.018613350733348452,
          -0.0181055514633905,
          -0.01788716313300022,
          -0.017799812816556848,
          -0.016138877292981645,
          -0.015771021608537165,
          -0.015512630008060014,
          -0.014955046769485237,
          -0.014617681111004333,
          -0.014456398403908149,
          -0.014229589286260147,
          -0.013218922927830876,
          -0.012778415905650242,
          -0.011647920913796446,
          -0.011469075322167257,
          -0.01119683391704986,
          -0.011105298873604244,
          -0.010455050604042653,
          -0.007415478327594378,
          -0.007380249410953454,
          -0.006910720021043565,
          -0.006211323053948659,
          -0.005751644636649802,
          -0.004821293206633132,
          -0.004450294175203023,
          -0.0040964988150225,
          -0.0026760930166045954,
          -0.0025177142286357504,
          -0.0025166723446484844,
          -0.00131972082973131,
          -0.0012383184549387839,
          -0.0007689738867275866,
          -0.000616558691223114,
          -0.0004685689320725451,
          0.0012060134390126855,
          0.0012443876057280862,
          0.0013075936181992066,
          0.001800864830366545,
          0.0024304546295426228,
          0.002543727405485668,
          0.002830942725770455,
          0.003134847208801687,
          0.0031853992684079168,
          0.003762150144797931,
          0.00546142192814536,
          0.0057558486622127,
          0.005758326147284448,
          0.0064243345955848,
          0.0066431395769330345,
          0.007866824717374205,
          0.008108942266864191,
          0.008166320384609902,
          0.008421316127710332,
          0.009040488426626409,
          0.009163687799329833,
          0.00971053642696981,
          0.010165812232648333,
          0.010411784415873471,
          0.01112715687552492,
          0.01158757695524657,
          0.012001190046095053,
          0.012431660112328814,
          0.01252629054682617,
          0.012787174223553664,
          0.01285263724640717,
          0.013075773243703005,
          0.01307835144399543,
          0.013112997663992649,
          0.013132235994806134,
          0.013605216908600495,
          0.013823227563455116,
          0.014061455198210336,
          0.014095535836991824,
          0.014418284690456007,
          0.014495924547050438,
          0.014536810642116595,
          0.014854808589580798,
          0.01491751323100887,
          0.014968513378165403,
          0.015167245506033522,
          0.0152692924017082,
          0.01529874854702112,
          0.01595875633940949,
          0.016026971430074144,
          0.01676935994326431,
          0.017905814148846073,
          0.01803830109790499,
          0.01857983482419983,
          0.01895665551546022,
          0.019431047454446685,
          0.019451801278212645,
          0.01949002025815092,
          0.019508841370466927,
          0.01966504675651277,
          0.019801387911618517,
          0.021125288837552936,
          0.021139678051870583,
          0.021546339325203563,
          0.02160046421609736,
          0.02162555488615864,
          0.02200640739540436,
          0.022738068533533842,
          0.023171589284452426,
          0.023576532771182407,
          0.024295850720829824,
          0.024459326576914207,
          0.024479029955785273,
          0.024938597676276833,
          0.025169071275616326,
          0.026764052389204235,
          0.026881048835384128,
          0.02691953684144084,
          0.02837267470905341,
          0.028706995241495586,
          0.030091318819965542,
          0.030219126715462192,
          0.030902481789214554,
          0.03304573726616646,
          0.03336708843503914,
          0.03356172020423476,
          0.03365041133271673,
          0.03605249500815975,
          0.036541799256359676,
          0.037005623782481935,
          0.03716627303578433,
          0.03787184668170129,
          0.038316483553455426,
          0.03873240869405079,
          0.03874867528279913,
          0.040429322951212925,
          0.04042933180818554,
          0.040506994183096404,
          0.04144121364523334,
          0.0419619828640813,
          0.04202313165858048,
          0.0431320320595449,
          0.04456150193189766,
          0.04519560523034073,
          0.04718643668791756,
          0.04790535329598726,
          0.04855867909087569,
          0.049514296765063394,
          0.049735698747753736,
          0.05037815490540325,
          0.05042918076898354,
          0.05053127717903537,
          0.05173032178277274,
          0.052040464214475786,
          0.052389924316938855,
          0.05589441353016521,
          0.05904650702191952,
          0.06029207217334465,
          0.06210010701616543,
          0.06289759056078802,
          0.06301014118977159,
          0.06659163944501525,
          0.06752571635452025,
          0.07331618646413096,
          0.07363499461449624,
          0.0849654031582685,
          0.09176715963666032,
          0.09372183467178778,
          0.0966336772633353,
          0.10148370016817021,
          0.10439982240980984,
          0.10651027748130641,
          0.10782889219933602,
          0.11621268853689032,
          0.11632410122781135,
          0.11836020080147905,
          0.11998873622964079,
          0.12928898524670276,
          0.1328481468738592,
          0.1350798022115066,
          0.13826910193023426,
          0.14272428716976066,
          0.14975640537905172,
          0.15618146628745966,
          0.15966980990244106,
          0.16082176653100116,
          0.16857050839766657,
          0.1705424749389152,
          0.18338480848781058,
          0.19841959597082043,
          0.20375470519477212,
          0.20857362194029028,
          0.2136792655170382,
          0.23144954207102036,
          0.2718097529329588,
          0.2775231956159772,
          0.29499964816114305,
          0.29646445942662797,
          0.40414506958708424,
          0.46413685448138525,
          0.5438376061873591,
          0.6505159859746612
         ],
         "y": [
          1,
          1,
          1,
          1,
          1,
          1,
          1,
          1,
          1,
          1,
          1,
          1,
          1,
          1,
          1,
          1,
          1,
          1,
          1,
          1,
          1,
          1,
          1,
          1,
          1,
          1,
          1,
          1,
          1,
          1,
          1,
          1,
          1,
          1,
          1,
          1,
          1,
          1,
          1,
          1,
          1,
          1,
          1,
          1,
          1,
          1,
          1,
          1,
          1,
          1,
          1,
          1,
          1,
          1,
          1,
          1,
          1,
          1,
          1,
          1,
          1,
          1,
          1,
          1,
          1,
          1,
          1,
          1,
          1,
          1,
          1,
          1,
          1,
          1,
          1,
          1,
          1,
          1,
          1,
          1,
          1,
          1,
          1,
          1,
          1,
          1,
          1,
          1,
          1,
          1,
          1,
          1,
          1,
          1,
          1,
          1,
          1,
          1,
          1,
          1,
          1,
          1,
          1,
          1,
          1,
          1,
          1,
          1,
          1,
          1,
          1,
          1,
          1,
          1,
          1,
          1,
          1,
          1,
          1,
          1,
          1,
          1,
          1,
          1,
          1,
          1,
          1,
          1,
          1,
          1,
          1,
          1,
          1,
          1,
          1,
          1,
          1,
          1,
          1,
          1,
          1,
          1,
          1,
          1,
          1,
          1,
          1,
          1,
          1,
          1,
          1,
          1,
          1,
          1,
          1,
          1,
          1,
          1,
          1,
          1,
          1,
          1,
          1,
          1,
          1,
          1,
          1,
          1,
          1,
          1,
          1,
          1,
          1,
          1,
          1,
          1,
          1,
          1,
          1,
          1,
          1,
          1,
          1,
          1,
          1,
          1,
          1,
          1,
          1,
          1,
          1,
          1,
          1,
          1,
          1,
          1,
          1,
          1,
          1,
          1,
          1,
          1,
          1,
          1,
          1,
          1,
          1,
          1,
          1,
          1,
          1,
          1,
          1,
          1,
          1,
          1,
          1,
          1,
          1,
          1,
          1,
          1,
          1,
          1,
          1,
          1,
          1,
          1,
          1,
          1,
          1,
          1,
          1,
          1,
          1,
          1,
          1,
          1,
          1,
          1,
          1,
          1,
          1,
          1,
          1,
          1,
          1,
          1,
          1,
          1,
          1,
          1,
          1,
          1,
          1,
          1,
          1,
          1,
          1,
          1,
          1,
          1,
          1,
          1,
          1,
          1,
          1,
          1,
          1,
          1,
          1,
          1,
          1,
          1,
          1,
          1
         ]
        }
       ],
       "layout": {
        "paper_bgcolor": "rgba(0,0,0,0)",
        "plot_bgcolor": "rgba(0,0,0,0)",
        "template": {
         "data": {
          "bar": [
           {
            "error_x": {
             "color": "#2a3f5f"
            },
            "error_y": {
             "color": "#2a3f5f"
            },
            "marker": {
             "line": {
              "color": "#E5ECF6",
              "width": 0.5
             },
             "pattern": {
              "fillmode": "overlay",
              "size": 10,
              "solidity": 0.2
             }
            },
            "type": "bar"
           }
          ],
          "barpolar": [
           {
            "marker": {
             "line": {
              "color": "#E5ECF6",
              "width": 0.5
             },
             "pattern": {
              "fillmode": "overlay",
              "size": 10,
              "solidity": 0.2
             }
            },
            "type": "barpolar"
           }
          ],
          "carpet": [
           {
            "aaxis": {
             "endlinecolor": "#2a3f5f",
             "gridcolor": "white",
             "linecolor": "white",
             "minorgridcolor": "white",
             "startlinecolor": "#2a3f5f"
            },
            "baxis": {
             "endlinecolor": "#2a3f5f",
             "gridcolor": "white",
             "linecolor": "white",
             "minorgridcolor": "white",
             "startlinecolor": "#2a3f5f"
            },
            "type": "carpet"
           }
          ],
          "choropleth": [
           {
            "colorbar": {
             "outlinewidth": 0,
             "ticks": ""
            },
            "type": "choropleth"
           }
          ],
          "contour": [
           {
            "colorbar": {
             "outlinewidth": 0,
             "ticks": ""
            },
            "colorscale": [
             [
              0,
              "#0d0887"
             ],
             [
              0.1111111111111111,
              "#46039f"
             ],
             [
              0.2222222222222222,
              "#7201a8"
             ],
             [
              0.3333333333333333,
              "#9c179e"
             ],
             [
              0.4444444444444444,
              "#bd3786"
             ],
             [
              0.5555555555555556,
              "#d8576b"
             ],
             [
              0.6666666666666666,
              "#ed7953"
             ],
             [
              0.7777777777777778,
              "#fb9f3a"
             ],
             [
              0.8888888888888888,
              "#fdca26"
             ],
             [
              1,
              "#f0f921"
             ]
            ],
            "type": "contour"
           }
          ],
          "contourcarpet": [
           {
            "colorbar": {
             "outlinewidth": 0,
             "ticks": ""
            },
            "type": "contourcarpet"
           }
          ],
          "heatmap": [
           {
            "colorbar": {
             "outlinewidth": 0,
             "ticks": ""
            },
            "colorscale": [
             [
              0,
              "#0d0887"
             ],
             [
              0.1111111111111111,
              "#46039f"
             ],
             [
              0.2222222222222222,
              "#7201a8"
             ],
             [
              0.3333333333333333,
              "#9c179e"
             ],
             [
              0.4444444444444444,
              "#bd3786"
             ],
             [
              0.5555555555555556,
              "#d8576b"
             ],
             [
              0.6666666666666666,
              "#ed7953"
             ],
             [
              0.7777777777777778,
              "#fb9f3a"
             ],
             [
              0.8888888888888888,
              "#fdca26"
             ],
             [
              1,
              "#f0f921"
             ]
            ],
            "type": "heatmap"
           }
          ],
          "heatmapgl": [
           {
            "colorbar": {
             "outlinewidth": 0,
             "ticks": ""
            },
            "colorscale": [
             [
              0,
              "#0d0887"
             ],
             [
              0.1111111111111111,
              "#46039f"
             ],
             [
              0.2222222222222222,
              "#7201a8"
             ],
             [
              0.3333333333333333,
              "#9c179e"
             ],
             [
              0.4444444444444444,
              "#bd3786"
             ],
             [
              0.5555555555555556,
              "#d8576b"
             ],
             [
              0.6666666666666666,
              "#ed7953"
             ],
             [
              0.7777777777777778,
              "#fb9f3a"
             ],
             [
              0.8888888888888888,
              "#fdca26"
             ],
             [
              1,
              "#f0f921"
             ]
            ],
            "type": "heatmapgl"
           }
          ],
          "histogram": [
           {
            "marker": {
             "pattern": {
              "fillmode": "overlay",
              "size": 10,
              "solidity": 0.2
             }
            },
            "type": "histogram"
           }
          ],
          "histogram2d": [
           {
            "colorbar": {
             "outlinewidth": 0,
             "ticks": ""
            },
            "colorscale": [
             [
              0,
              "#0d0887"
             ],
             [
              0.1111111111111111,
              "#46039f"
             ],
             [
              0.2222222222222222,
              "#7201a8"
             ],
             [
              0.3333333333333333,
              "#9c179e"
             ],
             [
              0.4444444444444444,
              "#bd3786"
             ],
             [
              0.5555555555555556,
              "#d8576b"
             ],
             [
              0.6666666666666666,
              "#ed7953"
             ],
             [
              0.7777777777777778,
              "#fb9f3a"
             ],
             [
              0.8888888888888888,
              "#fdca26"
             ],
             [
              1,
              "#f0f921"
             ]
            ],
            "type": "histogram2d"
           }
          ],
          "histogram2dcontour": [
           {
            "colorbar": {
             "outlinewidth": 0,
             "ticks": ""
            },
            "colorscale": [
             [
              0,
              "#0d0887"
             ],
             [
              0.1111111111111111,
              "#46039f"
             ],
             [
              0.2222222222222222,
              "#7201a8"
             ],
             [
              0.3333333333333333,
              "#9c179e"
             ],
             [
              0.4444444444444444,
              "#bd3786"
             ],
             [
              0.5555555555555556,
              "#d8576b"
             ],
             [
              0.6666666666666666,
              "#ed7953"
             ],
             [
              0.7777777777777778,
              "#fb9f3a"
             ],
             [
              0.8888888888888888,
              "#fdca26"
             ],
             [
              1,
              "#f0f921"
             ]
            ],
            "type": "histogram2dcontour"
           }
          ],
          "mesh3d": [
           {
            "colorbar": {
             "outlinewidth": 0,
             "ticks": ""
            },
            "type": "mesh3d"
           }
          ],
          "parcoords": [
           {
            "line": {
             "colorbar": {
              "outlinewidth": 0,
              "ticks": ""
             }
            },
            "type": "parcoords"
           }
          ],
          "pie": [
           {
            "automargin": true,
            "type": "pie"
           }
          ],
          "scatter": [
           {
            "fillpattern": {
             "fillmode": "overlay",
             "size": 10,
             "solidity": 0.2
            },
            "type": "scatter"
           }
          ],
          "scatter3d": [
           {
            "line": {
             "colorbar": {
              "outlinewidth": 0,
              "ticks": ""
             }
            },
            "marker": {
             "colorbar": {
              "outlinewidth": 0,
              "ticks": ""
             }
            },
            "type": "scatter3d"
           }
          ],
          "scattercarpet": [
           {
            "marker": {
             "colorbar": {
              "outlinewidth": 0,
              "ticks": ""
             }
            },
            "type": "scattercarpet"
           }
          ],
          "scattergeo": [
           {
            "marker": {
             "colorbar": {
              "outlinewidth": 0,
              "ticks": ""
             }
            },
            "type": "scattergeo"
           }
          ],
          "scattergl": [
           {
            "marker": {
             "colorbar": {
              "outlinewidth": 0,
              "ticks": ""
             }
            },
            "type": "scattergl"
           }
          ],
          "scattermapbox": [
           {
            "marker": {
             "colorbar": {
              "outlinewidth": 0,
              "ticks": ""
             }
            },
            "type": "scattermapbox"
           }
          ],
          "scatterpolar": [
           {
            "marker": {
             "colorbar": {
              "outlinewidth": 0,
              "ticks": ""
             }
            },
            "type": "scatterpolar"
           }
          ],
          "scatterpolargl": [
           {
            "marker": {
             "colorbar": {
              "outlinewidth": 0,
              "ticks": ""
             }
            },
            "type": "scatterpolargl"
           }
          ],
          "scatterternary": [
           {
            "marker": {
             "colorbar": {
              "outlinewidth": 0,
              "ticks": ""
             }
            },
            "type": "scatterternary"
           }
          ],
          "surface": [
           {
            "colorbar": {
             "outlinewidth": 0,
             "ticks": ""
            },
            "colorscale": [
             [
              0,
              "#0d0887"
             ],
             [
              0.1111111111111111,
              "#46039f"
             ],
             [
              0.2222222222222222,
              "#7201a8"
             ],
             [
              0.3333333333333333,
              "#9c179e"
             ],
             [
              0.4444444444444444,
              "#bd3786"
             ],
             [
              0.5555555555555556,
              "#d8576b"
             ],
             [
              0.6666666666666666,
              "#ed7953"
             ],
             [
              0.7777777777777778,
              "#fb9f3a"
             ],
             [
              0.8888888888888888,
              "#fdca26"
             ],
             [
              1,
              "#f0f921"
             ]
            ],
            "type": "surface"
           }
          ],
          "table": [
           {
            "cells": {
             "fill": {
              "color": "#EBF0F8"
             },
             "line": {
              "color": "white"
             }
            },
            "header": {
             "fill": {
              "color": "#C8D4E3"
             },
             "line": {
              "color": "white"
             }
            },
            "type": "table"
           }
          ]
         },
         "layout": {
          "annotationdefaults": {
           "arrowcolor": "#2a3f5f",
           "arrowhead": 0,
           "arrowwidth": 1
          },
          "autotypenumbers": "strict",
          "coloraxis": {
           "colorbar": {
            "outlinewidth": 0,
            "ticks": ""
           }
          },
          "colorscale": {
           "diverging": [
            [
             0,
             "#8e0152"
            ],
            [
             0.1,
             "#c51b7d"
            ],
            [
             0.2,
             "#de77ae"
            ],
            [
             0.3,
             "#f1b6da"
            ],
            [
             0.4,
             "#fde0ef"
            ],
            [
             0.5,
             "#f7f7f7"
            ],
            [
             0.6,
             "#e6f5d0"
            ],
            [
             0.7,
             "#b8e186"
            ],
            [
             0.8,
             "#7fbc41"
            ],
            [
             0.9,
             "#4d9221"
            ],
            [
             1,
             "#276419"
            ]
           ],
           "sequential": [
            [
             0,
             "#0d0887"
            ],
            [
             0.1111111111111111,
             "#46039f"
            ],
            [
             0.2222222222222222,
             "#7201a8"
            ],
            [
             0.3333333333333333,
             "#9c179e"
            ],
            [
             0.4444444444444444,
             "#bd3786"
            ],
            [
             0.5555555555555556,
             "#d8576b"
            ],
            [
             0.6666666666666666,
             "#ed7953"
            ],
            [
             0.7777777777777778,
             "#fb9f3a"
            ],
            [
             0.8888888888888888,
             "#fdca26"
            ],
            [
             1,
             "#f0f921"
            ]
           ],
           "sequentialminus": [
            [
             0,
             "#0d0887"
            ],
            [
             0.1111111111111111,
             "#46039f"
            ],
            [
             0.2222222222222222,
             "#7201a8"
            ],
            [
             0.3333333333333333,
             "#9c179e"
            ],
            [
             0.4444444444444444,
             "#bd3786"
            ],
            [
             0.5555555555555556,
             "#d8576b"
            ],
            [
             0.6666666666666666,
             "#ed7953"
            ],
            [
             0.7777777777777778,
             "#fb9f3a"
            ],
            [
             0.8888888888888888,
             "#fdca26"
            ],
            [
             1,
             "#f0f921"
            ]
           ]
          },
          "colorway": [
           "#636efa",
           "#EF553B",
           "#00cc96",
           "#ab63fa",
           "#FFA15A",
           "#19d3f3",
           "#FF6692",
           "#B6E880",
           "#FF97FF",
           "#FECB52"
          ],
          "font": {
           "color": "#2a3f5f"
          },
          "geo": {
           "bgcolor": "white",
           "lakecolor": "white",
           "landcolor": "#E5ECF6",
           "showlakes": true,
           "showland": true,
           "subunitcolor": "white"
          },
          "hoverlabel": {
           "align": "left"
          },
          "hovermode": "closest",
          "mapbox": {
           "style": "light"
          },
          "paper_bgcolor": "white",
          "plot_bgcolor": "#E5ECF6",
          "polar": {
           "angularaxis": {
            "gridcolor": "white",
            "linecolor": "white",
            "ticks": ""
           },
           "bgcolor": "#E5ECF6",
           "radialaxis": {
            "gridcolor": "white",
            "linecolor": "white",
            "ticks": ""
           }
          },
          "scene": {
           "xaxis": {
            "backgroundcolor": "#E5ECF6",
            "gridcolor": "white",
            "gridwidth": 2,
            "linecolor": "white",
            "showbackground": true,
            "ticks": "",
            "zerolinecolor": "white"
           },
           "yaxis": {
            "backgroundcolor": "#E5ECF6",
            "gridcolor": "white",
            "gridwidth": 2,
            "linecolor": "white",
            "showbackground": true,
            "ticks": "",
            "zerolinecolor": "white"
           },
           "zaxis": {
            "backgroundcolor": "#E5ECF6",
            "gridcolor": "white",
            "gridwidth": 2,
            "linecolor": "white",
            "showbackground": true,
            "ticks": "",
            "zerolinecolor": "white"
           }
          },
          "shapedefaults": {
           "line": {
            "color": "#2a3f5f"
           }
          },
          "ternary": {
           "aaxis": {
            "gridcolor": "white",
            "linecolor": "white",
            "ticks": ""
           },
           "baxis": {
            "gridcolor": "white",
            "linecolor": "white",
            "ticks": ""
           },
           "bgcolor": "#E5ECF6",
           "caxis": {
            "gridcolor": "white",
            "linecolor": "white",
            "ticks": ""
           }
          },
          "title": {
           "x": 0.05
          },
          "xaxis": {
           "automargin": true,
           "gridcolor": "white",
           "linecolor": "white",
           "ticks": "",
           "title": {
            "standoff": 15
           },
           "zerolinecolor": "white",
           "zerolinewidth": 2
          },
          "yaxis": {
           "automargin": true,
           "gridcolor": "white",
           "linecolor": "white",
           "ticks": "",
           "title": {
            "standoff": 15
           },
           "zerolinecolor": "white",
           "zerolinewidth": 2
          }
         }
        },
        "title": {
         "text": "Correlation Value Distribution"
        },
        "xaxis": {
         "showgrid": false,
         "tickformat": ".2f",
         "tickvals": [
          -0.49,
          -0.3,
          -0.24,
          -0.21,
          -0.21,
          -0.2,
          -0.19,
          -0.18,
          -0.17,
          -0.16,
          -0.16,
          -0.15,
          -0.14,
          -0.13,
          -0.11,
          -0.11,
          -0.11,
          -0.1,
          -0.1,
          -0.09,
          -0.09,
          -0.09,
          -0.09,
          -0.09,
          -0.08,
          -0.08,
          -0.08,
          -0.08,
          -0.07,
          -0.07,
          -0.07,
          -0.07,
          -0.07,
          -0.06,
          -0.06,
          -0.06,
          -0.06,
          -0.06,
          -0.06,
          -0.06,
          -0.06,
          -0.06,
          -0.06,
          -0.06,
          -0.05,
          -0.05,
          -0.05,
          -0.05,
          -0.05,
          -0.05,
          -0.05,
          -0.05,
          -0.05,
          -0.05,
          -0.05,
          -0.04,
          -0.04,
          -0.04,
          -0.04,
          -0.04,
          -0.04,
          -0.04,
          -0.04,
          -0.04,
          -0.03,
          -0.03,
          -0.03,
          -0.03,
          -0.03,
          -0.03,
          -0.03,
          -0.03,
          -0.03,
          -0.03,
          -0.03,
          -0.03,
          -0.02,
          -0.02,
          -0.02,
          -0.02,
          -0.02,
          -0.02,
          -0.02,
          -0.02,
          -0.02,
          -0.02,
          -0.02,
          -0.01,
          -0.01,
          -0.01,
          -0.01,
          -0.01,
          -0.01,
          -0.01,
          -0.01,
          -0.01,
          -0.01,
          -0.01,
          -0.01,
          -0.01,
          -0.01,
          -0.01,
          -0.01,
          0,
          0,
          0,
          0,
          0,
          0,
          0,
          0,
          0,
          0,
          0,
          0,
          0,
          0,
          0,
          0,
          0,
          0,
          0,
          0,
          0,
          0.01,
          0.01,
          0.01,
          0.01,
          0.01,
          0.01,
          0.01,
          0.01,
          0.01,
          0.01,
          0.01,
          0.01,
          0.01,
          0.01,
          0.01,
          0.01,
          0.01,
          0.01,
          0.01,
          0.01,
          0.01,
          0.01,
          0.01,
          0.01,
          0.01,
          0.01,
          0.01,
          0.01,
          0.01,
          0.01,
          0.01,
          0.01,
          0.01,
          0.01,
          0.01,
          0.02,
          0.02,
          0.02,
          0.02,
          0.02,
          0.02,
          0.02,
          0.02,
          0.02,
          0.02,
          0.02,
          0.02,
          0.02,
          0.02,
          0.02,
          0.02,
          0.02,
          0.02,
          0.02,
          0.02,
          0.02,
          0.02,
          0.02,
          0.02,
          0.02,
          0.02,
          0.02,
          0.02,
          0.02,
          0.03,
          0.03,
          0.03,
          0.03,
          0.03,
          0.03,
          0.03,
          0.03,
          0.03,
          0.03,
          0.03,
          0.03,
          0.03,
          0.04,
          0.04,
          0.04,
          0.04,
          0.04,
          0.04,
          0.04,
          0.04,
          0.04,
          0.04,
          0.04,
          0.04,
          0.04,
          0.04,
          0.04,
          0.04,
          0.05,
          0.05,
          0.05,
          0.05,
          0.05,
          0.05,
          0.05,
          0.05,
          0.05,
          0.05,
          0.05,
          0.05,
          0.06,
          0.06,
          0.06,
          0.06,
          0.06,
          0.06,
          0.07,
          0.07,
          0.07,
          0.07,
          0.08,
          0.09,
          0.09,
          0.1,
          0.1,
          0.1,
          0.11,
          0.11,
          0.12,
          0.12,
          0.12,
          0.12,
          0.13,
          0.13,
          0.14,
          0.14,
          0.14,
          0.15,
          0.16,
          0.16,
          0.16,
          0.17,
          0.17,
          0.18,
          0.2,
          0.2,
          0.21,
          0.21,
          0.23,
          0.27,
          0.28,
          0.29,
          0.3,
          0.4,
          0.46,
          0.54,
          0.65
         ],
         "title": {
          "text": "Correlation Value"
         }
        },
        "yaxis": {
         "showgrid": false,
         "title": {
          "text": "Frequency"
         }
        }
       }
      }
     },
     "metadata": {},
     "output_type": "display_data"
    }
   ],
   "source": [
    "display_corr_distribution(cleaned_df_pd)"
   ]
  },
  {
   "cell_type": "code",
   "execution_count": 18,
   "metadata": {},
   "outputs": [],
   "source": [
    "cleaned_df = balanced_df.drop('MONTH')\n",
    "cleaned_df.write.mode('overwrite').save_as_table('FRAUD_DATA_CLEANED')"
   ]
  },
  {
   "cell_type": "code",
   "execution_count": 20,
   "metadata": {},
   "outputs": [],
   "source": [
    "### Verifying correlation\n",
    "cleaned_df_pd = session.table('FRAUD_DATA_CLEANED').to_pandas()"
   ]
  },
  {
   "cell_type": "code",
   "execution_count": 21,
   "metadata": {},
   "outputs": [
    {
     "data": {
      "application/vnd.plotly.v1+json": {
       "config": {
        "plotlyServerURL": "https://plot.ly"
       },
       "data": [
        {
         "type": "bar",
         "x": [
          -0.4871943158429691,
          -0.2968554369306006,
          -0.23866070019433983,
          -0.2146309165749987,
          -0.20632602900812885,
          -0.19726643547917516,
          -0.19384853236028135,
          -0.17557990028228565,
          -0.17301851461967963,
          -0.1641688784381948,
          -0.16337271168384696,
          -0.15211963223957692,
          -0.14000424093335204,
          -0.12709513505700593,
          -0.11439011614915809,
          -0.11323081016101387,
          -0.10572842344357136,
          -0.09772789380018215,
          -0.0954840391890489,
          -0.09463177235538903,
          -0.09459672891295001,
          -0.09127389316178096,
          -0.09114077500753065,
          -0.08961916542017598,
          -0.08361574202352433,
          -0.08202662369503208,
          -0.08116379430386221,
          -0.08045643836179522,
          -0.07397590039873903,
          -0.07109894480769187,
          -0.07104685878268076,
          -0.0676471299605317,
          -0.0669643771098321,
          -0.06341044634117476,
          -0.061642009877665764,
          -0.061637793922956645,
          -0.06009626639236229,
          -0.0588307693381862,
          -0.058821277765202774,
          -0.05825270341138081,
          -0.05795807857595956,
          -0.0573544686052979,
          -0.05618388612360002,
          -0.05556531601012279,
          -0.054908380124552805,
          -0.05425518883585697,
          -0.05353656108339926,
          -0.0535234127530363,
          -0.05192145821857325,
          -0.04999257476103499,
          -0.04822802624187778,
          -0.04753150336399924,
          -0.04591415686213003,
          -0.045712429066077934,
          -0.04546621518362431,
          -0.04188515778700472,
          -0.03822636279481028,
          -0.03750155280642594,
          -0.03703853287263888,
          -0.03665121055797892,
          -0.0357960240567922,
          -0.03523401748632426,
          -0.03512795801143852,
          -0.03502969058533498,
          -0.034696171724385,
          -0.03465650656425823,
          -0.034588692385300136,
          -0.034480966730981305,
          -0.03350787063450605,
          -0.032657826234481324,
          -0.03024960623359571,
          -0.029670502208373042,
          -0.029095180962743473,
          -0.027915280310620523,
          -0.026813419685916665,
          -0.02502000065118613,
          -0.024376500918351446,
          -0.022923084891843373,
          -0.022321826779248252,
          -0.018706184310661535,
          -0.018615519719662205,
          -0.018138614430109484,
          -0.01791772077722195,
          -0.017811575286450058,
          -0.01613576772160651,
          -0.015773508305562737,
          -0.015524899629434845,
          -0.014933812590587446,
          -0.014658254659072363,
          -0.014475200546266415,
          -0.014247009939312005,
          -0.013241603969205857,
          -0.012814467912028052,
          -0.011651168588706658,
          -0.011474375471381016,
          -0.011230356839227922,
          -0.011076426839919249,
          -0.010449830505248805,
          -0.007407222282157673,
          -0.007388952984957492,
          -0.0069193279366530054,
          -0.006236823111867918,
          -0.005756923130076187,
          -0.004799174189649946,
          -0.004439220132177873,
          -0.004077884024444547,
          -0.0026738420473211306,
          -0.002500177105878814,
          -0.002477806027101206,
          -0.0012897813599771551,
          -0.0012861193615498244,
          -0.0007968817837114459,
          -0.0006063197861428436,
          -0.00042891728911433795,
          0.0012202675393332136,
          0.001271966405316054,
          0.001294016212901736,
          0.0018132080054193483,
          0.0024232198652648445,
          0.0025585987081148433,
          0.0028134688508944937,
          0.003141365734220207,
          0.003197929735758832,
          0.003726976586054367,
          0.005455274973998577,
          0.005747853649385505,
          0.00576749154589363,
          0.006471759514576974,
          0.0066967150131599035,
          0.007818889128139408,
          0.008073846691654459,
          0.00814792885518594,
          0.008406585510924179,
          0.009097723342489624,
          0.00917362662301774,
          0.009733855456796087,
          0.010160405583079065,
          0.01040023802447889,
          0.011072407240401705,
          0.011552641283280362,
          0.011987950759405112,
          0.012413029344542042,
          0.012498438840568612,
          0.012775092445118841,
          0.01287372643413324,
          0.013072480685899456,
          0.013103517835951593,
          0.013120991734423059,
          0.013135164332694512,
          0.013613844554277858,
          0.01385956520553656,
          0.014051339436415832,
          0.014100025093174021,
          0.014434678240691967,
          0.014452314566013882,
          0.014561915518599065,
          0.014832383536377248,
          0.014892121799316739,
          0.014942873175544219,
          0.015162273236262017,
          0.015186486997965706,
          0.015273018642800548,
          0.01594438038013956,
          0.016048057560517727,
          0.016800436738637133,
          0.017896766143477776,
          0.017998254019968265,
          0.018598701864032646,
          0.018909367056461967,
          0.019446441002041993,
          0.01946366465138537,
          0.019485367440778802,
          0.01950951187950475,
          0.019668131851300348,
          0.01979039122651589,
          0.021127334954510215,
          0.021145826322044908,
          0.0215248251233307,
          0.021618384262393535,
          0.02162451124862128,
          0.021988447722639956,
          0.022741508016979977,
          0.023135370364428656,
          0.023572987967211013,
          0.024292093548401984,
          0.024446478457801808,
          0.02449062835237258,
          0.02492177550922731,
          0.025195391632294988,
          0.02676021882600291,
          0.026909698020718006,
          0.026914294580410142,
          0.028403607042393295,
          0.02873128560122297,
          0.030098994066406475,
          0.03021980348866989,
          0.030946371258230375,
          0.03301685676283356,
          0.033346841973091075,
          0.03354885765030181,
          0.03369387429808471,
          0.03605981837769984,
          0.03655456940253706,
          0.03696735230155192,
          0.03716447017176942,
          0.037833734443402246,
          0.03832115550280461,
          0.03873341718591509,
          0.03876195572253795,
          0.04042843126200716,
          0.0404527008635661,
          0.040517760711941374,
          0.041449684938113504,
          0.04192292912937199,
          0.041995188178338104,
          0.04314271118488431,
          0.04456771438874531,
          0.045212866508290386,
          0.04720121958101328,
          0.047896260398106544,
          0.04853976236721892,
          0.049482746583401724,
          0.04973700500463239,
          0.05029793292674308,
          0.05037907975693441,
          0.050536640227772836,
          0.05174349726972137,
          0.05204456992325179,
          0.052385145589925505,
          0.05587909409656663,
          0.05902263286012151,
          0.06031975272588592,
          0.06208905429742457,
          0.06285357847476286,
          0.06299238176140573,
          0.06661613226185109,
          0.06745755171985608,
          0.07329662899650921,
          0.07363254562583008,
          0.08498761939654444,
          0.09175083814814215,
          0.09374323609962561,
          0.0966597102750914,
          0.1014587733493726,
          0.10436908959409309,
          0.10650059012715897,
          0.1078779818791474,
          0.11621660304552145,
          0.11630188842267834,
          0.11831379467064375,
          0.11999858849004366,
          0.12933406483640902,
          0.13283647493592116,
          0.13504810293492742,
          0.13828605464598537,
          0.14275067128561278,
          0.14974286952338575,
          0.1561610401288918,
          0.15964692499459837,
          0.16080338539620823,
          0.16854693973067358,
          0.17053762247217533,
          0.18339893616475839,
          0.19844438536116182,
          0.20374624879544045,
          0.208603021157254,
          0.21369510957502838,
          0.2314190955611892,
          0.2718504430073741,
          0.27752914116856575,
          0.2949611387425477,
          0.29649543432702646,
          0.40416004598191085,
          0.4641661643600624,
          0.5438314566259107,
          0.6504833832470334
         ],
         "y": [
          1,
          1,
          1,
          1,
          1,
          1,
          1,
          1,
          1,
          1,
          1,
          1,
          1,
          1,
          1,
          1,
          1,
          1,
          1,
          1,
          1,
          1,
          1,
          1,
          1,
          1,
          1,
          1,
          1,
          1,
          1,
          1,
          1,
          1,
          1,
          1,
          1,
          1,
          1,
          1,
          1,
          1,
          1,
          1,
          1,
          1,
          1,
          1,
          1,
          1,
          1,
          1,
          1,
          1,
          1,
          1,
          1,
          1,
          1,
          1,
          1,
          1,
          1,
          1,
          1,
          1,
          1,
          1,
          1,
          1,
          1,
          1,
          1,
          1,
          1,
          1,
          1,
          1,
          1,
          1,
          1,
          1,
          1,
          1,
          1,
          1,
          1,
          1,
          1,
          1,
          1,
          1,
          1,
          1,
          1,
          1,
          1,
          1,
          1,
          1,
          1,
          1,
          1,
          1,
          1,
          1,
          1,
          1,
          1,
          1,
          1,
          1,
          1,
          1,
          1,
          1,
          1,
          1,
          1,
          1,
          1,
          1,
          1,
          1,
          1,
          1,
          1,
          1,
          1,
          1,
          1,
          1,
          1,
          1,
          1,
          1,
          1,
          1,
          1,
          1,
          1,
          1,
          1,
          1,
          1,
          1,
          1,
          1,
          1,
          1,
          1,
          1,
          1,
          1,
          1,
          1,
          1,
          1,
          1,
          1,
          1,
          1,
          1,
          1,
          1,
          1,
          1,
          1,
          1,
          1,
          1,
          1,
          1,
          1,
          1,
          1,
          1,
          1,
          1,
          1,
          1,
          1,
          1,
          1,
          1,
          1,
          1,
          1,
          1,
          1,
          1,
          1,
          1,
          1,
          1,
          1,
          1,
          1,
          1,
          1,
          1,
          1,
          1,
          1,
          1,
          1,
          1,
          1,
          1,
          1,
          1,
          1,
          1,
          1,
          1,
          1,
          1,
          1,
          1,
          1,
          1,
          1,
          1,
          1,
          1,
          1,
          1,
          1,
          1,
          1,
          1,
          1,
          1,
          1,
          1,
          1,
          1,
          1,
          1,
          1,
          1,
          1,
          1,
          1,
          1,
          1,
          1,
          1,
          1,
          1,
          1,
          1,
          1,
          1,
          1,
          1,
          1,
          1,
          1,
          1,
          1,
          1,
          1,
          1,
          1,
          1,
          1,
          1,
          1,
          1,
          1,
          1,
          1,
          1,
          1,
          1
         ]
        }
       ],
       "layout": {
        "paper_bgcolor": "rgba(0,0,0,0)",
        "plot_bgcolor": "rgba(0,0,0,0)",
        "template": {
         "data": {
          "bar": [
           {
            "error_x": {
             "color": "#2a3f5f"
            },
            "error_y": {
             "color": "#2a3f5f"
            },
            "marker": {
             "line": {
              "color": "#E5ECF6",
              "width": 0.5
             },
             "pattern": {
              "fillmode": "overlay",
              "size": 10,
              "solidity": 0.2
             }
            },
            "type": "bar"
           }
          ],
          "barpolar": [
           {
            "marker": {
             "line": {
              "color": "#E5ECF6",
              "width": 0.5
             },
             "pattern": {
              "fillmode": "overlay",
              "size": 10,
              "solidity": 0.2
             }
            },
            "type": "barpolar"
           }
          ],
          "carpet": [
           {
            "aaxis": {
             "endlinecolor": "#2a3f5f",
             "gridcolor": "white",
             "linecolor": "white",
             "minorgridcolor": "white",
             "startlinecolor": "#2a3f5f"
            },
            "baxis": {
             "endlinecolor": "#2a3f5f",
             "gridcolor": "white",
             "linecolor": "white",
             "minorgridcolor": "white",
             "startlinecolor": "#2a3f5f"
            },
            "type": "carpet"
           }
          ],
          "choropleth": [
           {
            "colorbar": {
             "outlinewidth": 0,
             "ticks": ""
            },
            "type": "choropleth"
           }
          ],
          "contour": [
           {
            "colorbar": {
             "outlinewidth": 0,
             "ticks": ""
            },
            "colorscale": [
             [
              0,
              "#0d0887"
             ],
             [
              0.1111111111111111,
              "#46039f"
             ],
             [
              0.2222222222222222,
              "#7201a8"
             ],
             [
              0.3333333333333333,
              "#9c179e"
             ],
             [
              0.4444444444444444,
              "#bd3786"
             ],
             [
              0.5555555555555556,
              "#d8576b"
             ],
             [
              0.6666666666666666,
              "#ed7953"
             ],
             [
              0.7777777777777778,
              "#fb9f3a"
             ],
             [
              0.8888888888888888,
              "#fdca26"
             ],
             [
              1,
              "#f0f921"
             ]
            ],
            "type": "contour"
           }
          ],
          "contourcarpet": [
           {
            "colorbar": {
             "outlinewidth": 0,
             "ticks": ""
            },
            "type": "contourcarpet"
           }
          ],
          "heatmap": [
           {
            "colorbar": {
             "outlinewidth": 0,
             "ticks": ""
            },
            "colorscale": [
             [
              0,
              "#0d0887"
             ],
             [
              0.1111111111111111,
              "#46039f"
             ],
             [
              0.2222222222222222,
              "#7201a8"
             ],
             [
              0.3333333333333333,
              "#9c179e"
             ],
             [
              0.4444444444444444,
              "#bd3786"
             ],
             [
              0.5555555555555556,
              "#d8576b"
             ],
             [
              0.6666666666666666,
              "#ed7953"
             ],
             [
              0.7777777777777778,
              "#fb9f3a"
             ],
             [
              0.8888888888888888,
              "#fdca26"
             ],
             [
              1,
              "#f0f921"
             ]
            ],
            "type": "heatmap"
           }
          ],
          "heatmapgl": [
           {
            "colorbar": {
             "outlinewidth": 0,
             "ticks": ""
            },
            "colorscale": [
             [
              0,
              "#0d0887"
             ],
             [
              0.1111111111111111,
              "#46039f"
             ],
             [
              0.2222222222222222,
              "#7201a8"
             ],
             [
              0.3333333333333333,
              "#9c179e"
             ],
             [
              0.4444444444444444,
              "#bd3786"
             ],
             [
              0.5555555555555556,
              "#d8576b"
             ],
             [
              0.6666666666666666,
              "#ed7953"
             ],
             [
              0.7777777777777778,
              "#fb9f3a"
             ],
             [
              0.8888888888888888,
              "#fdca26"
             ],
             [
              1,
              "#f0f921"
             ]
            ],
            "type": "heatmapgl"
           }
          ],
          "histogram": [
           {
            "marker": {
             "pattern": {
              "fillmode": "overlay",
              "size": 10,
              "solidity": 0.2
             }
            },
            "type": "histogram"
           }
          ],
          "histogram2d": [
           {
            "colorbar": {
             "outlinewidth": 0,
             "ticks": ""
            },
            "colorscale": [
             [
              0,
              "#0d0887"
             ],
             [
              0.1111111111111111,
              "#46039f"
             ],
             [
              0.2222222222222222,
              "#7201a8"
             ],
             [
              0.3333333333333333,
              "#9c179e"
             ],
             [
              0.4444444444444444,
              "#bd3786"
             ],
             [
              0.5555555555555556,
              "#d8576b"
             ],
             [
              0.6666666666666666,
              "#ed7953"
             ],
             [
              0.7777777777777778,
              "#fb9f3a"
             ],
             [
              0.8888888888888888,
              "#fdca26"
             ],
             [
              1,
              "#f0f921"
             ]
            ],
            "type": "histogram2d"
           }
          ],
          "histogram2dcontour": [
           {
            "colorbar": {
             "outlinewidth": 0,
             "ticks": ""
            },
            "colorscale": [
             [
              0,
              "#0d0887"
             ],
             [
              0.1111111111111111,
              "#46039f"
             ],
             [
              0.2222222222222222,
              "#7201a8"
             ],
             [
              0.3333333333333333,
              "#9c179e"
             ],
             [
              0.4444444444444444,
              "#bd3786"
             ],
             [
              0.5555555555555556,
              "#d8576b"
             ],
             [
              0.6666666666666666,
              "#ed7953"
             ],
             [
              0.7777777777777778,
              "#fb9f3a"
             ],
             [
              0.8888888888888888,
              "#fdca26"
             ],
             [
              1,
              "#f0f921"
             ]
            ],
            "type": "histogram2dcontour"
           }
          ],
          "mesh3d": [
           {
            "colorbar": {
             "outlinewidth": 0,
             "ticks": ""
            },
            "type": "mesh3d"
           }
          ],
          "parcoords": [
           {
            "line": {
             "colorbar": {
              "outlinewidth": 0,
              "ticks": ""
             }
            },
            "type": "parcoords"
           }
          ],
          "pie": [
           {
            "automargin": true,
            "type": "pie"
           }
          ],
          "scatter": [
           {
            "fillpattern": {
             "fillmode": "overlay",
             "size": 10,
             "solidity": 0.2
            },
            "type": "scatter"
           }
          ],
          "scatter3d": [
           {
            "line": {
             "colorbar": {
              "outlinewidth": 0,
              "ticks": ""
             }
            },
            "marker": {
             "colorbar": {
              "outlinewidth": 0,
              "ticks": ""
             }
            },
            "type": "scatter3d"
           }
          ],
          "scattercarpet": [
           {
            "marker": {
             "colorbar": {
              "outlinewidth": 0,
              "ticks": ""
             }
            },
            "type": "scattercarpet"
           }
          ],
          "scattergeo": [
           {
            "marker": {
             "colorbar": {
              "outlinewidth": 0,
              "ticks": ""
             }
            },
            "type": "scattergeo"
           }
          ],
          "scattergl": [
           {
            "marker": {
             "colorbar": {
              "outlinewidth": 0,
              "ticks": ""
             }
            },
            "type": "scattergl"
           }
          ],
          "scattermapbox": [
           {
            "marker": {
             "colorbar": {
              "outlinewidth": 0,
              "ticks": ""
             }
            },
            "type": "scattermapbox"
           }
          ],
          "scatterpolar": [
           {
            "marker": {
             "colorbar": {
              "outlinewidth": 0,
              "ticks": ""
             }
            },
            "type": "scatterpolar"
           }
          ],
          "scatterpolargl": [
           {
            "marker": {
             "colorbar": {
              "outlinewidth": 0,
              "ticks": ""
             }
            },
            "type": "scatterpolargl"
           }
          ],
          "scatterternary": [
           {
            "marker": {
             "colorbar": {
              "outlinewidth": 0,
              "ticks": ""
             }
            },
            "type": "scatterternary"
           }
          ],
          "surface": [
           {
            "colorbar": {
             "outlinewidth": 0,
             "ticks": ""
            },
            "colorscale": [
             [
              0,
              "#0d0887"
             ],
             [
              0.1111111111111111,
              "#46039f"
             ],
             [
              0.2222222222222222,
              "#7201a8"
             ],
             [
              0.3333333333333333,
              "#9c179e"
             ],
             [
              0.4444444444444444,
              "#bd3786"
             ],
             [
              0.5555555555555556,
              "#d8576b"
             ],
             [
              0.6666666666666666,
              "#ed7953"
             ],
             [
              0.7777777777777778,
              "#fb9f3a"
             ],
             [
              0.8888888888888888,
              "#fdca26"
             ],
             [
              1,
              "#f0f921"
             ]
            ],
            "type": "surface"
           }
          ],
          "table": [
           {
            "cells": {
             "fill": {
              "color": "#EBF0F8"
             },
             "line": {
              "color": "white"
             }
            },
            "header": {
             "fill": {
              "color": "#C8D4E3"
             },
             "line": {
              "color": "white"
             }
            },
            "type": "table"
           }
          ]
         },
         "layout": {
          "annotationdefaults": {
           "arrowcolor": "#2a3f5f",
           "arrowhead": 0,
           "arrowwidth": 1
          },
          "autotypenumbers": "strict",
          "coloraxis": {
           "colorbar": {
            "outlinewidth": 0,
            "ticks": ""
           }
          },
          "colorscale": {
           "diverging": [
            [
             0,
             "#8e0152"
            ],
            [
             0.1,
             "#c51b7d"
            ],
            [
             0.2,
             "#de77ae"
            ],
            [
             0.3,
             "#f1b6da"
            ],
            [
             0.4,
             "#fde0ef"
            ],
            [
             0.5,
             "#f7f7f7"
            ],
            [
             0.6,
             "#e6f5d0"
            ],
            [
             0.7,
             "#b8e186"
            ],
            [
             0.8,
             "#7fbc41"
            ],
            [
             0.9,
             "#4d9221"
            ],
            [
             1,
             "#276419"
            ]
           ],
           "sequential": [
            [
             0,
             "#0d0887"
            ],
            [
             0.1111111111111111,
             "#46039f"
            ],
            [
             0.2222222222222222,
             "#7201a8"
            ],
            [
             0.3333333333333333,
             "#9c179e"
            ],
            [
             0.4444444444444444,
             "#bd3786"
            ],
            [
             0.5555555555555556,
             "#d8576b"
            ],
            [
             0.6666666666666666,
             "#ed7953"
            ],
            [
             0.7777777777777778,
             "#fb9f3a"
            ],
            [
             0.8888888888888888,
             "#fdca26"
            ],
            [
             1,
             "#f0f921"
            ]
           ],
           "sequentialminus": [
            [
             0,
             "#0d0887"
            ],
            [
             0.1111111111111111,
             "#46039f"
            ],
            [
             0.2222222222222222,
             "#7201a8"
            ],
            [
             0.3333333333333333,
             "#9c179e"
            ],
            [
             0.4444444444444444,
             "#bd3786"
            ],
            [
             0.5555555555555556,
             "#d8576b"
            ],
            [
             0.6666666666666666,
             "#ed7953"
            ],
            [
             0.7777777777777778,
             "#fb9f3a"
            ],
            [
             0.8888888888888888,
             "#fdca26"
            ],
            [
             1,
             "#f0f921"
            ]
           ]
          },
          "colorway": [
           "#636efa",
           "#EF553B",
           "#00cc96",
           "#ab63fa",
           "#FFA15A",
           "#19d3f3",
           "#FF6692",
           "#B6E880",
           "#FF97FF",
           "#FECB52"
          ],
          "font": {
           "color": "#2a3f5f"
          },
          "geo": {
           "bgcolor": "white",
           "lakecolor": "white",
           "landcolor": "#E5ECF6",
           "showlakes": true,
           "showland": true,
           "subunitcolor": "white"
          },
          "hoverlabel": {
           "align": "left"
          },
          "hovermode": "closest",
          "mapbox": {
           "style": "light"
          },
          "paper_bgcolor": "white",
          "plot_bgcolor": "#E5ECF6",
          "polar": {
           "angularaxis": {
            "gridcolor": "white",
            "linecolor": "white",
            "ticks": ""
           },
           "bgcolor": "#E5ECF6",
           "radialaxis": {
            "gridcolor": "white",
            "linecolor": "white",
            "ticks": ""
           }
          },
          "scene": {
           "xaxis": {
            "backgroundcolor": "#E5ECF6",
            "gridcolor": "white",
            "gridwidth": 2,
            "linecolor": "white",
            "showbackground": true,
            "ticks": "",
            "zerolinecolor": "white"
           },
           "yaxis": {
            "backgroundcolor": "#E5ECF6",
            "gridcolor": "white",
            "gridwidth": 2,
            "linecolor": "white",
            "showbackground": true,
            "ticks": "",
            "zerolinecolor": "white"
           },
           "zaxis": {
            "backgroundcolor": "#E5ECF6",
            "gridcolor": "white",
            "gridwidth": 2,
            "linecolor": "white",
            "showbackground": true,
            "ticks": "",
            "zerolinecolor": "white"
           }
          },
          "shapedefaults": {
           "line": {
            "color": "#2a3f5f"
           }
          },
          "ternary": {
           "aaxis": {
            "gridcolor": "white",
            "linecolor": "white",
            "ticks": ""
           },
           "baxis": {
            "gridcolor": "white",
            "linecolor": "white",
            "ticks": ""
           },
           "bgcolor": "#E5ECF6",
           "caxis": {
            "gridcolor": "white",
            "linecolor": "white",
            "ticks": ""
           }
          },
          "title": {
           "x": 0.05
          },
          "xaxis": {
           "automargin": true,
           "gridcolor": "white",
           "linecolor": "white",
           "ticks": "",
           "title": {
            "standoff": 15
           },
           "zerolinecolor": "white",
           "zerolinewidth": 2
          },
          "yaxis": {
           "automargin": true,
           "gridcolor": "white",
           "linecolor": "white",
           "ticks": "",
           "title": {
            "standoff": 15
           },
           "zerolinecolor": "white",
           "zerolinewidth": 2
          }
         }
        },
        "title": {
         "text": "Correlation Value Distribution"
        },
        "xaxis": {
         "showgrid": false,
         "tickformat": ".2f",
         "tickvals": [
          -0.49,
          -0.3,
          -0.24,
          -0.21,
          -0.21,
          -0.2,
          -0.19,
          -0.18,
          -0.17,
          -0.16,
          -0.16,
          -0.15,
          -0.14,
          -0.13,
          -0.11,
          -0.11,
          -0.11,
          -0.1,
          -0.1,
          -0.09,
          -0.09,
          -0.09,
          -0.09,
          -0.09,
          -0.08,
          -0.08,
          -0.08,
          -0.08,
          -0.07,
          -0.07,
          -0.07,
          -0.07,
          -0.07,
          -0.06,
          -0.06,
          -0.06,
          -0.06,
          -0.06,
          -0.06,
          -0.06,
          -0.06,
          -0.06,
          -0.06,
          -0.06,
          -0.05,
          -0.05,
          -0.05,
          -0.05,
          -0.05,
          -0.05,
          -0.05,
          -0.05,
          -0.05,
          -0.05,
          -0.05,
          -0.04,
          -0.04,
          -0.04,
          -0.04,
          -0.04,
          -0.04,
          -0.04,
          -0.04,
          -0.04,
          -0.03,
          -0.03,
          -0.03,
          -0.03,
          -0.03,
          -0.03,
          -0.03,
          -0.03,
          -0.03,
          -0.03,
          -0.03,
          -0.03,
          -0.02,
          -0.02,
          -0.02,
          -0.02,
          -0.02,
          -0.02,
          -0.02,
          -0.02,
          -0.02,
          -0.02,
          -0.02,
          -0.01,
          -0.01,
          -0.01,
          -0.01,
          -0.01,
          -0.01,
          -0.01,
          -0.01,
          -0.01,
          -0.01,
          -0.01,
          -0.01,
          -0.01,
          -0.01,
          -0.01,
          -0.01,
          0,
          0,
          0,
          0,
          0,
          0,
          0,
          0,
          0,
          0,
          0,
          0,
          0,
          0,
          0,
          0,
          0,
          0,
          0,
          0,
          0,
          0.01,
          0.01,
          0.01,
          0.01,
          0.01,
          0.01,
          0.01,
          0.01,
          0.01,
          0.01,
          0.01,
          0.01,
          0.01,
          0.01,
          0.01,
          0.01,
          0.01,
          0.01,
          0.01,
          0.01,
          0.01,
          0.01,
          0.01,
          0.01,
          0.01,
          0.01,
          0.01,
          0.01,
          0.01,
          0.01,
          0.01,
          0.01,
          0.01,
          0.01,
          0.01,
          0.02,
          0.02,
          0.02,
          0.02,
          0.02,
          0.02,
          0.02,
          0.02,
          0.02,
          0.02,
          0.02,
          0.02,
          0.02,
          0.02,
          0.02,
          0.02,
          0.02,
          0.02,
          0.02,
          0.02,
          0.02,
          0.02,
          0.02,
          0.02,
          0.02,
          0.02,
          0.02,
          0.02,
          0.02,
          0.03,
          0.03,
          0.03,
          0.03,
          0.03,
          0.03,
          0.03,
          0.03,
          0.03,
          0.03,
          0.03,
          0.03,
          0.03,
          0.04,
          0.04,
          0.04,
          0.04,
          0.04,
          0.04,
          0.04,
          0.04,
          0.04,
          0.04,
          0.04,
          0.04,
          0.04,
          0.04,
          0.04,
          0.04,
          0.05,
          0.05,
          0.05,
          0.05,
          0.05,
          0.05,
          0.05,
          0.05,
          0.05,
          0.05,
          0.05,
          0.05,
          0.06,
          0.06,
          0.06,
          0.06,
          0.06,
          0.06,
          0.07,
          0.07,
          0.07,
          0.07,
          0.08,
          0.09,
          0.09,
          0.1,
          0.1,
          0.1,
          0.11,
          0.11,
          0.12,
          0.12,
          0.12,
          0.12,
          0.13,
          0.13,
          0.14,
          0.14,
          0.14,
          0.15,
          0.16,
          0.16,
          0.16,
          0.17,
          0.17,
          0.18,
          0.2,
          0.2,
          0.21,
          0.21,
          0.23,
          0.27,
          0.28,
          0.29,
          0.3,
          0.4,
          0.46,
          0.54,
          0.65
         ],
         "title": {
          "text": "Correlation Value"
         }
        },
        "yaxis": {
         "showgrid": false,
         "title": {
          "text": "Frequency"
         }
        }
       }
      }
     },
     "metadata": {},
     "output_type": "display_data"
    }
   ],
   "source": [
    "display_corr_distribution(cleaned_df_pd) # same correlation great !"
   ]
  },
  {
   "cell_type": "code",
   "execution_count": 22,
   "metadata": {},
   "outputs": [],
   "source": [
    "session.close()"
   ]
  }
 ],
 "metadata": {
  "kernelspec": {
   "display_name": "fd",
   "language": "python",
   "name": "python3"
  },
  "language_info": {
   "codemirror_mode": {
    "name": "ipython",
    "version": 3
   },
   "file_extension": ".py",
   "mimetype": "text/x-python",
   "name": "python",
   "nbconvert_exporter": "python",
   "pygments_lexer": "ipython3",
   "version": "3.11.10"
  }
 },
 "nbformat": 4,
 "nbformat_minor": 2
}
