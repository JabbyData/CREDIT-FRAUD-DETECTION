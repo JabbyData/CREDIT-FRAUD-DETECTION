{
 "cells": [
  {
   "cell_type": "code",
   "execution_count": 1,
   "metadata": {},
   "outputs": [],
   "source": [
    "### dependencies ###\n",
    "import fireducks.pandas as pd\n",
    "import numpy as np\n",
    "from math import ceil\n",
    "import plotly.graph_objects as go"
   ]
  },
  {
   "cell_type": "code",
   "execution_count": 2,
   "metadata": {},
   "outputs": [],
   "source": [
    "fraud_df = pd.read_csv('data/Base.csv')"
   ]
  },
  {
   "cell_type": "code",
   "execution_count": 3,
   "metadata": {},
   "outputs": [
    {
     "name": "stdout",
     "output_type": "stream",
     "text": [
      "Feature fraud_bool lacks 0 values\n",
      "Feature income lacks 0 values\n",
      "Feature name_email_similarity lacks 0 values\n",
      "Feature prev_address_months_count lacks 712920 values\n",
      "Feature current_address_months_count lacks 4254 values\n",
      "Feature customer_age lacks 0 values\n",
      "Feature days_since_request lacks 0 values\n",
      "Feature intended_balcon_amount lacks 0 values\n",
      "Feature payment_type lacks 0 values\n",
      "Feature zip_count_4w lacks 0 values\n",
      "Feature velocity_6h lacks 0 values\n",
      "Feature velocity_24h lacks 0 values\n",
      "Feature velocity_4w lacks 0 values\n",
      "Feature bank_branch_count_8w lacks 0 values\n",
      "Feature date_of_birth_distinct_emails_4w lacks 0 values\n",
      "Feature employment_status lacks 0 values\n",
      "Feature credit_risk_score lacks 0 values\n",
      "Feature email_is_free lacks 0 values\n",
      "Feature housing_status lacks 0 values\n",
      "Feature phone_home_valid lacks 0 values\n",
      "Feature phone_mobile_valid lacks 0 values\n",
      "Feature bank_months_count lacks 0 values\n",
      "Feature has_other_cards lacks 0 values\n",
      "Feature proposed_credit_limit lacks 0 values\n",
      "Feature foreign_request lacks 0 values\n",
      "Feature source lacks 0 values\n",
      "Feature session_length_in_minutes lacks 0 values\n",
      "Feature device_os lacks 0 values\n",
      "Feature keep_alive_session lacks 0 values\n",
      "Feature device_distinct_emails_8w lacks 0 values\n",
      "Feature device_fraud_count lacks 0 values\n",
      "Feature month lacks 0 values\n",
      "Values are missing, please check details !\n"
     ]
    }
   ],
   "source": [
    "### Checking for missing values ###\n",
    "def missing_values(dataset):\n",
    "    missing_values = False\n",
    "    for feature in dataset.columns:\n",
    "        s = dataset[feature]\n",
    "        if s.dtype == 'object': \n",
    "            # string\n",
    "            n_missing_values = s.isnull().sum() + (s == \"\").sum()\n",
    "        elif feature in ('prev_address_months_count','current_address_months_count'):\n",
    "            # special cases\n",
    "            n_missing_values = s.isnull().sum() + (s == -1).sum()\n",
    "        else:\n",
    "            # numerical types\n",
    "            n_missing_values = s.isnull().sum()\n",
    "        if n_missing_values != 0:\n",
    "            missing_values = True\n",
    "        print(f\"Feature {feature} lacks {n_missing_values} values\")\n",
    "    if missing_values:\n",
    "        print(\"Values are missing, please check details !\")\n",
    "    else:\n",
    "        print(\"No missing values, great !\")\n",
    "\n",
    "missing_values(fraud_df) # more than 71% of missing values for 'prev_address_months_count' !"
   ]
  },
  {
   "cell_type": "code",
   "execution_count": 4,
   "metadata": {},
   "outputs": [
    {
     "name": "stdout",
     "output_type": "stream",
     "text": [
      "Feature fraud_bool lacks 0 values\n",
      "Feature income lacks 0 values\n",
      "Feature name_email_similarity lacks 0 values\n",
      "Feature current_address_months_count lacks 0 values\n",
      "Feature customer_age lacks 0 values\n",
      "Feature days_since_request lacks 0 values\n",
      "Feature intended_balcon_amount lacks 0 values\n",
      "Feature payment_type lacks 0 values\n",
      "Feature zip_count_4w lacks 0 values\n",
      "Feature velocity_6h lacks 0 values\n",
      "Feature velocity_24h lacks 0 values\n",
      "Feature velocity_4w lacks 0 values\n",
      "Feature bank_branch_count_8w lacks 0 values\n",
      "Feature date_of_birth_distinct_emails_4w lacks 0 values\n",
      "Feature employment_status lacks 0 values\n",
      "Feature credit_risk_score lacks 0 values\n",
      "Feature email_is_free lacks 0 values\n",
      "Feature housing_status lacks 0 values\n",
      "Feature phone_home_valid lacks 0 values\n",
      "Feature phone_mobile_valid lacks 0 values\n",
      "Feature bank_months_count lacks 0 values\n",
      "Feature has_other_cards lacks 0 values\n",
      "Feature proposed_credit_limit lacks 0 values\n",
      "Feature foreign_request lacks 0 values\n",
      "Feature source lacks 0 values\n",
      "Feature session_length_in_minutes lacks 0 values\n",
      "Feature device_os lacks 0 values\n",
      "Feature keep_alive_session lacks 0 values\n",
      "Feature device_distinct_emails_8w lacks 0 values\n",
      "Feature device_fraud_count lacks 0 values\n",
      "Feature month lacks 0 values\n",
      "No missing values, great !\n"
     ]
    }
   ],
   "source": [
    "### Handling Missing Values\n",
    "\n",
    "fraud_df_mv = fraud_df.drop(\"prev_address_months_count\",axis=1)\n",
    "m = ceil(np.mean(fraud_df_mv['current_address_months_count']))\n",
    "fraud_df_mv.loc[fraud_df_mv['current_address_months_count']==-1,'current_address_months_count'] = m\n",
    "missing_values(fraud_df_mv)"
   ]
  },
  {
   "cell_type": "code",
   "execution_count": 5,
   "metadata": {},
   "outputs": [],
   "source": [
    "#fraud_df.dtypes"
   ]
  },
  {
   "cell_type": "code",
   "execution_count": 6,
   "metadata": {},
   "outputs": [],
   "source": [
    "fraud_df = pd.DataFrame(fraud_df)"
   ]
  },
  {
   "cell_type": "code",
   "execution_count": 7,
   "metadata": {},
   "outputs": [
    {
     "data": {
      "text/plain": [
       "0.988971"
      ]
     },
     "execution_count": 7,
     "metadata": {},
     "output_type": "execute_result"
    }
   ],
   "source": [
    "### Class Imbalance\n",
    "nf,f = fraud_df_mv['fraud_bool'].value_counts()\n",
    "n = len(fraud_df)\n",
    "(n - f)/n # less than 2% of \"fraud\" class"
   ]
  },
  {
   "cell_type": "code",
   "execution_count": 8,
   "metadata": {},
   "outputs": [
    {
     "data": {
      "text/plain": [
       "fraud_bool\n",
       "0    988971\n",
       "1    988971\n",
       "Name: count, dtype: int64"
      ]
     },
     "execution_count": 8,
     "metadata": {},
     "output_type": "execute_result"
    }
   ],
   "source": [
    "### Balanced dataset\n",
    "fraud_df_mv_fraud = fraud_df_mv[fraud_df_mv['fraud_bool'] == 1]\n",
    "n_over_sample = len(fraud_df_mv[fraud_df_mv['fraud_bool'] == 0]) - len(fraud_df_mv_fraud)\n",
    "oversampled_fraud = fraud_df_mv_fraud.sample(n=n_over_sample, replace=True)\n",
    "fraud_df_mv_b = pd.concat([fraud_df_mv,oversampled_fraud])\n",
    "\n",
    "fraud_df_mv_b['fraud_bool'].value_counts() # balanced dataset"
   ]
  },
  {
   "cell_type": "code",
   "execution_count": 9,
   "metadata": {},
   "outputs": [
    {
     "data": {
      "application/vnd.plotly.v1+json": {
       "config": {
        "plotlyServerURL": "https://plot.ly"
       },
       "data": [
        {
         "type": "heatmap",
         "x": [
          "fraud_bool",
          "income",
          "name_email_similarity",
          "current_address_months_count",
          "customer_age",
          "days_since_request",
          "intended_balcon_amount",
          "zip_count_4w",
          "velocity_6h",
          "velocity_24h",
          "velocity_4w",
          "bank_branch_count_8w",
          "date_of_birth_distinct_emails_4w",
          "credit_risk_score",
          "email_is_free",
          "phone_home_valid",
          "phone_mobile_valid",
          "bank_months_count",
          "has_other_cards",
          "proposed_credit_limit",
          "foreign_request",
          "session_length_in_minutes",
          "keep_alive_session",
          "device_distinct_emails_8w",
          "device_fraud_count",
          "month"
         ],
         "y": [
          "fraud_bool",
          "income",
          "name_email_similarity",
          "current_address_months_count",
          "customer_age",
          "days_since_request",
          "intended_balcon_amount",
          "zip_count_4w",
          "velocity_6h",
          "velocity_24h",
          "velocity_4w",
          "bank_branch_count_8w",
          "date_of_birth_distinct_emails_4w",
          "credit_risk_score",
          "email_is_free",
          "phone_home_valid",
          "phone_mobile_valid",
          "bank_months_count",
          "has_other_cards",
          "proposed_credit_limit",
          "foreign_request",
          "session_length_in_minutes",
          "keep_alive_session",
          "device_distinct_emails_8w",
          "device_fraud_count",
          "month"
         ],
         "z": [
          [
           null,
           0.2199338834242686,
           -0.17092164025374523,
           0.1608588615826928,
           0.2769418747233257,
           0.002948832648693545,
           -0.12739167335882368,
           0.023993893563617,
           -0.08168309340142646,
           -0.05430813900144338,
           -0.0540499469026675,
           -0.05867628742999855,
           -0.20632193713898248,
           0.2968191161867712,
           0.1363185888086384,
           -0.17559693518918304,
           -0.05894793205442287,
           -0.015551676147601699,
           -0.19327179630587263,
           0.27237705379553895,
           0.06621272116709098,
           0.0381652176137706,
           -0.23889116613040196,
           0.1175768108933556,
           null,
           0.0625419433876942
          ],
          [
           null,
           null,
           -0.06308653797051114,
           0.009613109789603664,
           0.1467689834382165,
           -0.006164375983658806,
           0.007076612517307246,
           -0.06973530051871303,
           -0.10919086176841125,
           -0.11576049538117819,
           -0.1190821617263457,
           -0.01586751069922197,
           -0.09257952516773568,
           0.22809664451469394,
           0.00637943173663539,
           -0.03384031955516192,
           0.014535750309284272,
           -0.008049934356531481,
           0.02777694491503148,
           0.17808230620059481,
           0.027645308602977366,
           -0.04454333934688054,
           -0.08016000688423022,
           -0.014617635074053052,
           null,
           0.12750534399174468
          ],
          [
           null,
           null,
           null,
           0.0154170906711522,
           -0.08138929562334535,
           -0.008242323142752965,
           0.058153146020065265,
           0.016626942052672358,
           0.03887957093836655,
           0.044465825593573434,
           0.051209161123073686,
           0.01461190648942801,
           0.053676334358913814,
           0.017817566345903403,
           -0.08120145596526941,
           0.02794605440229258,
           0.01383879582299776,
           -0.021179478046499233,
           0.04060446004525733,
           0.037989571723881274,
           -0.02554935602120629,
           -0.0007165965308354207,
           0.05598443003003922,
           -0.0443522850836699,
           null,
           -0.05395306439168897
          ],
          [
           null,
           null,
           null,
           null,
           0.2087008880261969,
           -0.06089719405297174,
           0.027383414300458618,
           0.03705829489720185,
           0.014125481832491533,
           0.015426732926266883,
           0.019672526057369227,
           0.0264252576630413,
           -0.21494677651576719,
           0.1604846038204626,
           -0.055633161937207756,
           0.09159438075794343,
           -0.10531863352549356,
           0.04135023366009523,
           0.02184162220499027,
           0.16891990583379077,
           -0.001905544360461739,
           -0.007772418372606881,
           -0.07050562244115012,
           0.011864885984455054,
           null,
           -0.015610887854885696
          ],
          [
           null,
           null,
           null,
           null,
           null,
           -0.033585447806306554,
           -0.04137341790647288,
           -0.0011872892502271081,
           -0.029263893308131613,
           0.0018830343462480986,
           0.0028386102305415673,
           0.020983180757517306,
           -0.48740341730259024,
           0.23159917960872803,
           0.02840135371206551,
           0.13822421246069738,
           -0.15289716114124646,
           0.0130024184712799,
           0.019747633141544218,
           0.2036978308150689,
           0.020746344463912943,
           0.04317310385321062,
           -0.09495516826876102,
           0.063461531032488,
           null,
           0.002453591246879683
          ],
          [
           null,
           null,
           null,
           null,
           null,
           null,
           0.024847873183857706,
           0.0031095749170350455,
           0.029843835815517857,
           0.016390563597375837,
           0.01511684951858103,
           -0.014383692198518554,
           0.02043377823368135,
           -0.08333579821684343,
           0.009877679417992911,
           -0.03283969079347865,
           0.005680014176165108,
           -0.0346295907979046,
           -0.03806124571442311,
           -0.06618218650439216,
           -0.005341661076221529,
           0.033834248183400153,
           -0.003646030468085849,
           0.01841011763674142,
           null,
           -0.016638734531488546
          ],
          [
           null,
           null,
           null,
           null,
           null,
           null,
           null,
           0.018787160331607766,
           0.0615260959856007,
           0.07312940709590637,
           0.07254529967348637,
           0.09416282924365635,
           0.013709573610391842,
           -0.055441678038608076,
           -0.035617876719461,
           0.018977731613288487,
           0.04859665533816339,
           0.1500619798083174,
           0.10611077648237288,
           -0.018837524964464336,
           0.011003001826541339,
           0.011640695971160018,
           0.024548772008372837,
           -0.03473215035185799,
           null,
           -0.0644766434123643
          ],
          [
           null,
           null,
           null,
           null,
           null,
           null,
           null,
           null,
           0.12871496254262302,
           0.19785487905781732,
           0.29481474185281326,
           0.015727846011103934,
           0.10533187180861721,
           -0.09581092799568144,
           0.0302386725881412,
           -0.03023714325605262,
           -0.0005432971372190416,
           0.04780039986354406,
           -0.017728258918965466,
           -0.017933592381346276,
           0.018621625850864774,
           0.050774793312627506,
           0.014695200785363424,
           0.0376645610341473,
           null,
           -0.28196941211840826
          ],
          [
           null,
           null,
           null,
           null,
           null,
           null,
           null,
           null,
           null,
           0.46407687898075206,
           0.4038713150159923,
           0.033820205088946356,
           0.11588520608609945,
           -0.17241001862897137,
           0.007742047844342163,
           0.001102073051145007,
           -0.026858875201736895,
           0.013945779963044469,
           0.019198012660446226,
           -0.06701570132921537,
           -0.018379312963436967,
           0.04270288249436104,
           0.021145659269498948,
           0.042114017746961545,
           null,
           -0.41493028801055315
          ],
          [
           null,
           null,
           null,
           null,
           null,
           null,
           null,
           null,
           null,
           null,
           0.5438257462080437,
           0.051356188802611384,
           0.13212613981528412,
           -0.16324668615489843,
           0.01201376790821285,
           -0.016230338629126505,
           -0.04575222118486236,
           0.019339547617339962,
           -0.010977223008773088,
           -0.02366049214028666,
           0.006461726619293732,
           0.0562792422423834,
           0.012896478695122731,
           0.04934742156085328,
           null,
           -0.5544737613182645
          ],
          [
           null,
           null,
           null,
           null,
           null,
           null,
           null,
           null,
           null,
           null,
           null,
           0.04993526608782798,
           0.2129384287290056,
           -0.16468413039175908,
           0.03282884409787755,
           -0.0104399386980702,
           -0.04747480061280301,
           0.03860080740283984,
           -0.02236974653268418,
           0.013134284928622958,
           0.01000533331869322,
           0.06795827027900898,
           0.03314033444551802,
           0.050501784492626565,
           null,
           -0.84295647598075
          ],
          [
           null,
           null,
           null,
           null,
           null,
           null,
           null,
           null,
           null,
           null,
           null,
           null,
           -0.004975039497689029,
           -0.03558839345839763,
           -0.015825521571853348,
           0.05000381480415493,
           -0.006807614650989005,
           0.15600059479796616,
           0.040639097147952184,
           -0.014772127709916438,
           -0.004469895809458342,
           0.0015417890866733805,
           0.025106114285954093,
           -0.00720238713831507,
           null,
           -0.04744813144706294
          ],
          [
           null,
           null,
           null,
           null,
           null,
           null,
           null,
           null,
           null,
           null,
           null,
           null,
           null,
           -0.19721218638355198,
           0.012554090417384107,
           -0.11312789494924855,
           0.10848398279267045,
           0.009115217154820053,
           0.005061667493076109,
           -0.11424765355123341,
           0.0068186115949552435,
           -0.05198148855310227,
           0.09610836413541302,
           -0.03624813536189194,
           null,
           -0.21404766834921488
          ],
          [
           null,
           null,
           null,
           null,
           null,
           null,
           null,
           null,
           null,
           null,
           null,
           null,
           null,
           null,
           0.015046039119469553,
           -0.05791162169702633,
           -0.011732767379742217,
           -0.050398083375386205,
           0.03594978793672983,
           0.6502604422378491,
           0.03651387552891764,
           -0.012364107085161514,
           -0.09126368805350434,
           -0.025495727667007004,
           null,
           0.17028119182928939
          ],
          [
           null,
           null,
           null,
           null,
           null,
           null,
           null,
           null,
           null,
           null,
           null,
           null,
           null,
           null,
           null,
           -0.03482670753843386,
           0.03092284723458049,
           0.0062578728389614995,
           -0.04860987707109929,
           0.01997212731644682,
           0.043092528797685756,
           0.04095326374473498,
           -0.05582823023590886,
           0.015302384953508528,
           null,
           -0.043506483149555665
          ],
          [
           null,
           null,
           null,
           null,
           null,
           null,
           null,
           null,
           null,
           null,
           null,
           null,
           null,
           null,
           null,
           null,
           -0.2976529513467272,
           0.05256317837303528,
           0.11619635647364925,
           -0.05234608198661177,
           -0.016264403000785396,
           -0.03787625145618909,
           0.08603293334547583,
           -0.005494880482213712,
           null,
           0.015323724029366723
          ],
          [
           null,
           null,
           null,
           null,
           null,
           null,
           null,
           null,
           null,
           null,
           null,
           null,
           null,
           null,
           null,
           null,
           null,
           0.010516259839931619,
           0.014890905708935804,
           -0.03545558541156413,
           0.008742191864620913,
           -0.002887598657113476,
           0.02334093846959073,
           -0.057897420064788506,
           null,
           0.05294673918258635
          ],
          [
           null,
           null,
           null,
           null,
           null,
           null,
           null,
           null,
           null,
           null,
           null,
           null,
           null,
           null,
           null,
           null,
           null,
           null,
           0.0014656107680174806,
           -0.027384838144275548,
           0.0027702418691042583,
           0.011877167691444274,
           0.01778801455174677,
           -0.0017969300915239305,
           null,
           -0.029861880942437344
          ],
          [
           null,
           null,
           null,
           null,
           null,
           null,
           null,
           null,
           null,
           null,
           null,
           null,
           null,
           null,
           null,
           null,
           null,
           null,
           null,
           0.015830102567780186,
           -0.015645660793253604,
           -0.08070703460321428,
           -0.037456250422825965,
           -0.04501765209030906,
           null,
           0.0162516238091226
          ],
          [
           null,
           null,
           null,
           null,
           null,
           null,
           null,
           null,
           null,
           null,
           null,
           null,
           null,
           null,
           null,
           null,
           null,
           null,
           null,
           null,
           0.04536874840968845,
           0.01686974548284391,
           -0.0943757905294561,
           0.00845340579844889,
           null,
           -0.01418958737326559
          ],
          [
           null,
           null,
           null,
           null,
           null,
           null,
           null,
           null,
           null,
           null,
           null,
           null,
           null,
           null,
           null,
           null,
           null,
           null,
           null,
           null,
           null,
           0.01547211376596247,
           -0.029579063373012675,
           0.01259270861758888,
           null,
           -0.008870479512117434
          ],
          [
           null,
           null,
           null,
           null,
           null,
           null,
           null,
           null,
           null,
           null,
           null,
           null,
           null,
           null,
           null,
           null,
           null,
           null,
           null,
           null,
           null,
           null,
           -0.06251816745526147,
           0.10066238248950343,
           null,
           -0.07141641328791873
          ],
          [
           null,
           null,
           null,
           null,
           null,
           null,
           null,
           null,
           null,
           null,
           null,
           null,
           null,
           null,
           null,
           null,
           null,
           null,
           null,
           null,
           null,
           null,
           null,
           -0.08069105757232733,
           null,
           -0.034000439476079176
          ],
          [
           null,
           null,
           null,
           null,
           null,
           null,
           null,
           null,
           null,
           null,
           null,
           null,
           null,
           null,
           null,
           null,
           null,
           null,
           null,
           null,
           null,
           null,
           null,
           null,
           null,
           -0.05554113571972338
          ],
          [
           null,
           null,
           null,
           null,
           null,
           null,
           null,
           null,
           null,
           null,
           null,
           null,
           null,
           null,
           null,
           null,
           null,
           null,
           null,
           null,
           null,
           null,
           null,
           null,
           null,
           null
          ],
          [
           null,
           null,
           null,
           null,
           null,
           null,
           null,
           null,
           null,
           null,
           null,
           null,
           null,
           null,
           null,
           null,
           null,
           null,
           null,
           null,
           null,
           null,
           null,
           null,
           null,
           null
          ]
         ]
        }
       ],
       "layout": {
        "plot_bgcolor": "rgba(0,0,0,0)",
        "template": {
         "data": {
          "bar": [
           {
            "error_x": {
             "color": "#2a3f5f"
            },
            "error_y": {
             "color": "#2a3f5f"
            },
            "marker": {
             "line": {
              "color": "#E5ECF6",
              "width": 0.5
             },
             "pattern": {
              "fillmode": "overlay",
              "size": 10,
              "solidity": 0.2
             }
            },
            "type": "bar"
           }
          ],
          "barpolar": [
           {
            "marker": {
             "line": {
              "color": "#E5ECF6",
              "width": 0.5
             },
             "pattern": {
              "fillmode": "overlay",
              "size": 10,
              "solidity": 0.2
             }
            },
            "type": "barpolar"
           }
          ],
          "carpet": [
           {
            "aaxis": {
             "endlinecolor": "#2a3f5f",
             "gridcolor": "white",
             "linecolor": "white",
             "minorgridcolor": "white",
             "startlinecolor": "#2a3f5f"
            },
            "baxis": {
             "endlinecolor": "#2a3f5f",
             "gridcolor": "white",
             "linecolor": "white",
             "minorgridcolor": "white",
             "startlinecolor": "#2a3f5f"
            },
            "type": "carpet"
           }
          ],
          "choropleth": [
           {
            "colorbar": {
             "outlinewidth": 0,
             "ticks": ""
            },
            "type": "choropleth"
           }
          ],
          "contour": [
           {
            "colorbar": {
             "outlinewidth": 0,
             "ticks": ""
            },
            "colorscale": [
             [
              0,
              "#0d0887"
             ],
             [
              0.1111111111111111,
              "#46039f"
             ],
             [
              0.2222222222222222,
              "#7201a8"
             ],
             [
              0.3333333333333333,
              "#9c179e"
             ],
             [
              0.4444444444444444,
              "#bd3786"
             ],
             [
              0.5555555555555556,
              "#d8576b"
             ],
             [
              0.6666666666666666,
              "#ed7953"
             ],
             [
              0.7777777777777778,
              "#fb9f3a"
             ],
             [
              0.8888888888888888,
              "#fdca26"
             ],
             [
              1,
              "#f0f921"
             ]
            ],
            "type": "contour"
           }
          ],
          "contourcarpet": [
           {
            "colorbar": {
             "outlinewidth": 0,
             "ticks": ""
            },
            "type": "contourcarpet"
           }
          ],
          "heatmap": [
           {
            "colorbar": {
             "outlinewidth": 0,
             "ticks": ""
            },
            "colorscale": [
             [
              0,
              "#0d0887"
             ],
             [
              0.1111111111111111,
              "#46039f"
             ],
             [
              0.2222222222222222,
              "#7201a8"
             ],
             [
              0.3333333333333333,
              "#9c179e"
             ],
             [
              0.4444444444444444,
              "#bd3786"
             ],
             [
              0.5555555555555556,
              "#d8576b"
             ],
             [
              0.6666666666666666,
              "#ed7953"
             ],
             [
              0.7777777777777778,
              "#fb9f3a"
             ],
             [
              0.8888888888888888,
              "#fdca26"
             ],
             [
              1,
              "#f0f921"
             ]
            ],
            "type": "heatmap"
           }
          ],
          "heatmapgl": [
           {
            "colorbar": {
             "outlinewidth": 0,
             "ticks": ""
            },
            "colorscale": [
             [
              0,
              "#0d0887"
             ],
             [
              0.1111111111111111,
              "#46039f"
             ],
             [
              0.2222222222222222,
              "#7201a8"
             ],
             [
              0.3333333333333333,
              "#9c179e"
             ],
             [
              0.4444444444444444,
              "#bd3786"
             ],
             [
              0.5555555555555556,
              "#d8576b"
             ],
             [
              0.6666666666666666,
              "#ed7953"
             ],
             [
              0.7777777777777778,
              "#fb9f3a"
             ],
             [
              0.8888888888888888,
              "#fdca26"
             ],
             [
              1,
              "#f0f921"
             ]
            ],
            "type": "heatmapgl"
           }
          ],
          "histogram": [
           {
            "marker": {
             "pattern": {
              "fillmode": "overlay",
              "size": 10,
              "solidity": 0.2
             }
            },
            "type": "histogram"
           }
          ],
          "histogram2d": [
           {
            "colorbar": {
             "outlinewidth": 0,
             "ticks": ""
            },
            "colorscale": [
             [
              0,
              "#0d0887"
             ],
             [
              0.1111111111111111,
              "#46039f"
             ],
             [
              0.2222222222222222,
              "#7201a8"
             ],
             [
              0.3333333333333333,
              "#9c179e"
             ],
             [
              0.4444444444444444,
              "#bd3786"
             ],
             [
              0.5555555555555556,
              "#d8576b"
             ],
             [
              0.6666666666666666,
              "#ed7953"
             ],
             [
              0.7777777777777778,
              "#fb9f3a"
             ],
             [
              0.8888888888888888,
              "#fdca26"
             ],
             [
              1,
              "#f0f921"
             ]
            ],
            "type": "histogram2d"
           }
          ],
          "histogram2dcontour": [
           {
            "colorbar": {
             "outlinewidth": 0,
             "ticks": ""
            },
            "colorscale": [
             [
              0,
              "#0d0887"
             ],
             [
              0.1111111111111111,
              "#46039f"
             ],
             [
              0.2222222222222222,
              "#7201a8"
             ],
             [
              0.3333333333333333,
              "#9c179e"
             ],
             [
              0.4444444444444444,
              "#bd3786"
             ],
             [
              0.5555555555555556,
              "#d8576b"
             ],
             [
              0.6666666666666666,
              "#ed7953"
             ],
             [
              0.7777777777777778,
              "#fb9f3a"
             ],
             [
              0.8888888888888888,
              "#fdca26"
             ],
             [
              1,
              "#f0f921"
             ]
            ],
            "type": "histogram2dcontour"
           }
          ],
          "mesh3d": [
           {
            "colorbar": {
             "outlinewidth": 0,
             "ticks": ""
            },
            "type": "mesh3d"
           }
          ],
          "parcoords": [
           {
            "line": {
             "colorbar": {
              "outlinewidth": 0,
              "ticks": ""
             }
            },
            "type": "parcoords"
           }
          ],
          "pie": [
           {
            "automargin": true,
            "type": "pie"
           }
          ],
          "scatter": [
           {
            "fillpattern": {
             "fillmode": "overlay",
             "size": 10,
             "solidity": 0.2
            },
            "type": "scatter"
           }
          ],
          "scatter3d": [
           {
            "line": {
             "colorbar": {
              "outlinewidth": 0,
              "ticks": ""
             }
            },
            "marker": {
             "colorbar": {
              "outlinewidth": 0,
              "ticks": ""
             }
            },
            "type": "scatter3d"
           }
          ],
          "scattercarpet": [
           {
            "marker": {
             "colorbar": {
              "outlinewidth": 0,
              "ticks": ""
             }
            },
            "type": "scattercarpet"
           }
          ],
          "scattergeo": [
           {
            "marker": {
             "colorbar": {
              "outlinewidth": 0,
              "ticks": ""
             }
            },
            "type": "scattergeo"
           }
          ],
          "scattergl": [
           {
            "marker": {
             "colorbar": {
              "outlinewidth": 0,
              "ticks": ""
             }
            },
            "type": "scattergl"
           }
          ],
          "scattermapbox": [
           {
            "marker": {
             "colorbar": {
              "outlinewidth": 0,
              "ticks": ""
             }
            },
            "type": "scattermapbox"
           }
          ],
          "scatterpolar": [
           {
            "marker": {
             "colorbar": {
              "outlinewidth": 0,
              "ticks": ""
             }
            },
            "type": "scatterpolar"
           }
          ],
          "scatterpolargl": [
           {
            "marker": {
             "colorbar": {
              "outlinewidth": 0,
              "ticks": ""
             }
            },
            "type": "scatterpolargl"
           }
          ],
          "scatterternary": [
           {
            "marker": {
             "colorbar": {
              "outlinewidth": 0,
              "ticks": ""
             }
            },
            "type": "scatterternary"
           }
          ],
          "surface": [
           {
            "colorbar": {
             "outlinewidth": 0,
             "ticks": ""
            },
            "colorscale": [
             [
              0,
              "#0d0887"
             ],
             [
              0.1111111111111111,
              "#46039f"
             ],
             [
              0.2222222222222222,
              "#7201a8"
             ],
             [
              0.3333333333333333,
              "#9c179e"
             ],
             [
              0.4444444444444444,
              "#bd3786"
             ],
             [
              0.5555555555555556,
              "#d8576b"
             ],
             [
              0.6666666666666666,
              "#ed7953"
             ],
             [
              0.7777777777777778,
              "#fb9f3a"
             ],
             [
              0.8888888888888888,
              "#fdca26"
             ],
             [
              1,
              "#f0f921"
             ]
            ],
            "type": "surface"
           }
          ],
          "table": [
           {
            "cells": {
             "fill": {
              "color": "#EBF0F8"
             },
             "line": {
              "color": "white"
             }
            },
            "header": {
             "fill": {
              "color": "#C8D4E3"
             },
             "line": {
              "color": "white"
             }
            },
            "type": "table"
           }
          ]
         },
         "layout": {
          "annotationdefaults": {
           "arrowcolor": "#2a3f5f",
           "arrowhead": 0,
           "arrowwidth": 1
          },
          "autotypenumbers": "strict",
          "coloraxis": {
           "colorbar": {
            "outlinewidth": 0,
            "ticks": ""
           }
          },
          "colorscale": {
           "diverging": [
            [
             0,
             "#8e0152"
            ],
            [
             0.1,
             "#c51b7d"
            ],
            [
             0.2,
             "#de77ae"
            ],
            [
             0.3,
             "#f1b6da"
            ],
            [
             0.4,
             "#fde0ef"
            ],
            [
             0.5,
             "#f7f7f7"
            ],
            [
             0.6,
             "#e6f5d0"
            ],
            [
             0.7,
             "#b8e186"
            ],
            [
             0.8,
             "#7fbc41"
            ],
            [
             0.9,
             "#4d9221"
            ],
            [
             1,
             "#276419"
            ]
           ],
           "sequential": [
            [
             0,
             "#0d0887"
            ],
            [
             0.1111111111111111,
             "#46039f"
            ],
            [
             0.2222222222222222,
             "#7201a8"
            ],
            [
             0.3333333333333333,
             "#9c179e"
            ],
            [
             0.4444444444444444,
             "#bd3786"
            ],
            [
             0.5555555555555556,
             "#d8576b"
            ],
            [
             0.6666666666666666,
             "#ed7953"
            ],
            [
             0.7777777777777778,
             "#fb9f3a"
            ],
            [
             0.8888888888888888,
             "#fdca26"
            ],
            [
             1,
             "#f0f921"
            ]
           ],
           "sequentialminus": [
            [
             0,
             "#0d0887"
            ],
            [
             0.1111111111111111,
             "#46039f"
            ],
            [
             0.2222222222222222,
             "#7201a8"
            ],
            [
             0.3333333333333333,
             "#9c179e"
            ],
            [
             0.4444444444444444,
             "#bd3786"
            ],
            [
             0.5555555555555556,
             "#d8576b"
            ],
            [
             0.6666666666666666,
             "#ed7953"
            ],
            [
             0.7777777777777778,
             "#fb9f3a"
            ],
            [
             0.8888888888888888,
             "#fdca26"
            ],
            [
             1,
             "#f0f921"
            ]
           ]
          },
          "colorway": [
           "#636efa",
           "#EF553B",
           "#00cc96",
           "#ab63fa",
           "#FFA15A",
           "#19d3f3",
           "#FF6692",
           "#B6E880",
           "#FF97FF",
           "#FECB52"
          ],
          "font": {
           "color": "#2a3f5f"
          },
          "geo": {
           "bgcolor": "white",
           "lakecolor": "white",
           "landcolor": "#E5ECF6",
           "showlakes": true,
           "showland": true,
           "subunitcolor": "white"
          },
          "hoverlabel": {
           "align": "left"
          },
          "hovermode": "closest",
          "mapbox": {
           "style": "light"
          },
          "paper_bgcolor": "white",
          "plot_bgcolor": "#E5ECF6",
          "polar": {
           "angularaxis": {
            "gridcolor": "white",
            "linecolor": "white",
            "ticks": ""
           },
           "bgcolor": "#E5ECF6",
           "radialaxis": {
            "gridcolor": "white",
            "linecolor": "white",
            "ticks": ""
           }
          },
          "scene": {
           "xaxis": {
            "backgroundcolor": "#E5ECF6",
            "gridcolor": "white",
            "gridwidth": 2,
            "linecolor": "white",
            "showbackground": true,
            "ticks": "",
            "zerolinecolor": "white"
           },
           "yaxis": {
            "backgroundcolor": "#E5ECF6",
            "gridcolor": "white",
            "gridwidth": 2,
            "linecolor": "white",
            "showbackground": true,
            "ticks": "",
            "zerolinecolor": "white"
           },
           "zaxis": {
            "backgroundcolor": "#E5ECF6",
            "gridcolor": "white",
            "gridwidth": 2,
            "linecolor": "white",
            "showbackground": true,
            "ticks": "",
            "zerolinecolor": "white"
           }
          },
          "shapedefaults": {
           "line": {
            "color": "#2a3f5f"
           }
          },
          "ternary": {
           "aaxis": {
            "gridcolor": "white",
            "linecolor": "white",
            "ticks": ""
           },
           "baxis": {
            "gridcolor": "white",
            "linecolor": "white",
            "ticks": ""
           },
           "bgcolor": "#E5ECF6",
           "caxis": {
            "gridcolor": "white",
            "linecolor": "white",
            "ticks": ""
           }
          },
          "title": {
           "x": 0.05
          },
          "xaxis": {
           "automargin": true,
           "gridcolor": "white",
           "linecolor": "white",
           "ticks": "",
           "title": {
            "standoff": 15
           },
           "zerolinecolor": "white",
           "zerolinewidth": 2
          },
          "yaxis": {
           "automargin": true,
           "gridcolor": "white",
           "linecolor": "white",
           "ticks": "",
           "title": {
            "standoff": 15
           },
           "zerolinecolor": "white",
           "zerolinewidth": 2
          }
         }
        },
        "xaxis": {
         "showgrid": false
        },
        "yaxis": {
         "showgrid": false
        }
       }
      }
     },
     "metadata": {},
     "output_type": "display_data"
    }
   ],
   "source": [
    "### Correlation\n",
    "def display_corr_matrix(dataset):\n",
    "    corr = dataset.select_dtypes(exclude=['object']).corr()\n",
    "    mask = np.tril(np.ones(corr.shape)).astype(bool)\n",
    "    corr = corr.where(~mask)\n",
    "    \n",
    "    trace = go.Heatmap(z=corr.values,\n",
    "                       x=corr.index.values,\n",
    "                       y=corr.columns.values)\n",
    "\n",
    "    fig = go.Figure()\n",
    "    fig.add_trace(trace)\n",
    "    fig.update_layout(\n",
    "        plot_bgcolor='rgba(0,0,0,0)',\n",
    "        xaxis=dict(showgrid=False),\n",
    "        yaxis=dict(showgrid=False)\n",
    "    )\n",
    "    fig.show()\n",
    "\n",
    "display_corr_matrix(fraud_df_mv_b)"
   ]
  },
  {
   "cell_type": "code",
   "execution_count": 10,
   "metadata": {},
   "outputs": [
    {
     "data": {
      "application/vnd.plotly.v1+json": {
       "config": {
        "plotlyServerURL": "https://plot.ly"
       },
       "data": [
        {
         "type": "bar",
         "x": [
          -0.84295647598075,
          -0.5544737613182645,
          -0.48740341730259024,
          -0.41493028801055315,
          -0.2976529513467272,
          -0.28196941211840826,
          -0.23889116613040196,
          -0.21494677651576719,
          -0.21404766834921488,
          -0.20632193713898248,
          -0.19721218638355198,
          -0.19327179630587263,
          -0.17559693518918304,
          -0.17241001862897137,
          -0.17092164025374523,
          -0.16468413039175908,
          -0.16324668615489843,
          -0.15289716114124646,
          -0.12739167335882368,
          -0.1190821617263457,
          -0.11576049538117819,
          -0.11424765355123341,
          -0.11312789494924855,
          -0.10919086176841125,
          -0.10531863352549356,
          -0.09581092799568144,
          -0.09495516826876102,
          -0.0943757905294561,
          -0.09257952516773568,
          -0.09126368805350434,
          -0.08333579821684343,
          -0.08168309340142646,
          -0.08138929562334535,
          -0.08120145596526941,
          -0.08070703460321428,
          -0.08069105757232733,
          -0.08016000688423022,
          -0.07141641328791873,
          -0.07050562244115012,
          -0.06973530051871303,
          -0.06701570132921537,
          -0.06618218650439216,
          -0.0644766434123643,
          -0.06308653797051114,
          -0.06251816745526147,
          -0.06089719405297174,
          -0.05894793205442287,
          -0.05867628742999855,
          -0.05791162169702633,
          -0.057897420064788506,
          -0.05582823023590886,
          -0.055633161937207756,
          -0.05554113571972338,
          -0.055441678038608076,
          -0.05430813900144338,
          -0.0540499469026675,
          -0.05395306439168897,
          -0.05234608198661177,
          -0.05198148855310227,
          -0.050398083375386205,
          -0.04860987707109929,
          -0.04747480061280301,
          -0.04744813144706294,
          -0.04575222118486236,
          -0.04501765209030906,
          -0.04454333934688054,
          -0.0443522850836699,
          -0.043506483149555665,
          -0.04137341790647288,
          -0.03806124571442311,
          -0.03787625145618909,
          -0.037456250422825965,
          -0.03624813536189194,
          -0.035617876719461,
          -0.03558839345839763,
          -0.03545558541156413,
          -0.03482670753843386,
          -0.03473215035185799,
          -0.0346295907979046,
          -0.034000439476079176,
          -0.03384031955516192,
          -0.033585447806306554,
          -0.03283969079347865,
          -0.03023714325605262,
          -0.029861880942437344,
          -0.029579063373012675,
          -0.029263893308131613,
          -0.027384838144275548,
          -0.026858875201736895,
          -0.02554935602120629,
          -0.025495727667007004,
          -0.02366049214028666,
          -0.02236974653268418,
          -0.021179478046499233,
          -0.018837524964464336,
          -0.018379312963436967,
          -0.017933592381346276,
          -0.017728258918965466,
          -0.016638734531488546,
          -0.016264403000785396,
          -0.016230338629126505,
          -0.01586751069922197,
          -0.015825521571853348,
          -0.015645660793253604,
          -0.015610887854885696,
          -0.015551676147601699,
          -0.014772127709916438,
          -0.014617635074053052,
          -0.014383692198518554,
          -0.01418958737326559,
          -0.012364107085161514,
          -0.011732767379742217,
          -0.010977223008773088,
          -0.0104399386980702,
          -0.008870479512117434,
          -0.008242323142752965,
          -0.008049934356531481,
          -0.007772418372606881,
          -0.00720238713831507,
          -0.006807614650989005,
          -0.006164375983658806,
          -0.005494880482213712,
          -0.005341661076221529,
          -0.004975039497689029,
          -0.004469895809458342,
          -0.003646030468085849,
          -0.002887598657113476,
          -0.001905544360461739,
          -0.0017969300915239305,
          -0.0011872892502271081,
          -0.0007165965308354207,
          -0.0005432971372190416,
          0.001102073051145007,
          0.0014656107680174806,
          0.0015417890866733805,
          0.0018830343462480986,
          0.002453591246879683,
          0.0027702418691042583,
          0.0028386102305415673,
          0.002948832648693545,
          0.0031095749170350455,
          0.005061667493076109,
          0.005680014176165108,
          0.0062578728389614995,
          0.00637943173663539,
          0.006461726619293732,
          0.0068186115949552435,
          0.007076612517307246,
          0.007742047844342163,
          0.00845340579844889,
          0.008742191864620913,
          0.009115217154820053,
          0.009613109789603664,
          0.009877679417992911,
          0.01000533331869322,
          0.010516259839931619,
          0.011003001826541339,
          0.011640695971160018,
          0.011864885984455054,
          0.011877167691444274,
          0.01201376790821285,
          0.012554090417384107,
          0.01259270861758888,
          0.012896478695122731,
          0.0130024184712799,
          0.013134284928622958,
          0.013709573610391842,
          0.01383879582299776,
          0.013945779963044469,
          0.014125481832491533,
          0.014535750309284272,
          0.01461190648942801,
          0.014695200785363424,
          0.014890905708935804,
          0.015046039119469553,
          0.01511684951858103,
          0.015302384953508528,
          0.015323724029366723,
          0.0154170906711522,
          0.015426732926266883,
          0.01547211376596247,
          0.015727846011103934,
          0.015830102567780186,
          0.0162516238091226,
          0.016390563597375837,
          0.016626942052672358,
          0.01686974548284391,
          0.01778801455174677,
          0.017817566345903403,
          0.01841011763674142,
          0.018621625850864774,
          0.018787160331607766,
          0.018977731613288487,
          0.019198012660446226,
          0.019339547617339962,
          0.019672526057369227,
          0.019747633141544218,
          0.01997212731644682,
          0.02043377823368135,
          0.020746344463912943,
          0.020983180757517306,
          0.021145659269498948,
          0.02184162220499027,
          0.02334093846959073,
          0.023993893563617,
          0.024548772008372837,
          0.024847873183857706,
          0.025106114285954093,
          0.0264252576630413,
          0.027383414300458618,
          0.027645308602977366,
          0.02777694491503148,
          0.02794605440229258,
          0.02840135371206551,
          0.029843835815517857,
          0.0302386725881412,
          0.03092284723458049,
          0.03282884409787755,
          0.03314033444551802,
          0.033820205088946356,
          0.033834248183400153,
          0.03594978793672983,
          0.03651387552891764,
          0.03705829489720185,
          0.0376645610341473,
          0.037989571723881274,
          0.0381652176137706,
          0.03860080740283984,
          0.03887957093836655,
          0.04060446004525733,
          0.040639097147952184,
          0.04095326374473498,
          0.04135023366009523,
          0.042114017746961545,
          0.04270288249436104,
          0.043092528797685756,
          0.04317310385321062,
          0.044465825593573434,
          0.04536874840968845,
          0.04780039986354406,
          0.04859665533816339,
          0.04934742156085328,
          0.04993526608782798,
          0.05000381480415493,
          0.050501784492626565,
          0.050774793312627506,
          0.051209161123073686,
          0.051356188802611384,
          0.05256317837303528,
          0.05294673918258635,
          0.053676334358913814,
          0.05598443003003922,
          0.0562792422423834,
          0.058153146020065265,
          0.0615260959856007,
          0.0625419433876942,
          0.063461531032488,
          0.06621272116709098,
          0.06795827027900898,
          0.07254529967348637,
          0.07312940709590637,
          0.08603293334547583,
          0.09159438075794343,
          0.09416282924365635,
          0.09610836413541302,
          0.10066238248950343,
          0.10533187180861721,
          0.10611077648237288,
          0.10848398279267045,
          0.11588520608609945,
          0.11619635647364925,
          0.1175768108933556,
          0.12750534399174468,
          0.12871496254262302,
          0.13212613981528412,
          0.1363185888086384,
          0.13822421246069738,
          0.1467689834382165,
          0.1500619798083174,
          0.15600059479796616,
          0.1604846038204626,
          0.1608588615826928,
          0.16891990583379077,
          0.17028119182928939,
          0.17808230620059481,
          0.19785487905781732,
          0.2036978308150689,
          0.2087008880261969,
          0.2129384287290056,
          0.2199338834242686,
          0.22809664451469394,
          0.23159917960872803,
          0.27237705379553895,
          0.2769418747233257,
          0.29481474185281326,
          0.2968191161867712,
          0.4038713150159923,
          0.46407687898075206,
          0.5438257462080437,
          0.6502604422378491
         ],
         "y": [
          1,
          1,
          1,
          1,
          1,
          1,
          1,
          1,
          1,
          1,
          1,
          1,
          1,
          1,
          1,
          1,
          1,
          1,
          1,
          1,
          1,
          1,
          1,
          1,
          1,
          1,
          1,
          1,
          1,
          1,
          1,
          1,
          1,
          1,
          1,
          1,
          1,
          1,
          1,
          1,
          1,
          1,
          1,
          1,
          1,
          1,
          1,
          1,
          1,
          1,
          1,
          1,
          1,
          1,
          1,
          1,
          1,
          1,
          1,
          1,
          1,
          1,
          1,
          1,
          1,
          1,
          1,
          1,
          1,
          1,
          1,
          1,
          1,
          1,
          1,
          1,
          1,
          1,
          1,
          1,
          1,
          1,
          1,
          1,
          1,
          1,
          1,
          1,
          1,
          1,
          1,
          1,
          1,
          1,
          1,
          1,
          1,
          1,
          1,
          1,
          1,
          1,
          1,
          1,
          1,
          1,
          1,
          1,
          1,
          1,
          1,
          1,
          1,
          1,
          1,
          1,
          1,
          1,
          1,
          1,
          1,
          1,
          1,
          1,
          1,
          1,
          1,
          1,
          1,
          1,
          1,
          1,
          1,
          1,
          1,
          1,
          1,
          1,
          1,
          1,
          1,
          1,
          1,
          1,
          1,
          1,
          1,
          1,
          1,
          1,
          1,
          1,
          1,
          1,
          1,
          1,
          1,
          1,
          1,
          1,
          1,
          1,
          1,
          1,
          1,
          1,
          1,
          1,
          1,
          1,
          1,
          1,
          1,
          1,
          1,
          1,
          1,
          1,
          1,
          1,
          1,
          1,
          1,
          1,
          1,
          1,
          1,
          1,
          1,
          1,
          1,
          1,
          1,
          1,
          1,
          1,
          1,
          1,
          1,
          1,
          1,
          1,
          1,
          1,
          1,
          1,
          1,
          1,
          1,
          1,
          1,
          1,
          1,
          1,
          1,
          1,
          1,
          1,
          1,
          1,
          1,
          1,
          1,
          1,
          1,
          1,
          1,
          1,
          1,
          1,
          1,
          1,
          1,
          1,
          1,
          1,
          1,
          1,
          1,
          1,
          1,
          1,
          1,
          1,
          1,
          1,
          1,
          1,
          1,
          1,
          1,
          1,
          1,
          1,
          1,
          1,
          1,
          1,
          1,
          1,
          1,
          1,
          1,
          1,
          1,
          1,
          1,
          1,
          1,
          1,
          1,
          1,
          1,
          1,
          1,
          1,
          1,
          1,
          1,
          1,
          1,
          1,
          1,
          1,
          1,
          1,
          1,
          1,
          1,
          1,
          1,
          1,
          1,
          1,
          1,
          1,
          1,
          1,
          1,
          1
         ]
        }
       ],
       "layout": {
        "paper_bgcolor": "rgba(0,0,0,0)",
        "plot_bgcolor": "rgba(0,0,0,0)",
        "template": {
         "data": {
          "bar": [
           {
            "error_x": {
             "color": "#2a3f5f"
            },
            "error_y": {
             "color": "#2a3f5f"
            },
            "marker": {
             "line": {
              "color": "#E5ECF6",
              "width": 0.5
             },
             "pattern": {
              "fillmode": "overlay",
              "size": 10,
              "solidity": 0.2
             }
            },
            "type": "bar"
           }
          ],
          "barpolar": [
           {
            "marker": {
             "line": {
              "color": "#E5ECF6",
              "width": 0.5
             },
             "pattern": {
              "fillmode": "overlay",
              "size": 10,
              "solidity": 0.2
             }
            },
            "type": "barpolar"
           }
          ],
          "carpet": [
           {
            "aaxis": {
             "endlinecolor": "#2a3f5f",
             "gridcolor": "white",
             "linecolor": "white",
             "minorgridcolor": "white",
             "startlinecolor": "#2a3f5f"
            },
            "baxis": {
             "endlinecolor": "#2a3f5f",
             "gridcolor": "white",
             "linecolor": "white",
             "minorgridcolor": "white",
             "startlinecolor": "#2a3f5f"
            },
            "type": "carpet"
           }
          ],
          "choropleth": [
           {
            "colorbar": {
             "outlinewidth": 0,
             "ticks": ""
            },
            "type": "choropleth"
           }
          ],
          "contour": [
           {
            "colorbar": {
             "outlinewidth": 0,
             "ticks": ""
            },
            "colorscale": [
             [
              0,
              "#0d0887"
             ],
             [
              0.1111111111111111,
              "#46039f"
             ],
             [
              0.2222222222222222,
              "#7201a8"
             ],
             [
              0.3333333333333333,
              "#9c179e"
             ],
             [
              0.4444444444444444,
              "#bd3786"
             ],
             [
              0.5555555555555556,
              "#d8576b"
             ],
             [
              0.6666666666666666,
              "#ed7953"
             ],
             [
              0.7777777777777778,
              "#fb9f3a"
             ],
             [
              0.8888888888888888,
              "#fdca26"
             ],
             [
              1,
              "#f0f921"
             ]
            ],
            "type": "contour"
           }
          ],
          "contourcarpet": [
           {
            "colorbar": {
             "outlinewidth": 0,
             "ticks": ""
            },
            "type": "contourcarpet"
           }
          ],
          "heatmap": [
           {
            "colorbar": {
             "outlinewidth": 0,
             "ticks": ""
            },
            "colorscale": [
             [
              0,
              "#0d0887"
             ],
             [
              0.1111111111111111,
              "#46039f"
             ],
             [
              0.2222222222222222,
              "#7201a8"
             ],
             [
              0.3333333333333333,
              "#9c179e"
             ],
             [
              0.4444444444444444,
              "#bd3786"
             ],
             [
              0.5555555555555556,
              "#d8576b"
             ],
             [
              0.6666666666666666,
              "#ed7953"
             ],
             [
              0.7777777777777778,
              "#fb9f3a"
             ],
             [
              0.8888888888888888,
              "#fdca26"
             ],
             [
              1,
              "#f0f921"
             ]
            ],
            "type": "heatmap"
           }
          ],
          "heatmapgl": [
           {
            "colorbar": {
             "outlinewidth": 0,
             "ticks": ""
            },
            "colorscale": [
             [
              0,
              "#0d0887"
             ],
             [
              0.1111111111111111,
              "#46039f"
             ],
             [
              0.2222222222222222,
              "#7201a8"
             ],
             [
              0.3333333333333333,
              "#9c179e"
             ],
             [
              0.4444444444444444,
              "#bd3786"
             ],
             [
              0.5555555555555556,
              "#d8576b"
             ],
             [
              0.6666666666666666,
              "#ed7953"
             ],
             [
              0.7777777777777778,
              "#fb9f3a"
             ],
             [
              0.8888888888888888,
              "#fdca26"
             ],
             [
              1,
              "#f0f921"
             ]
            ],
            "type": "heatmapgl"
           }
          ],
          "histogram": [
           {
            "marker": {
             "pattern": {
              "fillmode": "overlay",
              "size": 10,
              "solidity": 0.2
             }
            },
            "type": "histogram"
           }
          ],
          "histogram2d": [
           {
            "colorbar": {
             "outlinewidth": 0,
             "ticks": ""
            },
            "colorscale": [
             [
              0,
              "#0d0887"
             ],
             [
              0.1111111111111111,
              "#46039f"
             ],
             [
              0.2222222222222222,
              "#7201a8"
             ],
             [
              0.3333333333333333,
              "#9c179e"
             ],
             [
              0.4444444444444444,
              "#bd3786"
             ],
             [
              0.5555555555555556,
              "#d8576b"
             ],
             [
              0.6666666666666666,
              "#ed7953"
             ],
             [
              0.7777777777777778,
              "#fb9f3a"
             ],
             [
              0.8888888888888888,
              "#fdca26"
             ],
             [
              1,
              "#f0f921"
             ]
            ],
            "type": "histogram2d"
           }
          ],
          "histogram2dcontour": [
           {
            "colorbar": {
             "outlinewidth": 0,
             "ticks": ""
            },
            "colorscale": [
             [
              0,
              "#0d0887"
             ],
             [
              0.1111111111111111,
              "#46039f"
             ],
             [
              0.2222222222222222,
              "#7201a8"
             ],
             [
              0.3333333333333333,
              "#9c179e"
             ],
             [
              0.4444444444444444,
              "#bd3786"
             ],
             [
              0.5555555555555556,
              "#d8576b"
             ],
             [
              0.6666666666666666,
              "#ed7953"
             ],
             [
              0.7777777777777778,
              "#fb9f3a"
             ],
             [
              0.8888888888888888,
              "#fdca26"
             ],
             [
              1,
              "#f0f921"
             ]
            ],
            "type": "histogram2dcontour"
           }
          ],
          "mesh3d": [
           {
            "colorbar": {
             "outlinewidth": 0,
             "ticks": ""
            },
            "type": "mesh3d"
           }
          ],
          "parcoords": [
           {
            "line": {
             "colorbar": {
              "outlinewidth": 0,
              "ticks": ""
             }
            },
            "type": "parcoords"
           }
          ],
          "pie": [
           {
            "automargin": true,
            "type": "pie"
           }
          ],
          "scatter": [
           {
            "fillpattern": {
             "fillmode": "overlay",
             "size": 10,
             "solidity": 0.2
            },
            "type": "scatter"
           }
          ],
          "scatter3d": [
           {
            "line": {
             "colorbar": {
              "outlinewidth": 0,
              "ticks": ""
             }
            },
            "marker": {
             "colorbar": {
              "outlinewidth": 0,
              "ticks": ""
             }
            },
            "type": "scatter3d"
           }
          ],
          "scattercarpet": [
           {
            "marker": {
             "colorbar": {
              "outlinewidth": 0,
              "ticks": ""
             }
            },
            "type": "scattercarpet"
           }
          ],
          "scattergeo": [
           {
            "marker": {
             "colorbar": {
              "outlinewidth": 0,
              "ticks": ""
             }
            },
            "type": "scattergeo"
           }
          ],
          "scattergl": [
           {
            "marker": {
             "colorbar": {
              "outlinewidth": 0,
              "ticks": ""
             }
            },
            "type": "scattergl"
           }
          ],
          "scattermapbox": [
           {
            "marker": {
             "colorbar": {
              "outlinewidth": 0,
              "ticks": ""
             }
            },
            "type": "scattermapbox"
           }
          ],
          "scatterpolar": [
           {
            "marker": {
             "colorbar": {
              "outlinewidth": 0,
              "ticks": ""
             }
            },
            "type": "scatterpolar"
           }
          ],
          "scatterpolargl": [
           {
            "marker": {
             "colorbar": {
              "outlinewidth": 0,
              "ticks": ""
             }
            },
            "type": "scatterpolargl"
           }
          ],
          "scatterternary": [
           {
            "marker": {
             "colorbar": {
              "outlinewidth": 0,
              "ticks": ""
             }
            },
            "type": "scatterternary"
           }
          ],
          "surface": [
           {
            "colorbar": {
             "outlinewidth": 0,
             "ticks": ""
            },
            "colorscale": [
             [
              0,
              "#0d0887"
             ],
             [
              0.1111111111111111,
              "#46039f"
             ],
             [
              0.2222222222222222,
              "#7201a8"
             ],
             [
              0.3333333333333333,
              "#9c179e"
             ],
             [
              0.4444444444444444,
              "#bd3786"
             ],
             [
              0.5555555555555556,
              "#d8576b"
             ],
             [
              0.6666666666666666,
              "#ed7953"
             ],
             [
              0.7777777777777778,
              "#fb9f3a"
             ],
             [
              0.8888888888888888,
              "#fdca26"
             ],
             [
              1,
              "#f0f921"
             ]
            ],
            "type": "surface"
           }
          ],
          "table": [
           {
            "cells": {
             "fill": {
              "color": "#EBF0F8"
             },
             "line": {
              "color": "white"
             }
            },
            "header": {
             "fill": {
              "color": "#C8D4E3"
             },
             "line": {
              "color": "white"
             }
            },
            "type": "table"
           }
          ]
         },
         "layout": {
          "annotationdefaults": {
           "arrowcolor": "#2a3f5f",
           "arrowhead": 0,
           "arrowwidth": 1
          },
          "autotypenumbers": "strict",
          "coloraxis": {
           "colorbar": {
            "outlinewidth": 0,
            "ticks": ""
           }
          },
          "colorscale": {
           "diverging": [
            [
             0,
             "#8e0152"
            ],
            [
             0.1,
             "#c51b7d"
            ],
            [
             0.2,
             "#de77ae"
            ],
            [
             0.3,
             "#f1b6da"
            ],
            [
             0.4,
             "#fde0ef"
            ],
            [
             0.5,
             "#f7f7f7"
            ],
            [
             0.6,
             "#e6f5d0"
            ],
            [
             0.7,
             "#b8e186"
            ],
            [
             0.8,
             "#7fbc41"
            ],
            [
             0.9,
             "#4d9221"
            ],
            [
             1,
             "#276419"
            ]
           ],
           "sequential": [
            [
             0,
             "#0d0887"
            ],
            [
             0.1111111111111111,
             "#46039f"
            ],
            [
             0.2222222222222222,
             "#7201a8"
            ],
            [
             0.3333333333333333,
             "#9c179e"
            ],
            [
             0.4444444444444444,
             "#bd3786"
            ],
            [
             0.5555555555555556,
             "#d8576b"
            ],
            [
             0.6666666666666666,
             "#ed7953"
            ],
            [
             0.7777777777777778,
             "#fb9f3a"
            ],
            [
             0.8888888888888888,
             "#fdca26"
            ],
            [
             1,
             "#f0f921"
            ]
           ],
           "sequentialminus": [
            [
             0,
             "#0d0887"
            ],
            [
             0.1111111111111111,
             "#46039f"
            ],
            [
             0.2222222222222222,
             "#7201a8"
            ],
            [
             0.3333333333333333,
             "#9c179e"
            ],
            [
             0.4444444444444444,
             "#bd3786"
            ],
            [
             0.5555555555555556,
             "#d8576b"
            ],
            [
             0.6666666666666666,
             "#ed7953"
            ],
            [
             0.7777777777777778,
             "#fb9f3a"
            ],
            [
             0.8888888888888888,
             "#fdca26"
            ],
            [
             1,
             "#f0f921"
            ]
           ]
          },
          "colorway": [
           "#636efa",
           "#EF553B",
           "#00cc96",
           "#ab63fa",
           "#FFA15A",
           "#19d3f3",
           "#FF6692",
           "#B6E880",
           "#FF97FF",
           "#FECB52"
          ],
          "font": {
           "color": "#2a3f5f"
          },
          "geo": {
           "bgcolor": "white",
           "lakecolor": "white",
           "landcolor": "#E5ECF6",
           "showlakes": true,
           "showland": true,
           "subunitcolor": "white"
          },
          "hoverlabel": {
           "align": "left"
          },
          "hovermode": "closest",
          "mapbox": {
           "style": "light"
          },
          "paper_bgcolor": "white",
          "plot_bgcolor": "#E5ECF6",
          "polar": {
           "angularaxis": {
            "gridcolor": "white",
            "linecolor": "white",
            "ticks": ""
           },
           "bgcolor": "#E5ECF6",
           "radialaxis": {
            "gridcolor": "white",
            "linecolor": "white",
            "ticks": ""
           }
          },
          "scene": {
           "xaxis": {
            "backgroundcolor": "#E5ECF6",
            "gridcolor": "white",
            "gridwidth": 2,
            "linecolor": "white",
            "showbackground": true,
            "ticks": "",
            "zerolinecolor": "white"
           },
           "yaxis": {
            "backgroundcolor": "#E5ECF6",
            "gridcolor": "white",
            "gridwidth": 2,
            "linecolor": "white",
            "showbackground": true,
            "ticks": "",
            "zerolinecolor": "white"
           },
           "zaxis": {
            "backgroundcolor": "#E5ECF6",
            "gridcolor": "white",
            "gridwidth": 2,
            "linecolor": "white",
            "showbackground": true,
            "ticks": "",
            "zerolinecolor": "white"
           }
          },
          "shapedefaults": {
           "line": {
            "color": "#2a3f5f"
           }
          },
          "ternary": {
           "aaxis": {
            "gridcolor": "white",
            "linecolor": "white",
            "ticks": ""
           },
           "baxis": {
            "gridcolor": "white",
            "linecolor": "white",
            "ticks": ""
           },
           "bgcolor": "#E5ECF6",
           "caxis": {
            "gridcolor": "white",
            "linecolor": "white",
            "ticks": ""
           }
          },
          "title": {
           "x": 0.05
          },
          "xaxis": {
           "automargin": true,
           "gridcolor": "white",
           "linecolor": "white",
           "ticks": "",
           "title": {
            "standoff": 15
           },
           "zerolinecolor": "white",
           "zerolinewidth": 2
          },
          "yaxis": {
           "automargin": true,
           "gridcolor": "white",
           "linecolor": "white",
           "ticks": "",
           "title": {
            "standoff": 15
           },
           "zerolinecolor": "white",
           "zerolinewidth": 2
          }
         }
        },
        "title": {
         "text": "Correlation Value Distribution"
        },
        "xaxis": {
         "showgrid": false,
         "tickformat": ".2f",
         "tickvals": [
          -0.84,
          -0.55,
          -0.49,
          -0.41,
          -0.3,
          -0.28,
          -0.24,
          -0.21,
          -0.21,
          -0.21,
          -0.2,
          -0.19,
          -0.18,
          -0.17,
          -0.17,
          -0.16,
          -0.16,
          -0.15,
          -0.13,
          -0.12,
          -0.12,
          -0.11,
          -0.11,
          -0.11,
          -0.11,
          -0.1,
          -0.09,
          -0.09,
          -0.09,
          -0.09,
          -0.08,
          -0.08,
          -0.08,
          -0.08,
          -0.08,
          -0.08,
          -0.08,
          -0.07,
          -0.07,
          -0.07,
          -0.07,
          -0.07,
          -0.06,
          -0.06,
          -0.06,
          -0.06,
          -0.06,
          -0.06,
          -0.06,
          -0.06,
          -0.06,
          -0.06,
          -0.06,
          -0.06,
          -0.05,
          -0.05,
          -0.05,
          -0.05,
          -0.05,
          -0.05,
          -0.05,
          -0.05,
          -0.05,
          -0.05,
          -0.05,
          -0.04,
          -0.04,
          -0.04,
          -0.04,
          -0.04,
          -0.04,
          -0.04,
          -0.04,
          -0.04,
          -0.04,
          -0.04,
          -0.03,
          -0.03,
          -0.03,
          -0.03,
          -0.03,
          -0.03,
          -0.03,
          -0.03,
          -0.03,
          -0.03,
          -0.03,
          -0.03,
          -0.03,
          -0.03,
          -0.03,
          -0.02,
          -0.02,
          -0.02,
          -0.02,
          -0.02,
          -0.02,
          -0.02,
          -0.02,
          -0.02,
          -0.02,
          -0.02,
          -0.02,
          -0.02,
          -0.02,
          -0.02,
          -0.01,
          -0.01,
          -0.01,
          -0.01,
          -0.01,
          -0.01,
          -0.01,
          -0.01,
          -0.01,
          -0.01,
          -0.01,
          -0.01,
          -0.01,
          -0.01,
          -0.01,
          -0.01,
          -0.01,
          0,
          0,
          0,
          0,
          0,
          0,
          0,
          0,
          0,
          0,
          0,
          0,
          0,
          0,
          0,
          0,
          0,
          0,
          0.01,
          0.01,
          0.01,
          0.01,
          0.01,
          0.01,
          0.01,
          0.01,
          0.01,
          0.01,
          0.01,
          0.01,
          0.01,
          0.01,
          0.01,
          0.01,
          0.01,
          0.01,
          0.01,
          0.01,
          0.01,
          0.01,
          0.01,
          0.01,
          0.01,
          0.01,
          0.01,
          0.01,
          0.01,
          0.01,
          0.01,
          0.01,
          0.01,
          0.02,
          0.02,
          0.02,
          0.02,
          0.02,
          0.02,
          0.02,
          0.02,
          0.02,
          0.02,
          0.02,
          0.02,
          0.02,
          0.02,
          0.02,
          0.02,
          0.02,
          0.02,
          0.02,
          0.02,
          0.02,
          0.02,
          0.02,
          0.02,
          0.02,
          0.02,
          0.02,
          0.02,
          0.02,
          0.02,
          0.02,
          0.02,
          0.02,
          0.03,
          0.03,
          0.03,
          0.03,
          0.03,
          0.03,
          0.03,
          0.03,
          0.03,
          0.03,
          0.03,
          0.03,
          0.03,
          0.03,
          0.04,
          0.04,
          0.04,
          0.04,
          0.04,
          0.04,
          0.04,
          0.04,
          0.04,
          0.04,
          0.04,
          0.04,
          0.04,
          0.04,
          0.04,
          0.04,
          0.04,
          0.05,
          0.05,
          0.05,
          0.05,
          0.05,
          0.05,
          0.05,
          0.05,
          0.05,
          0.05,
          0.05,
          0.05,
          0.05,
          0.06,
          0.06,
          0.06,
          0.06,
          0.06,
          0.06,
          0.07,
          0.07,
          0.07,
          0.07,
          0.09,
          0.09,
          0.09,
          0.1,
          0.1,
          0.11,
          0.11,
          0.11,
          0.12,
          0.12,
          0.12,
          0.13,
          0.13,
          0.13,
          0.14,
          0.14,
          0.15,
          0.15,
          0.16,
          0.16,
          0.16,
          0.17,
          0.17,
          0.18,
          0.2,
          0.2,
          0.21,
          0.21,
          0.22,
          0.23,
          0.23,
          0.27,
          0.28,
          0.29,
          0.3,
          0.4,
          0.46,
          0.54,
          0.65
         ],
         "title": {
          "text": "Correlation Value"
         }
        },
        "yaxis": {
         "showgrid": false,
         "title": {
          "text": "Frequency"
         }
        }
       }
      }
     },
     "metadata": {},
     "output_type": "display_data"
    }
   ],
   "source": [
    "def display_corr_distribution(dataset, title=\"Correlation Value Distribution\"):\n",
    "\n",
    "    corr = dataset.select_dtypes(exclude=['object']).corr()\n",
    "    mask = np.tril(np.ones(corr.shape)).astype(bool)\n",
    "\n",
    "    corr_values = corr.where(~mask).stack() # flatten trilled matrix\n",
    "    corr_value_counts = corr_values.value_counts().sort_index()\n",
    "\n",
    "    trace = go.Bar(\n",
    "        x=corr_value_counts.index,\n",
    "        y=corr_value_counts.values\n",
    "    )\n",
    "\n",
    "    fig = go.Figure()\n",
    "    fig.add_trace(trace)\n",
    "    fig.update_layout(\n",
    "        title=title,\n",
    "        xaxis_title=\"Correlation Value\",\n",
    "        yaxis_title=\"Frequency\",\n",
    "        paper_bgcolor='rgba(0,0,0,0)',\n",
    "        plot_bgcolor='rgba(0,0,0,0)',\n",
    "        xaxis=dict(\n",
    "            showgrid=False,\n",
    "            tickvals=np.round(corr_value_counts.index, 2),  # Set tick values with improved precision\n",
    "            tickformat=\".2f\"  # Format ticks to 2 decimal places\n",
    "        ),\n",
    "        yaxis=dict(showgrid=False)\n",
    "    )\n",
    "    fig.show()\n",
    "\n",
    "display_corr_distribution(fraud_df_mv_b)"
   ]
  },
  {
   "cell_type": "code",
   "execution_count": 11,
   "metadata": {},
   "outputs": [],
   "source": [
    "def remove_high_correlations(dataframe, threshold, target):\n",
    "    corr = dataframe.select_dtypes(exclude=['object']).corr()\n",
    "    highly_correlated_pairs = []\n",
    "    removed_columns = []\n",
    "    \n",
    "    # Obtenir l'index de la colonne cible\n",
    "    target_index = dataframe.columns.get_loc(target)\n",
    "    \n",
    "    for i in range(len(corr.columns)):\n",
    "        for j in range(i):\n",
    "            if abs(corr.iloc[i, j]) > threshold:\n",
    "                colname_i = corr.columns[i]\n",
    "                colname_j = corr.columns[j]\n",
    "                highly_correlated_pairs.append((colname_i, colname_j))\n",
    "    \n",
    "    for (col1, col2) in highly_correlated_pairs:\n",
    "        if col1 in dataframe.columns and col2 in dataframe.columns:\n",
    "            corr_col1_target = abs(corr.iloc[corr.columns.get_loc(col1), target_index])\n",
    "            corr_col2_target = abs(corr.iloc[corr.columns.get_loc(col2), target_index])\n",
    "            \n",
    "            if corr_col1_target > corr_col2_target:\n",
    "                removed_columns.append(col1)\n",
    "                dataframe = dataframe.drop(columns=[col1])\n",
    "            else:\n",
    "                removed_columns.append(col2)\n",
    "                dataframe = dataframe.drop(columns=[col2])\n",
    "    for col in removed_columns : \n",
    "        print(f\"Column {col} removed !\")\n",
    "    return dataframe"
   ]
  },
  {
   "cell_type": "code",
   "execution_count": 12,
   "metadata": {},
   "outputs": [
    {
     "name": "stdout",
     "output_type": "stream",
     "text": [
      "Column month removed !\n"
     ]
    }
   ],
   "source": [
    "### Removing highly correlated features\n",
    "corr_threshold = 0.7\n",
    "fraud_df_mv_b_nc = remove_high_correlations(fraud_df_mv_b, corr_threshold, 'fraud_bool')"
   ]
  },
  {
   "cell_type": "code",
   "execution_count": 13,
   "metadata": {},
   "outputs": [
    {
     "data": {
      "text/plain": [
       "Index(['fraud_bool', 'income', 'name_email_similarity',\n",
       "       'current_address_months_count', 'customer_age', 'days_since_request',\n",
       "       'intended_balcon_amount', 'payment_type', 'zip_count_4w', 'velocity_6h',\n",
       "       'velocity_24h', 'velocity_4w', 'bank_branch_count_8w',\n",
       "       'date_of_birth_distinct_emails_4w', 'employment_status',\n",
       "       'credit_risk_score', 'email_is_free', 'housing_status',\n",
       "       'phone_home_valid', 'phone_mobile_valid', 'bank_months_count',\n",
       "       'has_other_cards', 'proposed_credit_limit', 'foreign_request', 'source',\n",
       "       'session_length_in_minutes', 'device_os', 'keep_alive_session',\n",
       "       'device_distinct_emails_8w', 'device_fraud_count'],\n",
       "      dtype='object')"
      ]
     },
     "execution_count": 13,
     "metadata": {},
     "output_type": "execute_result"
    }
   ],
   "source": [
    "fraud_df_mv_b_nc.columns"
   ]
  },
  {
   "cell_type": "code",
   "execution_count": 14,
   "metadata": {},
   "outputs": [
    {
     "data": {
      "application/vnd.plotly.v1+json": {
       "config": {
        "plotlyServerURL": "https://plot.ly"
       },
       "data": [
        {
         "type": "bar",
         "x": [
          -0.48740341730259024,
          -0.2976529513467272,
          -0.23889116613040196,
          -0.21494677651576719,
          -0.20632193713898248,
          -0.19721218638355198,
          -0.19327179630587263,
          -0.17559693518918304,
          -0.17241001862897137,
          -0.17092164025374523,
          -0.16468413039175908,
          -0.16324668615489843,
          -0.15289716114124646,
          -0.12739167335882368,
          -0.1190821617263457,
          -0.11576049538117819,
          -0.11424765355123341,
          -0.11312789494924855,
          -0.10919086176841125,
          -0.10531863352549356,
          -0.09581092799568144,
          -0.09495516826876102,
          -0.0943757905294561,
          -0.09257952516773568,
          -0.09126368805350434,
          -0.08333579821684343,
          -0.08168309340142646,
          -0.08138929562334535,
          -0.08120145596526941,
          -0.08070703460321428,
          -0.08069105757232733,
          -0.08016000688423022,
          -0.07050562244115012,
          -0.06973530051871303,
          -0.06701570132921537,
          -0.06618218650439216,
          -0.06308653797051114,
          -0.06251816745526147,
          -0.06089719405297174,
          -0.05894793205442287,
          -0.05867628742999855,
          -0.05791162169702633,
          -0.057897420064788506,
          -0.05582823023590886,
          -0.055633161937207756,
          -0.055441678038608076,
          -0.05430813900144338,
          -0.0540499469026675,
          -0.05234608198661177,
          -0.05198148855310227,
          -0.050398083375386205,
          -0.04860987707109929,
          -0.04747480061280301,
          -0.04575222118486236,
          -0.04501765209030906,
          -0.04454333934688054,
          -0.0443522850836699,
          -0.04137341790647288,
          -0.03806124571442311,
          -0.03787625145618909,
          -0.037456250422825965,
          -0.03624813536189194,
          -0.035617876719461,
          -0.03558839345839763,
          -0.03545558541156413,
          -0.03482670753843386,
          -0.03473215035185799,
          -0.0346295907979046,
          -0.03384031955516192,
          -0.033585447806306554,
          -0.03283969079347865,
          -0.03023714325605262,
          -0.029579063373012675,
          -0.029263893308131613,
          -0.027384838144275548,
          -0.026858875201736895,
          -0.02554935602120629,
          -0.025495727667007004,
          -0.02366049214028666,
          -0.02236974653268418,
          -0.021179478046499233,
          -0.018837524964464336,
          -0.018379312963436967,
          -0.017933592381346276,
          -0.017728258918965466,
          -0.016264403000785396,
          -0.016230338629126505,
          -0.01586751069922197,
          -0.015825521571853348,
          -0.015645660793253604,
          -0.015551676147601699,
          -0.014772127709916438,
          -0.014617635074053052,
          -0.014383692198518554,
          -0.012364107085161514,
          -0.011732767379742217,
          -0.010977223008773088,
          -0.0104399386980702,
          -0.008242323142752965,
          -0.008049934356531481,
          -0.007772418372606881,
          -0.00720238713831507,
          -0.006807614650989005,
          -0.006164375983658806,
          -0.005494880482213712,
          -0.005341661076221529,
          -0.004975039497689029,
          -0.004469895809458342,
          -0.003646030468085849,
          -0.002887598657113476,
          -0.001905544360461739,
          -0.0017969300915239305,
          -0.0011872892502271081,
          -0.0007165965308354207,
          -0.0005432971372190416,
          0.001102073051145007,
          0.0014656107680174806,
          0.0015417890866733805,
          0.0018830343462480986,
          0.0027702418691042583,
          0.0028386102305415673,
          0.002948832648693545,
          0.0031095749170350455,
          0.005061667493076109,
          0.005680014176165108,
          0.0062578728389614995,
          0.00637943173663539,
          0.006461726619293732,
          0.0068186115949552435,
          0.007076612517307246,
          0.007742047844342163,
          0.00845340579844889,
          0.008742191864620913,
          0.009115217154820053,
          0.009613109789603664,
          0.009877679417992911,
          0.01000533331869322,
          0.010516259839931619,
          0.011003001826541339,
          0.011640695971160018,
          0.011864885984455054,
          0.011877167691444274,
          0.01201376790821285,
          0.012554090417384107,
          0.01259270861758888,
          0.012896478695122731,
          0.0130024184712799,
          0.013134284928622958,
          0.013709573610391842,
          0.01383879582299776,
          0.013945779963044469,
          0.014125481832491533,
          0.014535750309284272,
          0.01461190648942801,
          0.014695200785363424,
          0.014890905708935804,
          0.015046039119469553,
          0.01511684951858103,
          0.015302384953508528,
          0.0154170906711522,
          0.015426732926266883,
          0.01547211376596247,
          0.015727846011103934,
          0.015830102567780186,
          0.016390563597375837,
          0.016626942052672358,
          0.01686974548284391,
          0.01778801455174677,
          0.017817566345903403,
          0.01841011763674142,
          0.018621625850864774,
          0.018787160331607766,
          0.018977731613288487,
          0.019198012660446226,
          0.019339547617339962,
          0.019672526057369227,
          0.019747633141544218,
          0.01997212731644682,
          0.02043377823368135,
          0.020746344463912943,
          0.020983180757517306,
          0.021145659269498948,
          0.02184162220499027,
          0.02334093846959073,
          0.023993893563617,
          0.024548772008372837,
          0.024847873183857706,
          0.025106114285954093,
          0.0264252576630413,
          0.027383414300458618,
          0.027645308602977366,
          0.02777694491503148,
          0.02794605440229258,
          0.02840135371206551,
          0.029843835815517857,
          0.0302386725881412,
          0.03092284723458049,
          0.03282884409787755,
          0.03314033444551802,
          0.033820205088946356,
          0.033834248183400153,
          0.03594978793672983,
          0.03651387552891764,
          0.03705829489720185,
          0.0376645610341473,
          0.037989571723881274,
          0.0381652176137706,
          0.03860080740283984,
          0.03887957093836655,
          0.04060446004525733,
          0.040639097147952184,
          0.04095326374473498,
          0.04135023366009523,
          0.042114017746961545,
          0.04270288249436104,
          0.043092528797685756,
          0.04317310385321062,
          0.044465825593573434,
          0.04536874840968845,
          0.04780039986354406,
          0.04859665533816339,
          0.04934742156085328,
          0.04993526608782798,
          0.05000381480415493,
          0.050501784492626565,
          0.050774793312627506,
          0.051209161123073686,
          0.051356188802611384,
          0.05256317837303528,
          0.053676334358913814,
          0.05598443003003922,
          0.0562792422423834,
          0.058153146020065265,
          0.0615260959856007,
          0.063461531032488,
          0.06621272116709098,
          0.06795827027900898,
          0.07254529967348637,
          0.07312940709590637,
          0.08603293334547583,
          0.09159438075794343,
          0.09416282924365635,
          0.09610836413541302,
          0.10066238248950343,
          0.10533187180861721,
          0.10611077648237288,
          0.10848398279267045,
          0.11588520608609945,
          0.11619635647364925,
          0.1175768108933556,
          0.12871496254262302,
          0.13212613981528412,
          0.1363185888086384,
          0.13822421246069738,
          0.1467689834382165,
          0.1500619798083174,
          0.15600059479796616,
          0.1604846038204626,
          0.1608588615826928,
          0.16891990583379077,
          0.17808230620059481,
          0.19785487905781732,
          0.2036978308150689,
          0.2087008880261969,
          0.2129384287290056,
          0.2199338834242686,
          0.22809664451469394,
          0.23159917960872803,
          0.27237705379553895,
          0.2769418747233257,
          0.29481474185281326,
          0.2968191161867712,
          0.4038713150159923,
          0.46407687898075206,
          0.5438257462080437,
          0.6502604422378491
         ],
         "y": [
          1,
          1,
          1,
          1,
          1,
          1,
          1,
          1,
          1,
          1,
          1,
          1,
          1,
          1,
          1,
          1,
          1,
          1,
          1,
          1,
          1,
          1,
          1,
          1,
          1,
          1,
          1,
          1,
          1,
          1,
          1,
          1,
          1,
          1,
          1,
          1,
          1,
          1,
          1,
          1,
          1,
          1,
          1,
          1,
          1,
          1,
          1,
          1,
          1,
          1,
          1,
          1,
          1,
          1,
          1,
          1,
          1,
          1,
          1,
          1,
          1,
          1,
          1,
          1,
          1,
          1,
          1,
          1,
          1,
          1,
          1,
          1,
          1,
          1,
          1,
          1,
          1,
          1,
          1,
          1,
          1,
          1,
          1,
          1,
          1,
          1,
          1,
          1,
          1,
          1,
          1,
          1,
          1,
          1,
          1,
          1,
          1,
          1,
          1,
          1,
          1,
          1,
          1,
          1,
          1,
          1,
          1,
          1,
          1,
          1,
          1,
          1,
          1,
          1,
          1,
          1,
          1,
          1,
          1,
          1,
          1,
          1,
          1,
          1,
          1,
          1,
          1,
          1,
          1,
          1,
          1,
          1,
          1,
          1,
          1,
          1,
          1,
          1,
          1,
          1,
          1,
          1,
          1,
          1,
          1,
          1,
          1,
          1,
          1,
          1,
          1,
          1,
          1,
          1,
          1,
          1,
          1,
          1,
          1,
          1,
          1,
          1,
          1,
          1,
          1,
          1,
          1,
          1,
          1,
          1,
          1,
          1,
          1,
          1,
          1,
          1,
          1,
          1,
          1,
          1,
          1,
          1,
          1,
          1,
          1,
          1,
          1,
          1,
          1,
          1,
          1,
          1,
          1,
          1,
          1,
          1,
          1,
          1,
          1,
          1,
          1,
          1,
          1,
          1,
          1,
          1,
          1,
          1,
          1,
          1,
          1,
          1,
          1,
          1,
          1,
          1,
          1,
          1,
          1,
          1,
          1,
          1,
          1,
          1,
          1,
          1,
          1,
          1,
          1,
          1,
          1,
          1,
          1,
          1,
          1,
          1,
          1,
          1,
          1,
          1,
          1,
          1,
          1,
          1,
          1,
          1,
          1,
          1,
          1,
          1,
          1,
          1,
          1,
          1,
          1,
          1,
          1,
          1,
          1,
          1,
          1,
          1,
          1,
          1,
          1,
          1,
          1,
          1,
          1,
          1,
          1,
          1,
          1,
          1,
          1,
          1
         ]
        }
       ],
       "layout": {
        "paper_bgcolor": "rgba(0,0,0,0)",
        "plot_bgcolor": "rgba(0,0,0,0)",
        "template": {
         "data": {
          "bar": [
           {
            "error_x": {
             "color": "#2a3f5f"
            },
            "error_y": {
             "color": "#2a3f5f"
            },
            "marker": {
             "line": {
              "color": "#E5ECF6",
              "width": 0.5
             },
             "pattern": {
              "fillmode": "overlay",
              "size": 10,
              "solidity": 0.2
             }
            },
            "type": "bar"
           }
          ],
          "barpolar": [
           {
            "marker": {
             "line": {
              "color": "#E5ECF6",
              "width": 0.5
             },
             "pattern": {
              "fillmode": "overlay",
              "size": 10,
              "solidity": 0.2
             }
            },
            "type": "barpolar"
           }
          ],
          "carpet": [
           {
            "aaxis": {
             "endlinecolor": "#2a3f5f",
             "gridcolor": "white",
             "linecolor": "white",
             "minorgridcolor": "white",
             "startlinecolor": "#2a3f5f"
            },
            "baxis": {
             "endlinecolor": "#2a3f5f",
             "gridcolor": "white",
             "linecolor": "white",
             "minorgridcolor": "white",
             "startlinecolor": "#2a3f5f"
            },
            "type": "carpet"
           }
          ],
          "choropleth": [
           {
            "colorbar": {
             "outlinewidth": 0,
             "ticks": ""
            },
            "type": "choropleth"
           }
          ],
          "contour": [
           {
            "colorbar": {
             "outlinewidth": 0,
             "ticks": ""
            },
            "colorscale": [
             [
              0,
              "#0d0887"
             ],
             [
              0.1111111111111111,
              "#46039f"
             ],
             [
              0.2222222222222222,
              "#7201a8"
             ],
             [
              0.3333333333333333,
              "#9c179e"
             ],
             [
              0.4444444444444444,
              "#bd3786"
             ],
             [
              0.5555555555555556,
              "#d8576b"
             ],
             [
              0.6666666666666666,
              "#ed7953"
             ],
             [
              0.7777777777777778,
              "#fb9f3a"
             ],
             [
              0.8888888888888888,
              "#fdca26"
             ],
             [
              1,
              "#f0f921"
             ]
            ],
            "type": "contour"
           }
          ],
          "contourcarpet": [
           {
            "colorbar": {
             "outlinewidth": 0,
             "ticks": ""
            },
            "type": "contourcarpet"
           }
          ],
          "heatmap": [
           {
            "colorbar": {
             "outlinewidth": 0,
             "ticks": ""
            },
            "colorscale": [
             [
              0,
              "#0d0887"
             ],
             [
              0.1111111111111111,
              "#46039f"
             ],
             [
              0.2222222222222222,
              "#7201a8"
             ],
             [
              0.3333333333333333,
              "#9c179e"
             ],
             [
              0.4444444444444444,
              "#bd3786"
             ],
             [
              0.5555555555555556,
              "#d8576b"
             ],
             [
              0.6666666666666666,
              "#ed7953"
             ],
             [
              0.7777777777777778,
              "#fb9f3a"
             ],
             [
              0.8888888888888888,
              "#fdca26"
             ],
             [
              1,
              "#f0f921"
             ]
            ],
            "type": "heatmap"
           }
          ],
          "heatmapgl": [
           {
            "colorbar": {
             "outlinewidth": 0,
             "ticks": ""
            },
            "colorscale": [
             [
              0,
              "#0d0887"
             ],
             [
              0.1111111111111111,
              "#46039f"
             ],
             [
              0.2222222222222222,
              "#7201a8"
             ],
             [
              0.3333333333333333,
              "#9c179e"
             ],
             [
              0.4444444444444444,
              "#bd3786"
             ],
             [
              0.5555555555555556,
              "#d8576b"
             ],
             [
              0.6666666666666666,
              "#ed7953"
             ],
             [
              0.7777777777777778,
              "#fb9f3a"
             ],
             [
              0.8888888888888888,
              "#fdca26"
             ],
             [
              1,
              "#f0f921"
             ]
            ],
            "type": "heatmapgl"
           }
          ],
          "histogram": [
           {
            "marker": {
             "pattern": {
              "fillmode": "overlay",
              "size": 10,
              "solidity": 0.2
             }
            },
            "type": "histogram"
           }
          ],
          "histogram2d": [
           {
            "colorbar": {
             "outlinewidth": 0,
             "ticks": ""
            },
            "colorscale": [
             [
              0,
              "#0d0887"
             ],
             [
              0.1111111111111111,
              "#46039f"
             ],
             [
              0.2222222222222222,
              "#7201a8"
             ],
             [
              0.3333333333333333,
              "#9c179e"
             ],
             [
              0.4444444444444444,
              "#bd3786"
             ],
             [
              0.5555555555555556,
              "#d8576b"
             ],
             [
              0.6666666666666666,
              "#ed7953"
             ],
             [
              0.7777777777777778,
              "#fb9f3a"
             ],
             [
              0.8888888888888888,
              "#fdca26"
             ],
             [
              1,
              "#f0f921"
             ]
            ],
            "type": "histogram2d"
           }
          ],
          "histogram2dcontour": [
           {
            "colorbar": {
             "outlinewidth": 0,
             "ticks": ""
            },
            "colorscale": [
             [
              0,
              "#0d0887"
             ],
             [
              0.1111111111111111,
              "#46039f"
             ],
             [
              0.2222222222222222,
              "#7201a8"
             ],
             [
              0.3333333333333333,
              "#9c179e"
             ],
             [
              0.4444444444444444,
              "#bd3786"
             ],
             [
              0.5555555555555556,
              "#d8576b"
             ],
             [
              0.6666666666666666,
              "#ed7953"
             ],
             [
              0.7777777777777778,
              "#fb9f3a"
             ],
             [
              0.8888888888888888,
              "#fdca26"
             ],
             [
              1,
              "#f0f921"
             ]
            ],
            "type": "histogram2dcontour"
           }
          ],
          "mesh3d": [
           {
            "colorbar": {
             "outlinewidth": 0,
             "ticks": ""
            },
            "type": "mesh3d"
           }
          ],
          "parcoords": [
           {
            "line": {
             "colorbar": {
              "outlinewidth": 0,
              "ticks": ""
             }
            },
            "type": "parcoords"
           }
          ],
          "pie": [
           {
            "automargin": true,
            "type": "pie"
           }
          ],
          "scatter": [
           {
            "fillpattern": {
             "fillmode": "overlay",
             "size": 10,
             "solidity": 0.2
            },
            "type": "scatter"
           }
          ],
          "scatter3d": [
           {
            "line": {
             "colorbar": {
              "outlinewidth": 0,
              "ticks": ""
             }
            },
            "marker": {
             "colorbar": {
              "outlinewidth": 0,
              "ticks": ""
             }
            },
            "type": "scatter3d"
           }
          ],
          "scattercarpet": [
           {
            "marker": {
             "colorbar": {
              "outlinewidth": 0,
              "ticks": ""
             }
            },
            "type": "scattercarpet"
           }
          ],
          "scattergeo": [
           {
            "marker": {
             "colorbar": {
              "outlinewidth": 0,
              "ticks": ""
             }
            },
            "type": "scattergeo"
           }
          ],
          "scattergl": [
           {
            "marker": {
             "colorbar": {
              "outlinewidth": 0,
              "ticks": ""
             }
            },
            "type": "scattergl"
           }
          ],
          "scattermapbox": [
           {
            "marker": {
             "colorbar": {
              "outlinewidth": 0,
              "ticks": ""
             }
            },
            "type": "scattermapbox"
           }
          ],
          "scatterpolar": [
           {
            "marker": {
             "colorbar": {
              "outlinewidth": 0,
              "ticks": ""
             }
            },
            "type": "scatterpolar"
           }
          ],
          "scatterpolargl": [
           {
            "marker": {
             "colorbar": {
              "outlinewidth": 0,
              "ticks": ""
             }
            },
            "type": "scatterpolargl"
           }
          ],
          "scatterternary": [
           {
            "marker": {
             "colorbar": {
              "outlinewidth": 0,
              "ticks": ""
             }
            },
            "type": "scatterternary"
           }
          ],
          "surface": [
           {
            "colorbar": {
             "outlinewidth": 0,
             "ticks": ""
            },
            "colorscale": [
             [
              0,
              "#0d0887"
             ],
             [
              0.1111111111111111,
              "#46039f"
             ],
             [
              0.2222222222222222,
              "#7201a8"
             ],
             [
              0.3333333333333333,
              "#9c179e"
             ],
             [
              0.4444444444444444,
              "#bd3786"
             ],
             [
              0.5555555555555556,
              "#d8576b"
             ],
             [
              0.6666666666666666,
              "#ed7953"
             ],
             [
              0.7777777777777778,
              "#fb9f3a"
             ],
             [
              0.8888888888888888,
              "#fdca26"
             ],
             [
              1,
              "#f0f921"
             ]
            ],
            "type": "surface"
           }
          ],
          "table": [
           {
            "cells": {
             "fill": {
              "color": "#EBF0F8"
             },
             "line": {
              "color": "white"
             }
            },
            "header": {
             "fill": {
              "color": "#C8D4E3"
             },
             "line": {
              "color": "white"
             }
            },
            "type": "table"
           }
          ]
         },
         "layout": {
          "annotationdefaults": {
           "arrowcolor": "#2a3f5f",
           "arrowhead": 0,
           "arrowwidth": 1
          },
          "autotypenumbers": "strict",
          "coloraxis": {
           "colorbar": {
            "outlinewidth": 0,
            "ticks": ""
           }
          },
          "colorscale": {
           "diverging": [
            [
             0,
             "#8e0152"
            ],
            [
             0.1,
             "#c51b7d"
            ],
            [
             0.2,
             "#de77ae"
            ],
            [
             0.3,
             "#f1b6da"
            ],
            [
             0.4,
             "#fde0ef"
            ],
            [
             0.5,
             "#f7f7f7"
            ],
            [
             0.6,
             "#e6f5d0"
            ],
            [
             0.7,
             "#b8e186"
            ],
            [
             0.8,
             "#7fbc41"
            ],
            [
             0.9,
             "#4d9221"
            ],
            [
             1,
             "#276419"
            ]
           ],
           "sequential": [
            [
             0,
             "#0d0887"
            ],
            [
             0.1111111111111111,
             "#46039f"
            ],
            [
             0.2222222222222222,
             "#7201a8"
            ],
            [
             0.3333333333333333,
             "#9c179e"
            ],
            [
             0.4444444444444444,
             "#bd3786"
            ],
            [
             0.5555555555555556,
             "#d8576b"
            ],
            [
             0.6666666666666666,
             "#ed7953"
            ],
            [
             0.7777777777777778,
             "#fb9f3a"
            ],
            [
             0.8888888888888888,
             "#fdca26"
            ],
            [
             1,
             "#f0f921"
            ]
           ],
           "sequentialminus": [
            [
             0,
             "#0d0887"
            ],
            [
             0.1111111111111111,
             "#46039f"
            ],
            [
             0.2222222222222222,
             "#7201a8"
            ],
            [
             0.3333333333333333,
             "#9c179e"
            ],
            [
             0.4444444444444444,
             "#bd3786"
            ],
            [
             0.5555555555555556,
             "#d8576b"
            ],
            [
             0.6666666666666666,
             "#ed7953"
            ],
            [
             0.7777777777777778,
             "#fb9f3a"
            ],
            [
             0.8888888888888888,
             "#fdca26"
            ],
            [
             1,
             "#f0f921"
            ]
           ]
          },
          "colorway": [
           "#636efa",
           "#EF553B",
           "#00cc96",
           "#ab63fa",
           "#FFA15A",
           "#19d3f3",
           "#FF6692",
           "#B6E880",
           "#FF97FF",
           "#FECB52"
          ],
          "font": {
           "color": "#2a3f5f"
          },
          "geo": {
           "bgcolor": "white",
           "lakecolor": "white",
           "landcolor": "#E5ECF6",
           "showlakes": true,
           "showland": true,
           "subunitcolor": "white"
          },
          "hoverlabel": {
           "align": "left"
          },
          "hovermode": "closest",
          "mapbox": {
           "style": "light"
          },
          "paper_bgcolor": "white",
          "plot_bgcolor": "#E5ECF6",
          "polar": {
           "angularaxis": {
            "gridcolor": "white",
            "linecolor": "white",
            "ticks": ""
           },
           "bgcolor": "#E5ECF6",
           "radialaxis": {
            "gridcolor": "white",
            "linecolor": "white",
            "ticks": ""
           }
          },
          "scene": {
           "xaxis": {
            "backgroundcolor": "#E5ECF6",
            "gridcolor": "white",
            "gridwidth": 2,
            "linecolor": "white",
            "showbackground": true,
            "ticks": "",
            "zerolinecolor": "white"
           },
           "yaxis": {
            "backgroundcolor": "#E5ECF6",
            "gridcolor": "white",
            "gridwidth": 2,
            "linecolor": "white",
            "showbackground": true,
            "ticks": "",
            "zerolinecolor": "white"
           },
           "zaxis": {
            "backgroundcolor": "#E5ECF6",
            "gridcolor": "white",
            "gridwidth": 2,
            "linecolor": "white",
            "showbackground": true,
            "ticks": "",
            "zerolinecolor": "white"
           }
          },
          "shapedefaults": {
           "line": {
            "color": "#2a3f5f"
           }
          },
          "ternary": {
           "aaxis": {
            "gridcolor": "white",
            "linecolor": "white",
            "ticks": ""
           },
           "baxis": {
            "gridcolor": "white",
            "linecolor": "white",
            "ticks": ""
           },
           "bgcolor": "#E5ECF6",
           "caxis": {
            "gridcolor": "white",
            "linecolor": "white",
            "ticks": ""
           }
          },
          "title": {
           "x": 0.05
          },
          "xaxis": {
           "automargin": true,
           "gridcolor": "white",
           "linecolor": "white",
           "ticks": "",
           "title": {
            "standoff": 15
           },
           "zerolinecolor": "white",
           "zerolinewidth": 2
          },
          "yaxis": {
           "automargin": true,
           "gridcolor": "white",
           "linecolor": "white",
           "ticks": "",
           "title": {
            "standoff": 15
           },
           "zerolinecolor": "white",
           "zerolinewidth": 2
          }
         }
        },
        "title": {
         "text": "Correlation Value Distribution"
        },
        "xaxis": {
         "showgrid": false,
         "tickformat": ".2f",
         "tickvals": [
          -0.49,
          -0.3,
          -0.24,
          -0.21,
          -0.21,
          -0.2,
          -0.19,
          -0.18,
          -0.17,
          -0.17,
          -0.16,
          -0.16,
          -0.15,
          -0.13,
          -0.12,
          -0.12,
          -0.11,
          -0.11,
          -0.11,
          -0.11,
          -0.1,
          -0.09,
          -0.09,
          -0.09,
          -0.09,
          -0.08,
          -0.08,
          -0.08,
          -0.08,
          -0.08,
          -0.08,
          -0.08,
          -0.07,
          -0.07,
          -0.07,
          -0.07,
          -0.06,
          -0.06,
          -0.06,
          -0.06,
          -0.06,
          -0.06,
          -0.06,
          -0.06,
          -0.06,
          -0.06,
          -0.05,
          -0.05,
          -0.05,
          -0.05,
          -0.05,
          -0.05,
          -0.05,
          -0.05,
          -0.05,
          -0.04,
          -0.04,
          -0.04,
          -0.04,
          -0.04,
          -0.04,
          -0.04,
          -0.04,
          -0.04,
          -0.04,
          -0.03,
          -0.03,
          -0.03,
          -0.03,
          -0.03,
          -0.03,
          -0.03,
          -0.03,
          -0.03,
          -0.03,
          -0.03,
          -0.03,
          -0.03,
          -0.02,
          -0.02,
          -0.02,
          -0.02,
          -0.02,
          -0.02,
          -0.02,
          -0.02,
          -0.02,
          -0.02,
          -0.02,
          -0.02,
          -0.02,
          -0.01,
          -0.01,
          -0.01,
          -0.01,
          -0.01,
          -0.01,
          -0.01,
          -0.01,
          -0.01,
          -0.01,
          -0.01,
          -0.01,
          -0.01,
          -0.01,
          -0.01,
          0,
          0,
          0,
          0,
          0,
          0,
          0,
          0,
          0,
          0,
          0,
          0,
          0,
          0,
          0,
          0,
          0,
          0.01,
          0.01,
          0.01,
          0.01,
          0.01,
          0.01,
          0.01,
          0.01,
          0.01,
          0.01,
          0.01,
          0.01,
          0.01,
          0.01,
          0.01,
          0.01,
          0.01,
          0.01,
          0.01,
          0.01,
          0.01,
          0.01,
          0.01,
          0.01,
          0.01,
          0.01,
          0.01,
          0.01,
          0.01,
          0.01,
          0.01,
          0.01,
          0.01,
          0.02,
          0.02,
          0.02,
          0.02,
          0.02,
          0.02,
          0.02,
          0.02,
          0.02,
          0.02,
          0.02,
          0.02,
          0.02,
          0.02,
          0.02,
          0.02,
          0.02,
          0.02,
          0.02,
          0.02,
          0.02,
          0.02,
          0.02,
          0.02,
          0.02,
          0.02,
          0.02,
          0.02,
          0.02,
          0.02,
          0.02,
          0.03,
          0.03,
          0.03,
          0.03,
          0.03,
          0.03,
          0.03,
          0.03,
          0.03,
          0.03,
          0.03,
          0.03,
          0.03,
          0.03,
          0.04,
          0.04,
          0.04,
          0.04,
          0.04,
          0.04,
          0.04,
          0.04,
          0.04,
          0.04,
          0.04,
          0.04,
          0.04,
          0.04,
          0.04,
          0.04,
          0.04,
          0.05,
          0.05,
          0.05,
          0.05,
          0.05,
          0.05,
          0.05,
          0.05,
          0.05,
          0.05,
          0.05,
          0.05,
          0.06,
          0.06,
          0.06,
          0.06,
          0.06,
          0.07,
          0.07,
          0.07,
          0.07,
          0.09,
          0.09,
          0.09,
          0.1,
          0.1,
          0.11,
          0.11,
          0.11,
          0.12,
          0.12,
          0.12,
          0.13,
          0.13,
          0.14,
          0.14,
          0.15,
          0.15,
          0.16,
          0.16,
          0.16,
          0.17,
          0.18,
          0.2,
          0.2,
          0.21,
          0.21,
          0.22,
          0.23,
          0.23,
          0.27,
          0.28,
          0.29,
          0.3,
          0.4,
          0.46,
          0.54,
          0.65
         ],
         "title": {
          "text": "Correlation Value"
         }
        },
        "yaxis": {
         "showgrid": false,
         "title": {
          "text": "Frequency"
         }
        }
       }
      }
     },
     "metadata": {},
     "output_type": "display_data"
    }
   ],
   "source": [
    "display_corr_distribution(fraud_df_mv_b_nc)"
   ]
  },
  {
   "cell_type": "code",
   "execution_count": 15,
   "metadata": {},
   "outputs": [],
   "source": [
    "### (Optional) Save as a CSV file\n",
    "fraud_df_mv_b_nc.to_csv('data/fraud_df_mv_b_nc.csv',index=False)"
   ]
  }
 ],
 "metadata": {
  "kernelspec": {
   "display_name": "fraud_detection",
   "language": "python",
   "name": "python3"
  },
  "language_info": {
   "codemirror_mode": {
    "name": "ipython",
    "version": 3
   },
   "file_extension": ".py",
   "mimetype": "text/x-python",
   "name": "python",
   "nbconvert_exporter": "python",
   "pygments_lexer": "ipython3",
   "version": "3.11.10"
  }
 },
 "nbformat": 4,
 "nbformat_minor": 2
}
