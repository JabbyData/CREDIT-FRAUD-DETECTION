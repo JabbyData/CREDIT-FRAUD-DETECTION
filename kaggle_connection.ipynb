{
 "cells": [
  {
   "cell_type": "code",
   "execution_count": 17,
   "metadata": {},
   "outputs": [],
   "source": [
    "### Dependencies ###\n",
    "import kaggle\n",
    "from kaggle.api.kaggle_api_extended import KaggleApi\n",
    "import pandas as pd"
   ]
  },
  {
   "cell_type": "code",
   "execution_count": 18,
   "metadata": {},
   "outputs": [
    {
     "name": "stderr",
     "output_type": "stream",
     "text": [
      "usage: kaggle [-h] [-v] [-W]\n",
      "              {competitions,c,datasets,d,kernels,k,models,m,files,f,config}\n",
      "              ...\n",
      "kaggle: error: argument command: invalid choice: 'command' (choose from 'competitions', 'c', 'datasets', 'd', 'kernels', 'k', 'models', 'm', 'files', 'f', 'config')\n"
     ]
    },
    {
     "data": {
      "text/plain": [
       "512"
      ]
     },
     "execution_count": 18,
     "metadata": {},
     "output_type": "execute_result"
    }
   ],
   "source": [
    "### Connection ###\n",
    "api = KaggleApi()\n",
    "api.authenticate()"
   ]
  },
  {
   "cell_type": "code",
   "execution_count": 26,
   "metadata": {},
   "outputs": [
    {
     "ename": "TypeError",
     "evalue": "'datetime.datetime' object is not subscriptable",
     "output_type": "error",
     "traceback": [
      "\u001b[0;31m---------------------------------------------------------------------------\u001b[0m",
      "\u001b[0;31mTypeError\u001b[0m                                 Traceback (most recent call last)",
      "Cell \u001b[0;32mIn[26], line 7\u001b[0m\n\u001b[1;32m      5\u001b[0m \u001b[38;5;28;01mfor\u001b[39;00m fds \u001b[38;5;129;01min\u001b[39;00m fraud_datasets:\n\u001b[1;32m      6\u001b[0m     ds_vars \u001b[38;5;241m=\u001b[39m \u001b[38;5;28mvars\u001b[39m(fds)\n\u001b[0;32m----> 7\u001b[0m     \u001b[38;5;28;01mif\u001b[39;00m \u001b[38;5;28mint\u001b[39m(ds_vars[\u001b[38;5;124m'\u001b[39m\u001b[38;5;124musabilityRating\u001b[39m\u001b[38;5;124m'\u001b[39m]) \u001b[38;5;241m>\u001b[39m \u001b[38;5;241m0.8\u001b[39m \u001b[38;5;129;01mand\u001b[39;00m ds_vars[\u001b[38;5;124m'\u001b[39m\u001b[38;5;124msize\u001b[39m\u001b[38;5;124m'\u001b[39m][\u001b[38;5;241m-\u001b[39m\u001b[38;5;241m2\u001b[39m] \u001b[38;5;129;01min\u001b[39;00m (\u001b[38;5;124m'\u001b[39m\u001b[38;5;124mM\u001b[39m\u001b[38;5;124m'\u001b[39m,\u001b[38;5;124m'\u001b[39m\u001b[38;5;124mG\u001b[39m\u001b[38;5;124m'\u001b[39m) \u001b[38;5;129;01mand\u001b[39;00m \u001b[38;5;28mint\u001b[39m(ds_vars[\u001b[38;5;124m'\u001b[39m\u001b[38;5;124msize\u001b[39m\u001b[38;5;124m'\u001b[39m][:\u001b[38;5;241m-\u001b[39m\u001b[38;5;241m2\u001b[39m]) \u001b[38;5;241m>\u001b[39m \u001b[38;5;241m100\u001b[39m \u001b[38;5;129;01mand\u001b[39;00m \u001b[38;5;28mint\u001b[39m(\u001b[43mds_vars\u001b[49m\u001b[43m[\u001b[49m\u001b[38;5;124;43m'\u001b[39;49m\u001b[38;5;124;43mlastUpdated\u001b[39;49m\u001b[38;5;124;43m'\u001b[39;49m\u001b[43m]\u001b[49m\u001b[43m[\u001b[49m\u001b[43m:\u001b[49m\u001b[38;5;241;43m4\u001b[39;49m\u001b[43m]\u001b[49m) \u001b[38;5;241m>\u001b[39m \u001b[38;5;241m2022\u001b[39m :\n\u001b[1;32m      8\u001b[0m         valid_datasets\u001b[38;5;241m.\u001b[39mappend(fds\u001b[38;5;241m.\u001b[39mref)\n\u001b[1;32m     10\u001b[0m valid_datasets\n",
      "\u001b[0;31mTypeError\u001b[0m: 'datetime.datetime' object is not subscriptable"
     ]
    }
   ],
   "source": [
    "# Getting more info about datasets\n",
    "kaggle.api.authenticate()\n",
    "fraud_datasets = kaggle.api.dataset_list(sort_by='hottest',search='fraud',min_size=150000)\n",
    "valid_datasets = []\n",
    "for fds in fraud_datasets:\n",
    "    ds_vars = vars(fds)\n",
    "    if int(ds_vars['usabilityRating']) > 0.8 and ds_vars['size'][-2] in ('M','G') and int(ds_vars['size'][:-2]) > 100 and int(ds_vars['lastUpdated'][:4]) > 2022 :\n",
    "        valid_datasets.append(fds.ref)\n",
    "\n",
    "valid_datasets\n"
   ]
  },
  {
   "cell_type": "code",
   "execution_count": 19,
   "metadata": {},
   "outputs": [
    {
     "ename": "TypeError",
     "evalue": "KaggleApi.dataset_metadata() missing 1 required positional argument: 'path'",
     "output_type": "error",
     "traceback": [
      "\u001b[0;31m---------------------------------------------------------------------------\u001b[0m",
      "\u001b[0;31mTypeError\u001b[0m                                 Traceback (most recent call last)",
      "Cell \u001b[0;32mIn[19], line 4\u001b[0m\n\u001b[1;32m      2\u001b[0m fraud_datasets \u001b[38;5;241m=\u001b[39m api\u001b[38;5;241m.\u001b[39mdataset_list(sort_by\u001b[38;5;241m=\u001b[39m\u001b[38;5;124m'\u001b[39m\u001b[38;5;124mhottest\u001b[39m\u001b[38;5;124m'\u001b[39m,search\u001b[38;5;241m=\u001b[39m\u001b[38;5;124m'\u001b[39m\u001b[38;5;124mfraud\u001b[39m\u001b[38;5;124m'\u001b[39m,min_size\u001b[38;5;241m=\u001b[39m\u001b[38;5;241m150000\u001b[39m)\n\u001b[1;32m      3\u001b[0m \u001b[38;5;28;01mfor\u001b[39;00m fds \u001b[38;5;129;01min\u001b[39;00m fraud_datasets:\n\u001b[0;32m----> 4\u001b[0m     meta \u001b[38;5;241m=\u001b[39m \u001b[43mapi\u001b[49m\u001b[38;5;241;43m.\u001b[39;49m\u001b[43mdataset_metadata\u001b[49m\u001b[43m(\u001b[49m\u001b[43mfds\u001b[49m\u001b[38;5;241;43m.\u001b[39;49m\u001b[43mref\u001b[49m\u001b[43m)\u001b[49m\n\u001b[1;32m      5\u001b[0m     \u001b[38;5;28mprint\u001b[39m(meta)\n",
      "\u001b[0;31mTypeError\u001b[0m: KaggleApi.dataset_metadata() missing 1 required positional argument: 'path'"
     ]
    }
   ],
   "source": [
    "### Choosing the best dataset ###\n",
    "fraud_datasets = api.dataset_list(sort_by='hottest',search='fraud',min_size=150000)\n",
    "for fds in fraud_datasets:\n",
    "    meta = api.dataset_metadata(fds.ref)\n",
    "    print(meta)"
   ]
  }
 ],
 "metadata": {
  "kernelspec": {
   "display_name": "base",
   "language": "python",
   "name": "python3"
  },
  "language_info": {
   "codemirror_mode": {
    "name": "ipython",
    "version": 3
   },
   "file_extension": ".py",
   "mimetype": "text/x-python",
   "name": "python",
   "nbconvert_exporter": "python",
   "pygments_lexer": "ipython3",
   "version": "3.10.14"
  }
 },
 "nbformat": 4,
 "nbformat_minor": 2
}
