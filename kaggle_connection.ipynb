{
 "cells": [
  {
   "cell_type": "code",
   "execution_count": 7,
   "metadata": {},
   "outputs": [],
   "source": [
    "### Dependencies ###\n",
    "import kaggle\n",
    "from kaggle.api.kaggle_api_extended import KaggleApi\n",
    "import pandas as pd\n",
    "import os\n",
    "import zipfile"
   ]
  },
  {
   "cell_type": "code",
   "execution_count": 8,
   "metadata": {},
   "outputs": [],
   "source": [
    "### Connection ###\n",
    "\n",
    "api = KaggleApi()\n",
    "api.authenticate()"
   ]
  },
  {
   "cell_type": "code",
   "execution_count": 9,
   "metadata": {},
   "outputs": [
    {
     "name": "stdout",
     "output_type": "stream",
     "text": [
      "subtitleNullable : Biased, Imbalanced, Dynamic Tabular Datasets for ML Evaluation.\n",
      "creatorNameNullable : Sérgio Jesus\n",
      "creatorUrlNullable : sgpjesus\n",
      "totalBytesNullable : 558054164\n",
      "urlNullable : https://www.kaggle.com/datasets/sgpjesus/bank-account-fraud-dataset-neurips-2022\n",
      "licenseNameNullable : CC BY-NC-SA 4.0\n",
      "descriptionNullable : None\n",
      "ownerNameNullable : Sérgio Jesus\n",
      "ownerRefNullable : sgpjesus\n",
      "titleNullable : Bank Account Fraud Dataset Suite (NeurIPS 2022)\n",
      "currentVersionNumberNullable : 2\n",
      "usabilityRatingNullable : 1.0\n",
      "id : 2673949\n",
      "ref : sgpjesus/bank-account-fraud-dataset-neurips-2022\n",
      "subtitle : Biased, Imbalanced, Dynamic Tabular Datasets for ML Evaluation.\n",
      "hasSubtitle : True\n",
      "creatorName : Sérgio Jesus\n",
      "hasCreatorName : True\n",
      "creatorUrl : sgpjesus\n",
      "hasCreatorUrl : True\n",
      "totalBytes : 558054164\n",
      "hasTotalBytes : True\n",
      "url : https://www.kaggle.com/datasets/sgpjesus/bank-account-fraud-dataset-neurips-2022\n",
      "hasUrl : True\n",
      "lastUpdated : 2023-11-29 11:32:12\n",
      "downloadCount : 10207\n",
      "isPrivate : False\n",
      "isFeatured : False\n",
      "licenseName : CC BY-NC-SA 4.0\n",
      "hasLicenseName : True\n",
      "description : \n",
      "hasDescription : False\n",
      "ownerName : Sérgio Jesus\n",
      "hasOwnerName : True\n",
      "ownerRef : sgpjesus\n",
      "hasOwnerRef : True\n",
      "kernelCount : 29\n",
      "title : Bank Account Fraud Dataset Suite (NeurIPS 2022)\n",
      "hasTitle : True\n",
      "topicCount : 0\n",
      "viewCount : 71467\n",
      "voteCount : 143\n",
      "currentVersionNumber : 2\n",
      "hasCurrentVersionNumber : True\n",
      "usabilityRating : 1.0\n",
      "hasUsabilityRating : True\n",
      "tags : [finance, banking, classification, tabular, ml ethics]\n",
      "files : []\n",
      "versions : []\n",
      "size : 532MB\n",
      "--------------------------------------------\n"
     ]
    }
   ],
   "source": [
    "# Getting more info about datasets\n",
    "\n",
    "# fraud_datasets = api.dataset_list(sort_by='hottest',search='fraud',min_size=150000)\n",
    "# valid_datasets = []\n",
    "# for fds in fraud_datasets:\n",
    "#     ds_vars = vars(fds)\n",
    "#     if int(ds_vars['usabilityRating']) > 0.8 and (ds_vars['size'][-2] == \"M\" and int(ds_vars['size'][:-2]) > 100 or ds_vars['size'][-2] == \"G\") and int(ds_vars['lastUpdated'].year) >= 2022 :\n",
    "#         valid_datasets.append(fds)\n",
    "\n",
    "# for vds in valid_datasets:\n",
    "#     ds_vars = vars(vds)\n",
    "#     for var in ds_vars:\n",
    "#         print(f\"{var} : {ds_vars[var]}\")\n",
    "#     print(\"--------------------------------------------\")\n",
    "\n",
    "ds_vars = vars(api.dataset_list(sort_by='hottest',tag_ids='Banking',min_size=1000000,user='sgpjesus')[0])\n",
    "for var in ds_vars:\n",
    "    print(f\"{var} : {ds_vars[var]}\")\n",
    "print(\"--------------------------------------------\")"
   ]
  },
  {
   "cell_type": "code",
   "execution_count": 10,
   "metadata": {},
   "outputs": [
    {
     "name": "stdout",
     "output_type": "stream",
     "text": [
      "Dataset URL: https://www.kaggle.com/datasets/sgpjesus/bank-account-fraud-dataset-neurips-2022\n"
     ]
    },
    {
     "data": {
      "text/plain": [
       "True"
      ]
     },
     "execution_count": 10,
     "metadata": {},
     "output_type": "execute_result"
    }
   ],
   "source": [
    "### Downloading the specific file ###\n",
    "api.dataset_download_file(dataset='sgpjesus/bank-account-fraud-dataset-neurips-2022',file_name='Base.csv',path='temp/',force=True)"
   ]
  },
  {
   "cell_type": "code",
   "execution_count": 12,
   "metadata": {},
   "outputs": [
    {
     "name": "stdout",
     "output_type": "stream",
     "text": [
      "Extracted all files to data/\n"
     ]
    }
   ],
   "source": [
    "### Unzipping ###\n",
    "zip_file_path = 'temp/Base.csv.zip'\n",
    "extract_to_path = 'data/'\n",
    "\n",
    "# Open the ZIP file\n",
    "with zipfile.ZipFile(zip_file_path, 'r') as zip_ref:\n",
    "    # Extract all contents to the specified directory\n",
    "    zip_ref.extractall(extract_to_path)\n",
    "\n",
    "os.remove(\"temp/Base.csv.zip\")\n",
    "\n",
    "print(f\"Extracted all files to {extract_to_path}\")"
   ]
  }
 ],
 "metadata": {
  "kernelspec": {
   "display_name": "base",
   "language": "python",
   "name": "python3"
  },
  "language_info": {
   "codemirror_mode": {
    "name": "ipython",
    "version": 3
   },
   "file_extension": ".py",
   "mimetype": "text/x-python",
   "name": "python",
   "nbconvert_exporter": "python",
   "pygments_lexer": "ipython3",
   "version": "3.10.14"
  }
 },
 "nbformat": 4,
 "nbformat_minor": 2
}
