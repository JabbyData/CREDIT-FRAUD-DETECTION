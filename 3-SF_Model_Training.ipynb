{
 "cells": [
  {
   "cell_type": "code",
   "execution_count": 32,
   "metadata": {},
   "outputs": [],
   "source": [
    "### Dependencies ###\n",
    "\n",
    "# Snowpark for Python\n",
    "from snowflake.snowpark import Session\n",
    "from snowflake.snowpark.version import VERSION\n",
    "from snowflake.ml.modeling.metrics.correlation import correlation\n",
    "from snowflake.ml.modeling.pipeline import Pipeline\n",
    "from snowflake.ml.modeling.preprocessing import OneHotEncoder, MinMaxScaler\n",
    "\n",
    "# Snowpark ML\n",
    "from snowflake.snowpark.functions import col, count, when, mean, lit, corr\n",
    "from snowflake.snowpark.types import StringType, LongType, DecimalType\n",
    "\n",
    "# Workflow\n",
    "import json\n",
    "import joblib"
   ]
  },
  {
   "cell_type": "code",
   "execution_count": 23,
   "metadata": {},
   "outputs": [],
   "source": [
    "### Secured connection to Snowflake ###\n",
    "connection_parameters = json.load(open('connection.json'))\n",
    "session = Session.builder.configs(connection_parameters).create()\n",
    "session.sql_simplifier_enabled = True\n",
    "\n",
    "database = 'FRAUD_DETECT_DB'\n",
    "schema = 'FRAUD_DETECT_SM'\n",
    "table = 'FRAUD_DATA_CLEANED'\n",
    "input_tbl = f\"{database}.{schema}.{table}\"\n",
    "fraud_data = session.table(input_tbl)\n",
    "#fraud_data.show()"
   ]
  },
  {
   "cell_type": "markdown",
   "metadata": {},
   "source": [
    "Let's start with a Logistic Regression Model"
   ]
  },
  {
   "cell_type": "code",
   "execution_count": 36,
   "metadata": {},
   "outputs": [],
   "source": [
    "### Categorical and Numerical cols\n",
    "cat_cols = [field.name for field in fraud_data.schema.fields if not isinstance(field.datatype,(LongType,DecimalType))]\n",
    "num_cols = [field.name for field in fraud_data.schema.fields if isinstance(field.datatype,LongType)]\n",
    "one_hot_output_cols = [f\"{col}_encoded\" for col in cat_cols]\n",
    "min_max_output_cols = [f\"{col}_scaled\" for col in num_cols]"
   ]
  },
  {
   "cell_type": "code",
   "execution_count": 43,
   "metadata": {},
   "outputs": [
    {
     "name": "stdout",
     "output_type": "stream",
     "text": [
      "File log_reg_pipeline.joblib exists locally.\n",
      "<module 'posixpath' (frozen)>\n",
      "File upload result: [PutResult(source='log_reg_pipeline.joblib', target='log_reg_pipeline.joblib.gz', source_size=2640, target_size=1296, source_compression='NONE', target_compression='GZIP', status='UPLOADED', message='')]\n"
     ]
    }
   ],
   "source": [
    "### Pipeline for data preprocessing ###\n",
    "log_reg_pipeline = Pipeline(steps=\n",
    "                [(\n",
    "                    \"OneHotEncoder\",\n",
    "                    OneHotEncoder(\n",
    "                        input_cols = cat_cols,\n",
    "                        output_cols = one_hot_output_cols\n",
    "                    )\n",
    "                ),\n",
    "                (\n",
    "                    \"MinMaxScale\",\n",
    "                    MinMaxScaler(\n",
    "                        input_cols = num_cols,\n",
    "                        output_cols = min_max_output_cols\n",
    "                    )\n",
    "                )])\n",
    "\n",
    "PIPELINE_FILE = 'log_reg_pipeline.joblib'\n",
    "joblib.dump(log_reg_pipeline,PIPELINE_FILE) # to serialize job\n",
    "put_result = session.file.put(PIPELINE_FILE, '@FRAUD_DETECT_DB.FRAUD_DETECT_SM.INTERNAL_FRAUD_STG', overwrite=True) # job staged to SF\n",
    "\n",
    "\n",
    "#transformed_fraud_data = log_reg_pipeline.fit(fraud_data).transform(fraud_data)\n",
    "#transformed_fraud_data.show()"
   ]
  },
  {
   "cell_type": "code",
   "execution_count": 39,
   "metadata": {},
   "outputs": [
    {
     "data": {
      "text/plain": [
       "[PutResult(source='log_reg_pipeline.joblib', target='log_reg_pipeline.joblib.gz', source_size=2640, target_size=1296, source_compression='NONE', target_compression='GZIP', status='UPLOADED', message='')]"
      ]
     },
     "execution_count": 39,
     "metadata": {},
     "output_type": "execute_result"
    }
   ],
   "source": [
    "### Train Test Split ###\n"
   ]
  }
 ],
 "metadata": {
  "kernelspec": {
   "display_name": "fd",
   "language": "python",
   "name": "python3"
  },
  "language_info": {
   "codemirror_mode": {
    "name": "ipython",
    "version": 3
   },
   "file_extension": ".py",
   "mimetype": "text/x-python",
   "name": "python",
   "nbconvert_exporter": "python",
   "pygments_lexer": "ipython3",
   "version": "3.11.10"
  }
 },
 "nbformat": 4,
 "nbformat_minor": 2
}
